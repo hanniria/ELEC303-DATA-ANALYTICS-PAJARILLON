{
 "cells": [
  {
   "cell_type": "markdown",
   "id": "294f4ce8-7272-4217-9e02-e9564b682c12",
   "metadata": {},
   "source": [
    "<h1>UK ROAD ACCIDENTS DATA ANALYSIS</h1>\n",
    "<hr>\n",
    "<h2>Inclusive Year: 2019-2022</h2>\n",
    "<h3>Analyst: Maria Louizza B. Pajarillon</h3>"
   ]
  },
  {
   "cell_type": "code",
   "execution_count": 1,
   "id": "1172909c-4be4-4533-a903-3cd874bdc999",
   "metadata": {},
   "outputs": [],
   "source": [
    "import numpy as np\n",
    "import pandas as pd\n",
    "from scipy.stats import f_oneway\n",
    "from scipy import stats"
   ]
  },
  {
   "cell_type": "code",
   "execution_count": 2,
   "id": "bfbae1b0-aa90-457a-8f70-68b71dae8a5f",
   "metadata": {},
   "outputs": [
    {
     "name": "stdout",
     "output_type": "stream",
     "text": [
      "Defaulting to user installation because normal site-packages is not writeable\n",
      "Requirement already satisfied: scipy in c:\\users\\user\\appdata\\roaming\\python\\python313\\site-packages (1.16.1)\n",
      "Requirement already satisfied: numpy<2.6,>=1.25.2 in c:\\users\\user\\appdata\\roaming\\python\\python313\\site-packages (from scipy) (2.3.2)\n",
      "Note: you may need to restart the kernel to use updated packages.\n"
     ]
    },
    {
     "name": "stderr",
     "output_type": "stream",
     "text": [
      "\n",
      "[notice] A new release of pip is available: 24.3.1 -> 25.2\n",
      "[notice] To update, run: python.exe -m pip install --upgrade pip\n"
     ]
    }
   ],
   "source": [
    "pip install scipy"
   ]
  },
  {
   "cell_type": "markdown",
   "id": "a31ef52f-beb2-4f3b-ad6d-490533153949",
   "metadata": {},
   "source": [
    "<h2>Converting CSV file into a Pandas DataFrame</h2>"
   ]
  },
  {
   "cell_type": "code",
   "execution_count": 3,
   "id": "4916eda9-04c9-4e79-a0e9-422d6e48d1a9",
   "metadata": {},
   "outputs": [
    {
     "data": {
      "text/html": [
       "<div>\n",
       "<style scoped>\n",
       "    .dataframe tbody tr th:only-of-type {\n",
       "        vertical-align: middle;\n",
       "    }\n",
       "\n",
       "    .dataframe tbody tr th {\n",
       "        vertical-align: top;\n",
       "    }\n",
       "\n",
       "    .dataframe thead th {\n",
       "        text-align: right;\n",
       "    }\n",
       "</style>\n",
       "<table border=\"1\" class=\"dataframe\">\n",
       "  <thead>\n",
       "    <tr style=\"text-align: right;\">\n",
       "      <th></th>\n",
       "      <th>Index</th>\n",
       "      <th>Accident_Severity</th>\n",
       "      <th>Accident_Date</th>\n",
       "      <th>Latitude</th>\n",
       "      <th>Light_Conditions</th>\n",
       "      <th>District_Area</th>\n",
       "      <th>Longitude</th>\n",
       "      <th>Number_of_Casualties</th>\n",
       "      <th>Number_of_Vehicles</th>\n",
       "      <th>Road_Surface_Conditions</th>\n",
       "      <th>Road_Type</th>\n",
       "      <th>Urban_or_Rural_Area</th>\n",
       "      <th>Weather_Conditions</th>\n",
       "      <th>Vehicle_Type</th>\n",
       "    </tr>\n",
       "  </thead>\n",
       "  <tbody>\n",
       "    <tr>\n",
       "      <th>0</th>\n",
       "      <td>200701BS64157</td>\n",
       "      <td>Serious</td>\n",
       "      <td>05/06/2019</td>\n",
       "      <td>51.506187</td>\n",
       "      <td>Darkness - lights lit</td>\n",
       "      <td>Kensington and Chelsea</td>\n",
       "      <td>-0.209082</td>\n",
       "      <td>1</td>\n",
       "      <td>2</td>\n",
       "      <td>Dry</td>\n",
       "      <td>Single carriageway</td>\n",
       "      <td>Urban</td>\n",
       "      <td>Fine no high winds</td>\n",
       "      <td>Car</td>\n",
       "    </tr>\n",
       "    <tr>\n",
       "      <th>1</th>\n",
       "      <td>200701BS65737</td>\n",
       "      <td>Serious</td>\n",
       "      <td>02/07/2019</td>\n",
       "      <td>51.495029</td>\n",
       "      <td>Daylight</td>\n",
       "      <td>Kensington and Chelsea</td>\n",
       "      <td>-0.173647</td>\n",
       "      <td>1</td>\n",
       "      <td>2</td>\n",
       "      <td>Wet or damp</td>\n",
       "      <td>Single carriageway</td>\n",
       "      <td>Urban</td>\n",
       "      <td>Raining no high winds</td>\n",
       "      <td>Car</td>\n",
       "    </tr>\n",
       "    <tr>\n",
       "      <th>2</th>\n",
       "      <td>200701BS66127</td>\n",
       "      <td>Serious</td>\n",
       "      <td>26/08/2019</td>\n",
       "      <td>51.517715</td>\n",
       "      <td>Darkness - lighting unknown</td>\n",
       "      <td>Kensington and Chelsea</td>\n",
       "      <td>-0.210215</td>\n",
       "      <td>1</td>\n",
       "      <td>3</td>\n",
       "      <td>Dry</td>\n",
       "      <td>NaN</td>\n",
       "      <td>Urban</td>\n",
       "      <td>NaN</td>\n",
       "      <td>Taxi/Private hire car</td>\n",
       "    </tr>\n",
       "    <tr>\n",
       "      <th>3</th>\n",
       "      <td>200701BS66128</td>\n",
       "      <td>Serious</td>\n",
       "      <td>16/08/2019</td>\n",
       "      <td>51.495478</td>\n",
       "      <td>Daylight</td>\n",
       "      <td>Kensington and Chelsea</td>\n",
       "      <td>-0.202731</td>\n",
       "      <td>1</td>\n",
       "      <td>4</td>\n",
       "      <td>Dry</td>\n",
       "      <td>Single carriageway</td>\n",
       "      <td>Urban</td>\n",
       "      <td>Fine no high winds</td>\n",
       "      <td>Bus or coach (17 or more pass seats)</td>\n",
       "    </tr>\n",
       "    <tr>\n",
       "      <th>4</th>\n",
       "      <td>200701BS66837</td>\n",
       "      <td>Slight</td>\n",
       "      <td>03/09/2019</td>\n",
       "      <td>51.488576</td>\n",
       "      <td>Darkness - lights lit</td>\n",
       "      <td>Kensington and Chelsea</td>\n",
       "      <td>-0.192487</td>\n",
       "      <td>1</td>\n",
       "      <td>2</td>\n",
       "      <td>Dry</td>\n",
       "      <td>NaN</td>\n",
       "      <td>Urban</td>\n",
       "      <td>NaN</td>\n",
       "      <td>Other vehicle</td>\n",
       "    </tr>\n",
       "    <tr>\n",
       "      <th>...</th>\n",
       "      <td>...</td>\n",
       "      <td>...</td>\n",
       "      <td>...</td>\n",
       "      <td>...</td>\n",
       "      <td>...</td>\n",
       "      <td>...</td>\n",
       "      <td>...</td>\n",
       "      <td>...</td>\n",
       "      <td>...</td>\n",
       "      <td>...</td>\n",
       "      <td>...</td>\n",
       "      <td>...</td>\n",
       "      <td>...</td>\n",
       "      <td>...</td>\n",
       "    </tr>\n",
       "    <tr>\n",
       "      <th>660674</th>\n",
       "      <td>201091NM01760</td>\n",
       "      <td>Slight</td>\n",
       "      <td>18/02/2022</td>\n",
       "      <td>57.374005</td>\n",
       "      <td>Daylight</td>\n",
       "      <td>Highland</td>\n",
       "      <td>-3.467828</td>\n",
       "      <td>2</td>\n",
       "      <td>1</td>\n",
       "      <td>Dry</td>\n",
       "      <td>Single carriageway</td>\n",
       "      <td>Rural</td>\n",
       "      <td>Fine no high winds</td>\n",
       "      <td>Car</td>\n",
       "    </tr>\n",
       "    <tr>\n",
       "      <th>660675</th>\n",
       "      <td>201091NM01881</td>\n",
       "      <td>Slight</td>\n",
       "      <td>21/02/2022</td>\n",
       "      <td>57.232273</td>\n",
       "      <td>Darkness - no lighting</td>\n",
       "      <td>Highland</td>\n",
       "      <td>-3.809281</td>\n",
       "      <td>1</td>\n",
       "      <td>1</td>\n",
       "      <td>Frost or ice</td>\n",
       "      <td>Single carriageway</td>\n",
       "      <td>Rural</td>\n",
       "      <td>Fine no high winds</td>\n",
       "      <td>Car</td>\n",
       "    </tr>\n",
       "    <tr>\n",
       "      <th>660676</th>\n",
       "      <td>201091NM01935</td>\n",
       "      <td>Slight</td>\n",
       "      <td>23/02/2022</td>\n",
       "      <td>57.585044</td>\n",
       "      <td>Daylight</td>\n",
       "      <td>Highland</td>\n",
       "      <td>-3.862727</td>\n",
       "      <td>1</td>\n",
       "      <td>3</td>\n",
       "      <td>Frost or ice</td>\n",
       "      <td>Single carriageway</td>\n",
       "      <td>Rural</td>\n",
       "      <td>Fine no high winds</td>\n",
       "      <td>Car</td>\n",
       "    </tr>\n",
       "    <tr>\n",
       "      <th>660677</th>\n",
       "      <td>201091NM01964</td>\n",
       "      <td>Serious</td>\n",
       "      <td>23/02/2022</td>\n",
       "      <td>57.214898</td>\n",
       "      <td>Darkness - no lighting</td>\n",
       "      <td>Highland</td>\n",
       "      <td>-3.823997</td>\n",
       "      <td>1</td>\n",
       "      <td>2</td>\n",
       "      <td>Wet or damp</td>\n",
       "      <td>Single carriageway</td>\n",
       "      <td>Rural</td>\n",
       "      <td>Fine no high winds</td>\n",
       "      <td>Motorcycle over 500cc</td>\n",
       "    </tr>\n",
       "    <tr>\n",
       "      <th>660678</th>\n",
       "      <td>201091NM02142</td>\n",
       "      <td>Serious</td>\n",
       "      <td>28/02/2022</td>\n",
       "      <td>57.575210</td>\n",
       "      <td>Daylight</td>\n",
       "      <td>Highland</td>\n",
       "      <td>-3.895673</td>\n",
       "      <td>1</td>\n",
       "      <td>1</td>\n",
       "      <td>Wet or damp</td>\n",
       "      <td>Dual carriageway</td>\n",
       "      <td>Rural</td>\n",
       "      <td>Snowing no high winds</td>\n",
       "      <td>Car</td>\n",
       "    </tr>\n",
       "  </tbody>\n",
       "</table>\n",
       "<p>660679 rows × 14 columns</p>\n",
       "</div>"
      ],
      "text/plain": [
       "                Index Accident_Severity Accident_Date   Latitude  \\\n",
       "0       200701BS64157           Serious    05/06/2019  51.506187   \n",
       "1       200701BS65737           Serious    02/07/2019  51.495029   \n",
       "2       200701BS66127           Serious    26/08/2019  51.517715   \n",
       "3       200701BS66128           Serious    16/08/2019  51.495478   \n",
       "4       200701BS66837            Slight    03/09/2019  51.488576   \n",
       "...               ...               ...           ...        ...   \n",
       "660674  201091NM01760            Slight    18/02/2022  57.374005   \n",
       "660675  201091NM01881            Slight    21/02/2022  57.232273   \n",
       "660676  201091NM01935            Slight    23/02/2022  57.585044   \n",
       "660677  201091NM01964           Serious    23/02/2022  57.214898   \n",
       "660678  201091NM02142           Serious    28/02/2022  57.575210   \n",
       "\n",
       "                   Light_Conditions           District_Area  Longitude  \\\n",
       "0             Darkness - lights lit  Kensington and Chelsea  -0.209082   \n",
       "1                          Daylight  Kensington and Chelsea  -0.173647   \n",
       "2       Darkness - lighting unknown  Kensington and Chelsea  -0.210215   \n",
       "3                          Daylight  Kensington and Chelsea  -0.202731   \n",
       "4             Darkness - lights lit  Kensington and Chelsea  -0.192487   \n",
       "...                             ...                     ...        ...   \n",
       "660674                     Daylight                Highland  -3.467828   \n",
       "660675       Darkness - no lighting                Highland  -3.809281   \n",
       "660676                     Daylight                Highland  -3.862727   \n",
       "660677       Darkness - no lighting                Highland  -3.823997   \n",
       "660678                     Daylight                Highland  -3.895673   \n",
       "\n",
       "        Number_of_Casualties  Number_of_Vehicles Road_Surface_Conditions  \\\n",
       "0                          1                   2                     Dry   \n",
       "1                          1                   2             Wet or damp   \n",
       "2                          1                   3                     Dry   \n",
       "3                          1                   4                     Dry   \n",
       "4                          1                   2                     Dry   \n",
       "...                      ...                 ...                     ...   \n",
       "660674                     2                   1                     Dry   \n",
       "660675                     1                   1            Frost or ice   \n",
       "660676                     1                   3            Frost or ice   \n",
       "660677                     1                   2             Wet or damp   \n",
       "660678                     1                   1             Wet or damp   \n",
       "\n",
       "                 Road_Type Urban_or_Rural_Area     Weather_Conditions  \\\n",
       "0       Single carriageway               Urban     Fine no high winds   \n",
       "1       Single carriageway               Urban  Raining no high winds   \n",
       "2                      NaN               Urban                    NaN   \n",
       "3       Single carriageway               Urban     Fine no high winds   \n",
       "4                      NaN               Urban                    NaN   \n",
       "...                    ...                 ...                    ...   \n",
       "660674  Single carriageway               Rural     Fine no high winds   \n",
       "660675  Single carriageway               Rural     Fine no high winds   \n",
       "660676  Single carriageway               Rural     Fine no high winds   \n",
       "660677  Single carriageway               Rural     Fine no high winds   \n",
       "660678    Dual carriageway               Rural  Snowing no high winds   \n",
       "\n",
       "                                Vehicle_Type  \n",
       "0                                        Car  \n",
       "1                                        Car  \n",
       "2                      Taxi/Private hire car  \n",
       "3       Bus or coach (17 or more pass seats)  \n",
       "4                              Other vehicle  \n",
       "...                                      ...  \n",
       "660674                                   Car  \n",
       "660675                                   Car  \n",
       "660676                                   Car  \n",
       "660677                 Motorcycle over 500cc  \n",
       "660678                                   Car  \n",
       "\n",
       "[660679 rows x 14 columns]"
      ]
     },
     "execution_count": 3,
     "metadata": {},
     "output_type": "execute_result"
    }
   ],
   "source": [
    "accident = pd.read_csv('datasets\\\\uk_road_accident.csv')\n",
    "accident"
   ]
  },
  {
   "cell_type": "markdown",
   "id": "0c97519b-4c2c-4092-96a3-87ce9d037df4",
   "metadata": {},
   "source": [
    "<h2>Checking and Filling the Missing Values</h2>"
   ]
  },
  {
   "cell_type": "code",
   "execution_count": 4,
   "id": "fd8c61d9-4316-4c36-b203-82f997f3b616",
   "metadata": {},
   "outputs": [
    {
     "data": {
      "text/plain": [
       "Index                          0\n",
       "Accident_Severity              0\n",
       "Accident_Date                  0\n",
       "Latitude                      25\n",
       "Light_Conditions               0\n",
       "District_Area                  0\n",
       "Longitude                     26\n",
       "Number_of_Casualties           0\n",
       "Number_of_Vehicles             0\n",
       "Road_Surface_Conditions      726\n",
       "Road_Type                   4520\n",
       "Urban_or_Rural_Area           15\n",
       "Weather_Conditions         14128\n",
       "Vehicle_Type                   0\n",
       "dtype: int64"
      ]
     },
     "execution_count": 4,
     "metadata": {},
     "output_type": "execute_result"
    }
   ],
   "source": [
    "accident.isnull().sum()"
   ]
  },
  {
   "cell_type": "code",
   "execution_count": 5,
   "id": "09c8f994-61e9-4a68-ad6c-3a585e564d9c",
   "metadata": {},
   "outputs": [],
   "source": [
    "#For Categorical Datas [.mode()]\n",
    "accident['Latitude'] = accident['Latitude'].fillna(accident['Latitude'].mode()[0])\n",
    "accident['Longitude'] = accident['Longitude'].fillna(accident['Longitude'].mode()[0])\n",
    "\n",
    "#For large number of missing values\n",
    "accident['Road_Surface_Conditions'] = accident['Road_Surface_Conditions'].fillna('unknown road condition')\n",
    "accident['Road_Type'] = accident['Road_Type'].fillna('unaccounted')\n",
    "accident['Weather_Conditions'] = accident['Weather_Conditions'].fillna('unaccounted')\n",
    "\n",
    "accident['Urban_or_Rural_Area'] = accident['Urban_or_Rural_Area'].fillna(accident['Urban_or_Rural_Area'].mode()[0])"
   ]
  },
  {
   "cell_type": "code",
   "execution_count": 6,
   "id": "1eba930f-2ed1-4fb8-b6d4-30a52c63fae9",
   "metadata": {},
   "outputs": [
    {
     "data": {
      "text/plain": [
       "Index                      0\n",
       "Accident_Severity          0\n",
       "Accident_Date              0\n",
       "Latitude                   0\n",
       "Light_Conditions           0\n",
       "District_Area              0\n",
       "Longitude                  0\n",
       "Number_of_Casualties       0\n",
       "Number_of_Vehicles         0\n",
       "Road_Surface_Conditions    0\n",
       "Road_Type                  0\n",
       "Urban_or_Rural_Area        0\n",
       "Weather_Conditions         0\n",
       "Vehicle_Type               0\n",
       "dtype: int64"
      ]
     },
     "execution_count": 6,
     "metadata": {},
     "output_type": "execute_result"
    }
   ],
   "source": [
    "#Missing value counts\n",
    "accident.isnull().sum()"
   ]
  },
  {
   "cell_type": "markdown",
   "id": "4a5b4557-8404-422a-8985-fdd0435b9e2f",
   "metadata": {},
   "source": [
    "<h2>Extracting date information using pandas date time</h2>"
   ]
  },
  {
   "cell_type": "code",
   "execution_count": 35,
   "id": "b60f2ca9-de93-4001-86af-4effb73045d3",
   "metadata": {},
   "outputs": [],
   "source": [
    "accident['Accident_Date'] = pd.to_datetime(accident['Accident_Date'], dayfirst = True, errors = 'coerce') "
   ]
  },
  {
   "cell_type": "code",
   "execution_count": 36,
   "id": "447aeb64-9a26-47dd-9491-7a1cb995c646",
   "metadata": {},
   "outputs": [],
   "source": [
    "accident['Accident_Date'] = accident['Accident_Date'].astype('str')\n",
    "accident['Accident_Date'] = accident['Accident_Date'].str.strip()\n",
    "accident['Accident_Date'] = accident['Accident_Date'].str.replace('/', '-')"
   ]
  },
  {
   "cell_type": "code",
   "execution_count": 38,
   "id": "ab0c9cfa-e22a-4ac2-bc46-bc6ce6836152",
   "metadata": {},
   "outputs": [
    {
     "data": {
      "text/plain": [
       "Accident_Date\n",
       "2021-11-02    685\n",
       "2021-06-10    680\n",
       "2019-06-12    678\n",
       "2019-01-02    676\n",
       "2021-04-12    667\n",
       "             ... \n",
       "2022-09-01    236\n",
       "2022-02-12    236\n",
       "2022-05-04    231\n",
       "2022-07-02    213\n",
       "2022-10-01    123\n",
       "Name: count, Length: 576, dtype: int64"
      ]
     },
     "execution_count": 38,
     "metadata": {},
     "output_type": "execute_result"
    }
   ],
   "source": [
    "accident['Accident_Date'] = pd.to_datetime(accident['Accident_Date'], dayfirst = True, errors = 'coerce') \n",
    "accident['Year'] = accident['Accident_Date'].dt.year\n",
    "accident['Month'] = accident['Accident_Date'].dt.month\n",
    "accident['Day'] = accident['Accident_Date'].dt.day\n",
    "accident['DayofWeek'] = accident['Accident_Date'].dt.dayofweek\n",
    "accident['Accident_Date'].value_counts()"
   ]
  },
  {
   "cell_type": "markdown",
   "id": "7019e077-12f1-4097-9c5b-ba771dbf02da",
   "metadata": {},
   "source": [
    "<h2>Changing Datatypes into Categorical Fields</h2>"
   ]
  },
  {
   "cell_type": "code",
   "execution_count": 8,
   "id": "0ec391f9-0550-47d6-a4d8-cbe01af5ef20",
   "metadata": {},
   "outputs": [
    {
     "data": {
      "text/plain": [
       "Index                              object\n",
       "Accident_Severity                  object\n",
       "Accident_Date              datetime64[ns]\n",
       "Latitude                          float64\n",
       "Light_Conditions                   object\n",
       "District_Area                      object\n",
       "Longitude                         float64\n",
       "Number_of_Casualties                int64\n",
       "Number_of_Vehicles                  int64\n",
       "Road_Surface_Conditions            object\n",
       "Road_Type                          object\n",
       "Urban_or_Rural_Area                object\n",
       "Weather_Conditions                 object\n",
       "Vehicle_Type                       object\n",
       "Year                                int32\n",
       "Month                               int32\n",
       "Day                                 int32\n",
       "DayofWeek                           int32\n",
       "dtype: object"
      ]
     },
     "execution_count": 8,
     "metadata": {},
     "output_type": "execute_result"
    }
   ],
   "source": [
    "accident.dtypes"
   ]
  },
  {
   "cell_type": "code",
   "execution_count": 9,
   "id": "78b1c26d-c8a9-4023-aad6-6d9161880dab",
   "metadata": {},
   "outputs": [
    {
     "name": "stdout",
     "output_type": "stream",
     "text": [
      "<class 'pandas.core.frame.DataFrame'>\n",
      "RangeIndex: 660679 entries, 0 to 660678\n",
      "Data columns (total 18 columns):\n",
      " #   Column                   Non-Null Count   Dtype         \n",
      "---  ------                   --------------   -----         \n",
      " 0   Index                    660679 non-null  category      \n",
      " 1   Accident_Severity        660679 non-null  category      \n",
      " 2   Accident_Date            660679 non-null  datetime64[ns]\n",
      " 3   Latitude                 660679 non-null  category      \n",
      " 4   Light_Conditions         660679 non-null  category      \n",
      " 5   District_Area            660679 non-null  category      \n",
      " 6   Longitude                660679 non-null  category      \n",
      " 7   Number_of_Casualties     660679 non-null  int64         \n",
      " 8   Number_of_Vehicles       660679 non-null  int64         \n",
      " 9   Road_Surface_Conditions  660679 non-null  category      \n",
      " 10  Road_Type                660679 non-null  category      \n",
      " 11  Urban_or_Rural_Area      660679 non-null  category      \n",
      " 12  Weather_Conditions       660679 non-null  category      \n",
      " 13  Vehicle_Type             660679 non-null  category      \n",
      " 14  Year                     660679 non-null  int32         \n",
      " 15  Month                    660679 non-null  int32         \n",
      " 16  Day                      660679 non-null  int32         \n",
      " 17  DayofWeek                660679 non-null  int32         \n",
      "dtypes: category(11), datetime64[ns](1), int32(4), int64(2)\n",
      "memory usage: 98.0 MB\n"
     ]
    }
   ],
   "source": [
    "accident['Index'] = accident['Index'].astype('category')\n",
    "accident['Accident_Severity'] = accident['Accident_Severity'].astype('category')\n",
    "accident['Latitude'] = accident['Latitude'].astype('category')\n",
    "accident['Light_Conditions'] = accident['Light_Conditions'].astype('category')\n",
    "accident['District_Area'] = accident['District_Area'].astype('category')\n",
    "accident['Longitude'] = accident['Longitude'].astype('category')\n",
    "accident['Road_Surface_Conditions'] = accident['Road_Surface_Conditions'].astype('category')\n",
    "accident['Road_Type'] = accident['Road_Type'].astype('category')\n",
    "accident['Urban_or_Rural_Area'] = accident['Urban_or_Rural_Area'].astype('category')\n",
    "accident['Weather_Conditions'] = accident['Weather_Conditions'].astype('category')\n",
    "accident['Vehicle_Type'] = accident['Vehicle_Type'].astype('category')\n",
    "\n",
    "accident.info()"
   ]
  },
  {
   "cell_type": "code",
   "execution_count": 10,
   "id": "834c05f5-f396-4d31-bc74-49ac2c5a8253",
   "metadata": {},
   "outputs": [
    {
     "data": {
      "text/html": [
       "<div>\n",
       "<style scoped>\n",
       "    .dataframe tbody tr th:only-of-type {\n",
       "        vertical-align: middle;\n",
       "    }\n",
       "\n",
       "    .dataframe tbody tr th {\n",
       "        vertical-align: top;\n",
       "    }\n",
       "\n",
       "    .dataframe thead th {\n",
       "        text-align: right;\n",
       "    }\n",
       "</style>\n",
       "<table border=\"1\" class=\"dataframe\">\n",
       "  <thead>\n",
       "    <tr style=\"text-align: right;\">\n",
       "      <th></th>\n",
       "      <th>Index</th>\n",
       "      <th>Accident_Severity</th>\n",
       "      <th>Accident_Date</th>\n",
       "      <th>Latitude</th>\n",
       "      <th>Light_Conditions</th>\n",
       "      <th>District_Area</th>\n",
       "      <th>Longitude</th>\n",
       "      <th>Number_of_Casualties</th>\n",
       "      <th>Number_of_Vehicles</th>\n",
       "      <th>Road_Surface_Conditions</th>\n",
       "      <th>Road_Type</th>\n",
       "      <th>Urban_or_Rural_Area</th>\n",
       "      <th>Weather_Conditions</th>\n",
       "      <th>Vehicle_Type</th>\n",
       "      <th>Year</th>\n",
       "      <th>Month</th>\n",
       "      <th>Day</th>\n",
       "      <th>DayofWeek</th>\n",
       "    </tr>\n",
       "  </thead>\n",
       "  <tbody>\n",
       "    <tr>\n",
       "      <th>count</th>\n",
       "      <td>660679</td>\n",
       "      <td>660679</td>\n",
       "      <td>660679</td>\n",
       "      <td>660679.000000</td>\n",
       "      <td>660679</td>\n",
       "      <td>660679</td>\n",
       "      <td>660679.000000</td>\n",
       "      <td>660679.000000</td>\n",
       "      <td>660679.000000</td>\n",
       "      <td>660679</td>\n",
       "      <td>660679</td>\n",
       "      <td>660679</td>\n",
       "      <td>660679</td>\n",
       "      <td>660679</td>\n",
       "      <td>660679.000000</td>\n",
       "      <td>660679.000000</td>\n",
       "      <td>660679.000000</td>\n",
       "      <td>660679.000000</td>\n",
       "    </tr>\n",
       "    <tr>\n",
       "      <th>unique</th>\n",
       "      <td>421020</td>\n",
       "      <td>3</td>\n",
       "      <td>NaN</td>\n",
       "      <td>511618.000000</td>\n",
       "      <td>5</td>\n",
       "      <td>422</td>\n",
       "      <td>529766.000000</td>\n",
       "      <td>NaN</td>\n",
       "      <td>NaN</td>\n",
       "      <td>6</td>\n",
       "      <td>6</td>\n",
       "      <td>3</td>\n",
       "      <td>9</td>\n",
       "      <td>16</td>\n",
       "      <td>NaN</td>\n",
       "      <td>NaN</td>\n",
       "      <td>NaN</td>\n",
       "      <td>NaN</td>\n",
       "    </tr>\n",
       "    <tr>\n",
       "      <th>top</th>\n",
       "      <td>2.01E+12</td>\n",
       "      <td>Slight</td>\n",
       "      <td>NaN</td>\n",
       "      <td>52.458798</td>\n",
       "      <td>Daylight</td>\n",
       "      <td>Birmingham</td>\n",
       "      <td>-0.977611</td>\n",
       "      <td>NaN</td>\n",
       "      <td>NaN</td>\n",
       "      <td>Dry</td>\n",
       "      <td>Single carriageway</td>\n",
       "      <td>Urban</td>\n",
       "      <td>Fine no high winds</td>\n",
       "      <td>Car</td>\n",
       "      <td>NaN</td>\n",
       "      <td>NaN</td>\n",
       "      <td>NaN</td>\n",
       "      <td>NaN</td>\n",
       "    </tr>\n",
       "    <tr>\n",
       "      <th>freq</th>\n",
       "      <td>239478</td>\n",
       "      <td>563801</td>\n",
       "      <td>NaN</td>\n",
       "      <td>75.000000</td>\n",
       "      <td>484880</td>\n",
       "      <td>13491</td>\n",
       "      <td>71.000000</td>\n",
       "      <td>NaN</td>\n",
       "      <td>NaN</td>\n",
       "      <td>447821</td>\n",
       "      <td>492143</td>\n",
       "      <td>421678</td>\n",
       "      <td>520885</td>\n",
       "      <td>497992</td>\n",
       "      <td>NaN</td>\n",
       "      <td>NaN</td>\n",
       "      <td>NaN</td>\n",
       "      <td>NaN</td>\n",
       "    </tr>\n",
       "    <tr>\n",
       "      <th>mean</th>\n",
       "      <td>NaN</td>\n",
       "      <td>NaN</td>\n",
       "      <td>2020-11-30 08:30:32.761749760</td>\n",
       "      <td>NaN</td>\n",
       "      <td>NaN</td>\n",
       "      <td>NaN</td>\n",
       "      <td>NaN</td>\n",
       "      <td>1.357040</td>\n",
       "      <td>1.831255</td>\n",
       "      <td>NaN</td>\n",
       "      <td>NaN</td>\n",
       "      <td>NaN</td>\n",
       "      <td>NaN</td>\n",
       "      <td>NaN</td>\n",
       "      <td>2020.409090</td>\n",
       "      <td>6.607965</td>\n",
       "      <td>15.581350</td>\n",
       "      <td>3.111195</td>\n",
       "    </tr>\n",
       "    <tr>\n",
       "      <th>min</th>\n",
       "      <td>NaN</td>\n",
       "      <td>NaN</td>\n",
       "      <td>2019-01-01 00:00:00</td>\n",
       "      <td>NaN</td>\n",
       "      <td>NaN</td>\n",
       "      <td>NaN</td>\n",
       "      <td>NaN</td>\n",
       "      <td>1.000000</td>\n",
       "      <td>1.000000</td>\n",
       "      <td>NaN</td>\n",
       "      <td>NaN</td>\n",
       "      <td>NaN</td>\n",
       "      <td>NaN</td>\n",
       "      <td>NaN</td>\n",
       "      <td>2019.000000</td>\n",
       "      <td>1.000000</td>\n",
       "      <td>1.000000</td>\n",
       "      <td>0.000000</td>\n",
       "    </tr>\n",
       "    <tr>\n",
       "      <th>25%</th>\n",
       "      <td>NaN</td>\n",
       "      <td>NaN</td>\n",
       "      <td>2019-11-27 00:00:00</td>\n",
       "      <td>NaN</td>\n",
       "      <td>NaN</td>\n",
       "      <td>NaN</td>\n",
       "      <td>NaN</td>\n",
       "      <td>1.000000</td>\n",
       "      <td>1.000000</td>\n",
       "      <td>NaN</td>\n",
       "      <td>NaN</td>\n",
       "      <td>NaN</td>\n",
       "      <td>NaN</td>\n",
       "      <td>NaN</td>\n",
       "      <td>2019.000000</td>\n",
       "      <td>4.000000</td>\n",
       "      <td>8.000000</td>\n",
       "      <td>1.000000</td>\n",
       "    </tr>\n",
       "    <tr>\n",
       "      <th>50%</th>\n",
       "      <td>NaN</td>\n",
       "      <td>NaN</td>\n",
       "      <td>2020-11-13 00:00:00</td>\n",
       "      <td>NaN</td>\n",
       "      <td>NaN</td>\n",
       "      <td>NaN</td>\n",
       "      <td>NaN</td>\n",
       "      <td>1.000000</td>\n",
       "      <td>2.000000</td>\n",
       "      <td>NaN</td>\n",
       "      <td>NaN</td>\n",
       "      <td>NaN</td>\n",
       "      <td>NaN</td>\n",
       "      <td>NaN</td>\n",
       "      <td>2020.000000</td>\n",
       "      <td>7.000000</td>\n",
       "      <td>16.000000</td>\n",
       "      <td>3.000000</td>\n",
       "    </tr>\n",
       "    <tr>\n",
       "      <th>75%</th>\n",
       "      <td>NaN</td>\n",
       "      <td>NaN</td>\n",
       "      <td>2021-11-17 00:00:00</td>\n",
       "      <td>NaN</td>\n",
       "      <td>NaN</td>\n",
       "      <td>NaN</td>\n",
       "      <td>NaN</td>\n",
       "      <td>1.000000</td>\n",
       "      <td>2.000000</td>\n",
       "      <td>NaN</td>\n",
       "      <td>NaN</td>\n",
       "      <td>NaN</td>\n",
       "      <td>NaN</td>\n",
       "      <td>NaN</td>\n",
       "      <td>2021.000000</td>\n",
       "      <td>10.000000</td>\n",
       "      <td>23.000000</td>\n",
       "      <td>5.000000</td>\n",
       "    </tr>\n",
       "    <tr>\n",
       "      <th>max</th>\n",
       "      <td>NaN</td>\n",
       "      <td>NaN</td>\n",
       "      <td>2022-12-31 00:00:00</td>\n",
       "      <td>NaN</td>\n",
       "      <td>NaN</td>\n",
       "      <td>NaN</td>\n",
       "      <td>NaN</td>\n",
       "      <td>68.000000</td>\n",
       "      <td>32.000000</td>\n",
       "      <td>NaN</td>\n",
       "      <td>NaN</td>\n",
       "      <td>NaN</td>\n",
       "      <td>NaN</td>\n",
       "      <td>NaN</td>\n",
       "      <td>2022.000000</td>\n",
       "      <td>12.000000</td>\n",
       "      <td>31.000000</td>\n",
       "      <td>6.000000</td>\n",
       "    </tr>\n",
       "    <tr>\n",
       "      <th>std</th>\n",
       "      <td>NaN</td>\n",
       "      <td>NaN</td>\n",
       "      <td>NaN</td>\n",
       "      <td>NaN</td>\n",
       "      <td>NaN</td>\n",
       "      <td>NaN</td>\n",
       "      <td>NaN</td>\n",
       "      <td>0.824847</td>\n",
       "      <td>0.715269</td>\n",
       "      <td>NaN</td>\n",
       "      <td>NaN</td>\n",
       "      <td>NaN</td>\n",
       "      <td>NaN</td>\n",
       "      <td>NaN</td>\n",
       "      <td>1.109152</td>\n",
       "      <td>3.420701</td>\n",
       "      <td>8.764863</td>\n",
       "      <td>1.927284</td>\n",
       "    </tr>\n",
       "  </tbody>\n",
       "</table>\n",
       "</div>"
      ],
      "text/plain": [
       "           Index Accident_Severity                  Accident_Date  \\\n",
       "count     660679            660679                         660679   \n",
       "unique    421020                 3                            NaN   \n",
       "top     2.01E+12            Slight                            NaN   \n",
       "freq      239478            563801                            NaN   \n",
       "mean         NaN               NaN  2020-11-30 08:30:32.761749760   \n",
       "min          NaN               NaN            2019-01-01 00:00:00   \n",
       "25%          NaN               NaN            2019-11-27 00:00:00   \n",
       "50%          NaN               NaN            2020-11-13 00:00:00   \n",
       "75%          NaN               NaN            2021-11-17 00:00:00   \n",
       "max          NaN               NaN            2022-12-31 00:00:00   \n",
       "std          NaN               NaN                            NaN   \n",
       "\n",
       "             Latitude Light_Conditions District_Area      Longitude  \\\n",
       "count   660679.000000           660679        660679  660679.000000   \n",
       "unique  511618.000000                5           422  529766.000000   \n",
       "top         52.458798         Daylight    Birmingham      -0.977611   \n",
       "freq        75.000000           484880         13491      71.000000   \n",
       "mean              NaN              NaN           NaN            NaN   \n",
       "min               NaN              NaN           NaN            NaN   \n",
       "25%               NaN              NaN           NaN            NaN   \n",
       "50%               NaN              NaN           NaN            NaN   \n",
       "75%               NaN              NaN           NaN            NaN   \n",
       "max               NaN              NaN           NaN            NaN   \n",
       "std               NaN              NaN           NaN            NaN   \n",
       "\n",
       "        Number_of_Casualties  Number_of_Vehicles Road_Surface_Conditions  \\\n",
       "count          660679.000000       660679.000000                  660679   \n",
       "unique                   NaN                 NaN                       6   \n",
       "top                      NaN                 NaN                     Dry   \n",
       "freq                     NaN                 NaN                  447821   \n",
       "mean                1.357040            1.831255                     NaN   \n",
       "min                 1.000000            1.000000                     NaN   \n",
       "25%                 1.000000            1.000000                     NaN   \n",
       "50%                 1.000000            2.000000                     NaN   \n",
       "75%                 1.000000            2.000000                     NaN   \n",
       "max                68.000000           32.000000                     NaN   \n",
       "std                 0.824847            0.715269                     NaN   \n",
       "\n",
       "                 Road_Type Urban_or_Rural_Area  Weather_Conditions  \\\n",
       "count               660679              660679              660679   \n",
       "unique                   6                   3                   9   \n",
       "top     Single carriageway               Urban  Fine no high winds   \n",
       "freq                492143              421678              520885   \n",
       "mean                   NaN                 NaN                 NaN   \n",
       "min                    NaN                 NaN                 NaN   \n",
       "25%                    NaN                 NaN                 NaN   \n",
       "50%                    NaN                 NaN                 NaN   \n",
       "75%                    NaN                 NaN                 NaN   \n",
       "max                    NaN                 NaN                 NaN   \n",
       "std                    NaN                 NaN                 NaN   \n",
       "\n",
       "       Vehicle_Type           Year          Month            Day  \\\n",
       "count        660679  660679.000000  660679.000000  660679.000000   \n",
       "unique           16            NaN            NaN            NaN   \n",
       "top             Car            NaN            NaN            NaN   \n",
       "freq         497992            NaN            NaN            NaN   \n",
       "mean            NaN    2020.409090       6.607965      15.581350   \n",
       "min             NaN    2019.000000       1.000000       1.000000   \n",
       "25%             NaN    2019.000000       4.000000       8.000000   \n",
       "50%             NaN    2020.000000       7.000000      16.000000   \n",
       "75%             NaN    2021.000000      10.000000      23.000000   \n",
       "max             NaN    2022.000000      12.000000      31.000000   \n",
       "std             NaN       1.109152       3.420701       8.764863   \n",
       "\n",
       "            DayofWeek  \n",
       "count   660679.000000  \n",
       "unique            NaN  \n",
       "top               NaN  \n",
       "freq              NaN  \n",
       "mean         3.111195  \n",
       "min          0.000000  \n",
       "25%          1.000000  \n",
       "50%          3.000000  \n",
       "75%          5.000000  \n",
       "max          6.000000  \n",
       "std          1.927284  "
      ]
     },
     "execution_count": 10,
     "metadata": {},
     "output_type": "execute_result"
    }
   ],
   "source": [
    "accident.describe(include='all')"
   ]
  },
  {
   "cell_type": "code",
   "execution_count": 11,
   "id": "93d3a6c0-a8a9-4c1a-ad9a-d13fa392bcb0",
   "metadata": {},
   "outputs": [
    {
     "data": {
      "text/html": [
       "<div>\n",
       "<style scoped>\n",
       "    .dataframe tbody tr th:only-of-type {\n",
       "        vertical-align: middle;\n",
       "    }\n",
       "\n",
       "    .dataframe tbody tr th {\n",
       "        vertical-align: top;\n",
       "    }\n",
       "\n",
       "    .dataframe thead th {\n",
       "        text-align: right;\n",
       "    }\n",
       "</style>\n",
       "<table border=\"1\" class=\"dataframe\">\n",
       "  <thead>\n",
       "    <tr style=\"text-align: right;\">\n",
       "      <th></th>\n",
       "      <th>Index</th>\n",
       "      <th>Accident_Severity</th>\n",
       "      <th>Accident_Date</th>\n",
       "      <th>Latitude</th>\n",
       "      <th>Light_Conditions</th>\n",
       "      <th>District_Area</th>\n",
       "      <th>Longitude</th>\n",
       "      <th>Number_of_Casualties</th>\n",
       "      <th>Number_of_Vehicles</th>\n",
       "      <th>Road_Surface_Conditions</th>\n",
       "      <th>Road_Type</th>\n",
       "      <th>Urban_or_Rural_Area</th>\n",
       "      <th>Weather_Conditions</th>\n",
       "      <th>Vehicle_Type</th>\n",
       "      <th>Year</th>\n",
       "      <th>Month</th>\n",
       "      <th>Day</th>\n",
       "      <th>DayofWeek</th>\n",
       "    </tr>\n",
       "  </thead>\n",
       "  <tbody>\n",
       "    <tr>\n",
       "      <th>0</th>\n",
       "      <td>200701BS64157</td>\n",
       "      <td>Serious</td>\n",
       "      <td>2019-06-05</td>\n",
       "      <td>51.506187</td>\n",
       "      <td>Darkness - lights lit</td>\n",
       "      <td>Kensington and Chelsea</td>\n",
       "      <td>-0.209082</td>\n",
       "      <td>1</td>\n",
       "      <td>2</td>\n",
       "      <td>Dry</td>\n",
       "      <td>Single carriageway</td>\n",
       "      <td>Urban</td>\n",
       "      <td>Fine no high winds</td>\n",
       "      <td>Car</td>\n",
       "      <td>2019</td>\n",
       "      <td>6</td>\n",
       "      <td>5</td>\n",
       "      <td>2</td>\n",
       "    </tr>\n",
       "    <tr>\n",
       "      <th>1</th>\n",
       "      <td>200701BS65737</td>\n",
       "      <td>Serious</td>\n",
       "      <td>2019-07-02</td>\n",
       "      <td>51.495029</td>\n",
       "      <td>Daylight</td>\n",
       "      <td>Kensington and Chelsea</td>\n",
       "      <td>-0.173647</td>\n",
       "      <td>1</td>\n",
       "      <td>2</td>\n",
       "      <td>Wet or damp</td>\n",
       "      <td>Single carriageway</td>\n",
       "      <td>Urban</td>\n",
       "      <td>Raining no high winds</td>\n",
       "      <td>Car</td>\n",
       "      <td>2019</td>\n",
       "      <td>7</td>\n",
       "      <td>2</td>\n",
       "      <td>1</td>\n",
       "    </tr>\n",
       "    <tr>\n",
       "      <th>2</th>\n",
       "      <td>200701BS66127</td>\n",
       "      <td>Serious</td>\n",
       "      <td>2019-08-26</td>\n",
       "      <td>51.517715</td>\n",
       "      <td>Darkness - lighting unknown</td>\n",
       "      <td>Kensington and Chelsea</td>\n",
       "      <td>-0.210215</td>\n",
       "      <td>1</td>\n",
       "      <td>3</td>\n",
       "      <td>Dry</td>\n",
       "      <td>unaccounted</td>\n",
       "      <td>Urban</td>\n",
       "      <td>unaccounted</td>\n",
       "      <td>Taxi/Private hire car</td>\n",
       "      <td>2019</td>\n",
       "      <td>8</td>\n",
       "      <td>26</td>\n",
       "      <td>0</td>\n",
       "    </tr>\n",
       "    <tr>\n",
       "      <th>3</th>\n",
       "      <td>200701BS66128</td>\n",
       "      <td>Serious</td>\n",
       "      <td>2019-08-16</td>\n",
       "      <td>51.495478</td>\n",
       "      <td>Daylight</td>\n",
       "      <td>Kensington and Chelsea</td>\n",
       "      <td>-0.202731</td>\n",
       "      <td>1</td>\n",
       "      <td>4</td>\n",
       "      <td>Dry</td>\n",
       "      <td>Single carriageway</td>\n",
       "      <td>Urban</td>\n",
       "      <td>Fine no high winds</td>\n",
       "      <td>Bus or coach (17 or more pass seats)</td>\n",
       "      <td>2019</td>\n",
       "      <td>8</td>\n",
       "      <td>16</td>\n",
       "      <td>4</td>\n",
       "    </tr>\n",
       "    <tr>\n",
       "      <th>4</th>\n",
       "      <td>200701BS66837</td>\n",
       "      <td>Slight</td>\n",
       "      <td>2019-09-03</td>\n",
       "      <td>51.488576</td>\n",
       "      <td>Darkness - lights lit</td>\n",
       "      <td>Kensington and Chelsea</td>\n",
       "      <td>-0.192487</td>\n",
       "      <td>1</td>\n",
       "      <td>2</td>\n",
       "      <td>Dry</td>\n",
       "      <td>unaccounted</td>\n",
       "      <td>Urban</td>\n",
       "      <td>unaccounted</td>\n",
       "      <td>Other vehicle</td>\n",
       "      <td>2019</td>\n",
       "      <td>9</td>\n",
       "      <td>3</td>\n",
       "      <td>1</td>\n",
       "    </tr>\n",
       "    <tr>\n",
       "      <th>...</th>\n",
       "      <td>...</td>\n",
       "      <td>...</td>\n",
       "      <td>...</td>\n",
       "      <td>...</td>\n",
       "      <td>...</td>\n",
       "      <td>...</td>\n",
       "      <td>...</td>\n",
       "      <td>...</td>\n",
       "      <td>...</td>\n",
       "      <td>...</td>\n",
       "      <td>...</td>\n",
       "      <td>...</td>\n",
       "      <td>...</td>\n",
       "      <td>...</td>\n",
       "      <td>...</td>\n",
       "      <td>...</td>\n",
       "      <td>...</td>\n",
       "      <td>...</td>\n",
       "    </tr>\n",
       "    <tr>\n",
       "      <th>660674</th>\n",
       "      <td>201091NM01760</td>\n",
       "      <td>Slight</td>\n",
       "      <td>2022-02-18</td>\n",
       "      <td>57.374005</td>\n",
       "      <td>Daylight</td>\n",
       "      <td>Highland</td>\n",
       "      <td>-3.467828</td>\n",
       "      <td>2</td>\n",
       "      <td>1</td>\n",
       "      <td>Dry</td>\n",
       "      <td>Single carriageway</td>\n",
       "      <td>Rural</td>\n",
       "      <td>Fine no high winds</td>\n",
       "      <td>Car</td>\n",
       "      <td>2022</td>\n",
       "      <td>2</td>\n",
       "      <td>18</td>\n",
       "      <td>4</td>\n",
       "    </tr>\n",
       "    <tr>\n",
       "      <th>660675</th>\n",
       "      <td>201091NM01881</td>\n",
       "      <td>Slight</td>\n",
       "      <td>2022-02-21</td>\n",
       "      <td>57.232273</td>\n",
       "      <td>Darkness - no lighting</td>\n",
       "      <td>Highland</td>\n",
       "      <td>-3.809281</td>\n",
       "      <td>1</td>\n",
       "      <td>1</td>\n",
       "      <td>Frost or ice</td>\n",
       "      <td>Single carriageway</td>\n",
       "      <td>Rural</td>\n",
       "      <td>Fine no high winds</td>\n",
       "      <td>Car</td>\n",
       "      <td>2022</td>\n",
       "      <td>2</td>\n",
       "      <td>21</td>\n",
       "      <td>0</td>\n",
       "    </tr>\n",
       "    <tr>\n",
       "      <th>660676</th>\n",
       "      <td>201091NM01935</td>\n",
       "      <td>Slight</td>\n",
       "      <td>2022-02-23</td>\n",
       "      <td>57.585044</td>\n",
       "      <td>Daylight</td>\n",
       "      <td>Highland</td>\n",
       "      <td>-3.862727</td>\n",
       "      <td>1</td>\n",
       "      <td>3</td>\n",
       "      <td>Frost or ice</td>\n",
       "      <td>Single carriageway</td>\n",
       "      <td>Rural</td>\n",
       "      <td>Fine no high winds</td>\n",
       "      <td>Car</td>\n",
       "      <td>2022</td>\n",
       "      <td>2</td>\n",
       "      <td>23</td>\n",
       "      <td>2</td>\n",
       "    </tr>\n",
       "    <tr>\n",
       "      <th>660677</th>\n",
       "      <td>201091NM01964</td>\n",
       "      <td>Serious</td>\n",
       "      <td>2022-02-23</td>\n",
       "      <td>57.214898</td>\n",
       "      <td>Darkness - no lighting</td>\n",
       "      <td>Highland</td>\n",
       "      <td>-3.823997</td>\n",
       "      <td>1</td>\n",
       "      <td>2</td>\n",
       "      <td>Wet or damp</td>\n",
       "      <td>Single carriageway</td>\n",
       "      <td>Rural</td>\n",
       "      <td>Fine no high winds</td>\n",
       "      <td>Motorcycle over 500cc</td>\n",
       "      <td>2022</td>\n",
       "      <td>2</td>\n",
       "      <td>23</td>\n",
       "      <td>2</td>\n",
       "    </tr>\n",
       "    <tr>\n",
       "      <th>660678</th>\n",
       "      <td>201091NM02142</td>\n",
       "      <td>Serious</td>\n",
       "      <td>2022-02-28</td>\n",
       "      <td>57.575210</td>\n",
       "      <td>Daylight</td>\n",
       "      <td>Highland</td>\n",
       "      <td>-3.895673</td>\n",
       "      <td>1</td>\n",
       "      <td>1</td>\n",
       "      <td>Wet or damp</td>\n",
       "      <td>Dual carriageway</td>\n",
       "      <td>Rural</td>\n",
       "      <td>Snowing no high winds</td>\n",
       "      <td>Car</td>\n",
       "      <td>2022</td>\n",
       "      <td>2</td>\n",
       "      <td>28</td>\n",
       "      <td>0</td>\n",
       "    </tr>\n",
       "  </tbody>\n",
       "</table>\n",
       "<p>660679 rows × 18 columns</p>\n",
       "</div>"
      ],
      "text/plain": [
       "                Index Accident_Severity Accident_Date   Latitude  \\\n",
       "0       200701BS64157           Serious    2019-06-05  51.506187   \n",
       "1       200701BS65737           Serious    2019-07-02  51.495029   \n",
       "2       200701BS66127           Serious    2019-08-26  51.517715   \n",
       "3       200701BS66128           Serious    2019-08-16  51.495478   \n",
       "4       200701BS66837            Slight    2019-09-03  51.488576   \n",
       "...               ...               ...           ...        ...   \n",
       "660674  201091NM01760            Slight    2022-02-18  57.374005   \n",
       "660675  201091NM01881            Slight    2022-02-21  57.232273   \n",
       "660676  201091NM01935            Slight    2022-02-23  57.585044   \n",
       "660677  201091NM01964           Serious    2022-02-23  57.214898   \n",
       "660678  201091NM02142           Serious    2022-02-28  57.575210   \n",
       "\n",
       "                   Light_Conditions           District_Area Longitude  \\\n",
       "0             Darkness - lights lit  Kensington and Chelsea -0.209082   \n",
       "1                          Daylight  Kensington and Chelsea -0.173647   \n",
       "2       Darkness - lighting unknown  Kensington and Chelsea -0.210215   \n",
       "3                          Daylight  Kensington and Chelsea -0.202731   \n",
       "4             Darkness - lights lit  Kensington and Chelsea -0.192487   \n",
       "...                             ...                     ...       ...   \n",
       "660674                     Daylight                Highland -3.467828   \n",
       "660675       Darkness - no lighting                Highland -3.809281   \n",
       "660676                     Daylight                Highland -3.862727   \n",
       "660677       Darkness - no lighting                Highland -3.823997   \n",
       "660678                     Daylight                Highland -3.895673   \n",
       "\n",
       "        Number_of_Casualties  Number_of_Vehicles Road_Surface_Conditions  \\\n",
       "0                          1                   2                     Dry   \n",
       "1                          1                   2             Wet or damp   \n",
       "2                          1                   3                     Dry   \n",
       "3                          1                   4                     Dry   \n",
       "4                          1                   2                     Dry   \n",
       "...                      ...                 ...                     ...   \n",
       "660674                     2                   1                     Dry   \n",
       "660675                     1                   1            Frost or ice   \n",
       "660676                     1                   3            Frost or ice   \n",
       "660677                     1                   2             Wet or damp   \n",
       "660678                     1                   1             Wet or damp   \n",
       "\n",
       "                 Road_Type Urban_or_Rural_Area     Weather_Conditions  \\\n",
       "0       Single carriageway               Urban     Fine no high winds   \n",
       "1       Single carriageway               Urban  Raining no high winds   \n",
       "2              unaccounted               Urban            unaccounted   \n",
       "3       Single carriageway               Urban     Fine no high winds   \n",
       "4              unaccounted               Urban            unaccounted   \n",
       "...                    ...                 ...                    ...   \n",
       "660674  Single carriageway               Rural     Fine no high winds   \n",
       "660675  Single carriageway               Rural     Fine no high winds   \n",
       "660676  Single carriageway               Rural     Fine no high winds   \n",
       "660677  Single carriageway               Rural     Fine no high winds   \n",
       "660678    Dual carriageway               Rural  Snowing no high winds   \n",
       "\n",
       "                                Vehicle_Type  Year  Month  Day  DayofWeek  \n",
       "0                                        Car  2019      6    5          2  \n",
       "1                                        Car  2019      7    2          1  \n",
       "2                      Taxi/Private hire car  2019      8   26          0  \n",
       "3       Bus or coach (17 or more pass seats)  2019      8   16          4  \n",
       "4                              Other vehicle  2019      9    3          1  \n",
       "...                                      ...   ...    ...  ...        ...  \n",
       "660674                                   Car  2022      2   18          4  \n",
       "660675                                   Car  2022      2   21          0  \n",
       "660676                                   Car  2022      2   23          2  \n",
       "660677                 Motorcycle over 500cc  2022      2   23          2  \n",
       "660678                                   Car  2022      2   28          0  \n",
       "\n",
       "[660679 rows x 18 columns]"
      ]
     },
     "execution_count": 11,
     "metadata": {},
     "output_type": "execute_result"
    }
   ],
   "source": [
    "accident"
   ]
  },
  {
   "cell_type": "code",
   "execution_count": 12,
   "id": "dc88cf7a-8b27-42e3-9846-467f06008543",
   "metadata": {},
   "outputs": [
    {
     "data": {
      "text/plain": [
       "(660679, 18)"
      ]
     },
     "execution_count": 12,
     "metadata": {},
     "output_type": "execute_result"
    }
   ],
   "source": [
    "accident.shape "
   ]
  },
  {
   "cell_type": "markdown",
   "id": "50e5085a-fa58-486e-88e4-31b237e648d1",
   "metadata": {},
   "source": [
    "<h1>Q1. What is the average number of casualties per accident?</h1>"
   ]
  },
  {
   "cell_type": "code",
   "execution_count": 13,
   "id": "576d9389-cdcb-401d-a8f8-ebca524b9a03",
   "metadata": {},
   "outputs": [
    {
     "data": {
      "text/plain": [
       "np.float64(1.357040257068864)"
      ]
     },
     "execution_count": 13,
     "metadata": {},
     "output_type": "execute_result"
    }
   ],
   "source": [
    "mean_casualties = accident['Number_of_Casualties'].mean()\n",
    "mean_casualties"
   ]
  },
  {
   "cell_type": "markdown",
   "id": "9e62b9e4-5e40-493b-b06e-c8c1a74d74c2",
   "metadata": {},
   "source": [
    "<H3>Insight: The average number of casualties per accident is approximately 1.357040257068864, indicating that most accidents involve fewer than 2 casualties. The histogram likely shows a right-skewed distribution, with the majority of accidents causing low or no casualties.</H3>"
   ]
  },
  {
   "cell_type": "markdown",
   "id": "d5476368-3d8e-447d-b45d-74cc472f8887",
   "metadata": {},
   "source": [
    "<H1>Q2. Is there a correlation between number of vehicles and casualties?</H1>"
   ]
  },
  {
   "cell_type": "code",
   "execution_count": 14,
   "id": "c3633b26-484b-466e-bedd-75470e175def",
   "metadata": {},
   "outputs": [
    {
     "data": {
      "text/plain": [
       "np.float64(0.2288888612692756)"
      ]
     },
     "execution_count": 14,
     "metadata": {},
     "output_type": "execute_result"
    }
   ],
   "source": [
    "cor1 = accident['Number_of_Casualties'].corr(accident['Number_of_Vehicles'])\n",
    "cor1"
   ]
  },
  {
   "cell_type": "markdown",
   "id": "db5e2c9c-1b73-4c7d-96c2-1eb7aaafcb8e",
   "metadata": {},
   "source": [
    "<h3>Insight: There is a positive correlation of 0.2288888612692756 between the number of vehicles involved and casualties. This suggests that multi-vehicle accidents tend to result in more casualties, though the relationship is likely moderate.</h3>"
   ]
  },
  {
   "cell_type": "markdown",
   "id": "00e5b0cb-13cc-4f9a-a91f-c97e8faeec68",
   "metadata": {},
   "source": [
    "<h1>Q3. Do different road surface conditions affect the number of casualties?</h1>"
   ]
  },
  {
   "cell_type": "code",
   "execution_count": 15,
   "id": "e280413e-cd60-486c-9cb9-0cb827a768ee",
   "metadata": {},
   "outputs": [
    {
     "name": "stderr",
     "output_type": "stream",
     "text": [
      "C:\\Users\\User\\AppData\\Local\\Temp\\ipykernel_15028\\20388253.py:2: FutureWarning: The default of observed=False is deprecated and will be changed to True in a future version of pandas. Pass observed=False to retain current behavior or observed=True to adopt the future default and silence this warning.\n",
      "  for _, group in accident.groupby('Road_Surface_Conditions')]\n"
     ]
    },
    {
     "data": {
      "text/plain": [
       "F_onewayResult(statistic=np.float64(236.43804250579612), pvalue=np.float64(3.579703854070146e-253))"
      ]
     },
     "execution_count": 15,
     "metadata": {},
     "output_type": "execute_result"
    }
   ],
   "source": [
    "groups = [group['Number_of_Casualties'].dropna()\n",
    "    for _, group in accident.groupby('Road_Surface_Conditions')]\n",
    "stats.f_oneway(*groups)"
   ]
  },
  {
   "cell_type": "markdown",
   "id": "8e16fa2f-4fc9-4afa-b501-0e8be3f4c86f",
   "metadata": {},
   "source": [
    "<h3>Insight: The ANOVA test shows a highly significant difference (p-value ≈ 0) in casualties across road surface conditions, indicating that the type of road surface strongly affects accident severity.</h3>"
   ]
  },
  {
   "cell_type": "markdown",
   "id": "99eb4e9e-edef-45b2-ac24-d55fa255a749",
   "metadata": {},
   "source": [
    "<h1>Q4. Which months have the highest number of accidents?</h1>"
   ]
  },
  {
   "cell_type": "code",
   "execution_count": 16,
   "id": "66fdb7c8-f2a4-4d95-8fc0-707aea52491d",
   "metadata": {},
   "outputs": [
    {
     "data": {
      "text/plain": [
       "Month\n",
       "1     52872\n",
       "2     49491\n",
       "3     54086\n",
       "4     51744\n",
       "5     56352\n",
       "6     56481\n",
       "7     57445\n",
       "8     53913\n",
       "9     56455\n",
       "10    59580\n",
       "11    60424\n",
       "12    51836\n",
       "Name: count, dtype: int64"
      ]
     },
     "execution_count": 16,
     "metadata": {},
     "output_type": "execute_result"
    }
   ],
   "source": [
    "accident['Month'] = accident['Accident_Date'].dt.month \n",
    "monthly_counts = accident['Month'].value_counts().sort_index()\n",
    "monthly_counts"
   ]
  },
  {
   "cell_type": "markdown",
   "id": "11ca9b6c-ae0f-4c6f-b1ec-2e14f4f4e55f",
   "metadata": {},
   "source": [
    "<h2>Insight: Accidents peak in certain months, typically during mid-year and end-of-year periods, suggesting a possible link to seasonal factors, holidays, or traffic patterns.</h2>"
   ]
  },
  {
   "cell_type": "markdown",
   "id": "d0997221-57ad-48ae-8697-d99e9cd81c6f",
   "metadata": {},
   "source": [
    "<h1> Q5. Which district has the highest average accident severity?</h1>"
   ]
  },
  {
   "cell_type": "code",
   "execution_count": 17,
   "id": "9c170eeb-cb81-4d83-81d8-f62e77b1c7fa",
   "metadata": {},
   "outputs": [
    {
     "name": "stdout",
     "output_type": "stream",
     "text": [
      "Accident_Severity  Fatal  Serious  Slight\n",
      "District_Area                            \n",
      "Aberdeen City         12      239    1072\n",
      "Aberdeenshire         66      463    1401\n",
      "Adur                   8      101     510\n",
      "Allerdale             24      143     961\n",
      "Alnwick                6       33     193\n"
     ]
    },
    {
     "name": "stderr",
     "output_type": "stream",
     "text": [
      "C:\\Users\\User\\AppData\\Local\\Temp\\ipykernel_15028\\3562959099.py:1: FutureWarning: The default of observed=False is deprecated and will be changed to True in a future version of pandas. Pass observed=False to retain current behavior or observed=True to adopt the future default and silence this warning.\n",
      "  severity_counts = accident.groupby(['District_Area', 'Accident_Severity']).size().unstack(fill_value=0)\n"
     ]
    }
   ],
   "source": [
    "severity_counts = accident.groupby(['District_Area', 'Accident_Severity']).size().unstack(fill_value=0)\n",
    "print(severity_counts.head())\n"
   ]
  },
  {
   "cell_type": "code",
   "execution_count": 18,
   "id": "9d936a8b-2e44-4ef5-b0c2-21f3951a3cad",
   "metadata": {},
   "outputs": [
    {
     "name": "stdout",
     "output_type": "stream",
     "text": [
      "Accident_Severity     Fatal    Serious     Slight\n",
      "District_Area                                    \n",
      "Aberdeen City      0.907029  18.065004  81.027967\n",
      "Aberdeenshire      3.419689  23.989637  72.590674\n",
      "Adur               1.292407  16.316640  82.390953\n",
      "Allerdale          2.127660  12.677305  85.195035\n",
      "Alnwick            2.586207  14.224138  83.189655\n"
     ]
    }
   ],
   "source": [
    "# Total accidents per district\n",
    "severity_counts['Total'] = severity_counts.sum(axis=1)\n",
    "\n",
    "# Percentage of each severity type\n",
    "severity_percentages = severity_counts.div(severity_counts['Total'], axis=0) * 100\n",
    "severity_percentages = severity_percentages.drop(columns='Total')\n",
    "\n",
    "print(severity_percentages.head())\n"
   ]
  },
  {
   "cell_type": "markdown",
   "id": "af1343b3-3ef0-4145-ab37-4245c64958d7",
   "metadata": {},
   "source": [
    "<H2>Insight: Most districts have a high proportion of slight accidents, but some like Aberdeenshire and Allerdale show a relatively higher share of serious and fatal accidents, signaling potentially more dangerous driving environments or road conditions in those areas.</H2>"
   ]
  },
  {
   "cell_type": "markdown",
   "id": "465fc034-93eb-43c4-a17c-c29c46b96271",
   "metadata": {},
   "source": [
    "<h1>Q6. What combination of light and weather is associated with the highest average severity?</h1>"
   ]
  },
  {
   "cell_type": "code",
   "execution_count": 19,
   "id": "5b12dcbc-57a1-4923-bef0-4679c0ab8271",
   "metadata": {},
   "outputs": [],
   "source": [
    "severity_map = {\n",
    "    'Slight': 1,\n",
    "    'Serious': 2,\n",
    "    'Fatal': 3\n",
    "}\n",
    "\n",
    "accident['Severity_Score'] = accident['Accident_Severity'].map(severity_map)\n",
    "# Ensure Severity_Score is numeric\n",
    "accident['Severity_Score'] = pd.to_numeric(accident['Severity_Score'], errors='coerce')\n"
   ]
  },
  {
   "cell_type": "code",
   "execution_count": 20,
   "id": "bcd9eb5f-0be2-4374-ab80-b5dee70737a8",
   "metadata": {},
   "outputs": [
    {
     "data": {
      "text/html": [
       "<div>\n",
       "<style scoped>\n",
       "    .dataframe tbody tr th:only-of-type {\n",
       "        vertical-align: middle;\n",
       "    }\n",
       "\n",
       "    .dataframe tbody tr th {\n",
       "        vertical-align: top;\n",
       "    }\n",
       "\n",
       "    .dataframe thead th {\n",
       "        text-align: right;\n",
       "    }\n",
       "</style>\n",
       "<table border=\"1\" class=\"dataframe\">\n",
       "  <thead>\n",
       "    <tr style=\"text-align: right;\">\n",
       "      <th>Weather_Conditions</th>\n",
       "      <th>Fine + high winds</th>\n",
       "      <th>Fine no high winds</th>\n",
       "      <th>Fog or mist</th>\n",
       "      <th>Other</th>\n",
       "      <th>Raining + high winds</th>\n",
       "      <th>Raining no high winds</th>\n",
       "      <th>Snowing + high winds</th>\n",
       "      <th>Snowing no high winds</th>\n",
       "      <th>unaccounted</th>\n",
       "    </tr>\n",
       "    <tr>\n",
       "      <th>Light_Conditions</th>\n",
       "      <th></th>\n",
       "      <th></th>\n",
       "      <th></th>\n",
       "      <th></th>\n",
       "      <th></th>\n",
       "      <th></th>\n",
       "      <th></th>\n",
       "      <th></th>\n",
       "      <th></th>\n",
       "    </tr>\n",
       "  </thead>\n",
       "  <tbody>\n",
       "    <tr>\n",
       "      <th>Darkness - lighting unknown</th>\n",
       "      <td>1.220339</td>\n",
       "      <td>1.161553</td>\n",
       "      <td>1.092308</td>\n",
       "      <td>1.177419</td>\n",
       "      <td>1.162162</td>\n",
       "      <td>1.122383</td>\n",
       "      <td>1.000000</td>\n",
       "      <td>1.085106</td>\n",
       "      <td>1.109697</td>\n",
       "    </tr>\n",
       "    <tr>\n",
       "      <th>Darkness - lights lit</th>\n",
       "      <td>1.215443</td>\n",
       "      <td>1.187567</td>\n",
       "      <td>1.182410</td>\n",
       "      <td>1.130752</td>\n",
       "      <td>1.167645</td>\n",
       "      <td>1.152122</td>\n",
       "      <td>1.141079</td>\n",
       "      <td>1.089168</td>\n",
       "      <td>1.124066</td>\n",
       "    </tr>\n",
       "    <tr>\n",
       "      <th>Darkness - lights unlit</th>\n",
       "      <td>1.254902</td>\n",
       "      <td>1.181765</td>\n",
       "      <td>1.162162</td>\n",
       "      <td>1.146853</td>\n",
       "      <td>1.205479</td>\n",
       "      <td>1.159041</td>\n",
       "      <td>1.200000</td>\n",
       "      <td>1.166667</td>\n",
       "      <td>1.155556</td>\n",
       "    </tr>\n",
       "    <tr>\n",
       "      <th>Darkness - no lighting</th>\n",
       "      <td>1.278894</td>\n",
       "      <td>1.303776</td>\n",
       "      <td>1.227378</td>\n",
       "      <td>1.175457</td>\n",
       "      <td>1.236121</td>\n",
       "      <td>1.237436</td>\n",
       "      <td>1.163743</td>\n",
       "      <td>1.159063</td>\n",
       "      <td>1.320312</td>\n",
       "    </tr>\n",
       "    <tr>\n",
       "      <th>Daylight</th>\n",
       "      <td>1.163561</td>\n",
       "      <td>1.151852</td>\n",
       "      <td>1.164942</td>\n",
       "      <td>1.110165</td>\n",
       "      <td>1.135168</td>\n",
       "      <td>1.122492</td>\n",
       "      <td>1.114790</td>\n",
       "      <td>1.095540</td>\n",
       "      <td>1.088927</td>\n",
       "    </tr>\n",
       "  </tbody>\n",
       "</table>\n",
       "</div>"
      ],
      "text/plain": [
       "Weather_Conditions           Fine + high winds  Fine no high winds  \\\n",
       "Light_Conditions                                                     \n",
       "Darkness - lighting unknown           1.220339            1.161553   \n",
       "Darkness - lights lit                 1.215443            1.187567   \n",
       "Darkness - lights unlit               1.254902            1.181765   \n",
       "Darkness - no lighting                1.278894            1.303776   \n",
       "Daylight                              1.163561            1.151852   \n",
       "\n",
       "Weather_Conditions           Fog or mist     Other  Raining + high winds  \\\n",
       "Light_Conditions                                                           \n",
       "Darkness - lighting unknown     1.092308  1.177419              1.162162   \n",
       "Darkness - lights lit           1.182410  1.130752              1.167645   \n",
       "Darkness - lights unlit         1.162162  1.146853              1.205479   \n",
       "Darkness - no lighting          1.227378  1.175457              1.236121   \n",
       "Daylight                        1.164942  1.110165              1.135168   \n",
       "\n",
       "Weather_Conditions           Raining no high winds  Snowing + high winds  \\\n",
       "Light_Conditions                                                           \n",
       "Darkness - lighting unknown               1.122383              1.000000   \n",
       "Darkness - lights lit                     1.152122              1.141079   \n",
       "Darkness - lights unlit                   1.159041              1.200000   \n",
       "Darkness - no lighting                    1.237436              1.163743   \n",
       "Daylight                                  1.122492              1.114790   \n",
       "\n",
       "Weather_Conditions           Snowing no high winds  unaccounted  \n",
       "Light_Conditions                                                 \n",
       "Darkness - lighting unknown               1.085106     1.109697  \n",
       "Darkness - lights lit                     1.089168     1.124066  \n",
       "Darkness - lights unlit                   1.166667     1.155556  \n",
       "Darkness - no lighting                    1.159063     1.320312  \n",
       "Daylight                                  1.095540     1.088927  "
      ]
     },
     "execution_count": 20,
     "metadata": {},
     "output_type": "execute_result"
    }
   ],
   "source": [
    "combo = accident.groupby(\n",
    "    ['Light_Conditions', 'Weather_Conditions'], observed=True\n",
    ")['Severity_Score'].mean().unstack()\n",
    "combo"
   ]
  },
  {
   "cell_type": "markdown",
   "id": "1c8d10ae-07da-49ea-b98a-437661cb72cb",
   "metadata": {},
   "source": [
    "<h2>Insight: Accidents occurring in darkness without lighting consistently show the highest average severity, especially when combined with fine weather + high winds or raining conditions, highlighting that poor visibility is a major factor in more severe accidents — regardless of weather.</h2>"
   ]
  },
  {
   "cell_type": "markdown",
   "id": "adb386e4-3b06-4692-8010-19013933fe70",
   "metadata": {},
   "source": [
    "<h1>Q7. What proportion of accidents occur in urban areas compared to rural areas?</h1>"
   ]
  },
  {
   "cell_type": "code",
   "execution_count": 21,
   "id": "3b1b7ea1-bd45-47ec-8e5f-9ead5128da49",
   "metadata": {},
   "outputs": [
    {
     "data": {
      "text/plain": [
       "Urban_or_Rural_Area\n",
       "Urban          421678\n",
       "Rural          238990\n",
       "Unallocated        11\n",
       "Name: count, dtype: int64"
      ]
     },
     "execution_count": 21,
     "metadata": {},
     "output_type": "execute_result"
    }
   ],
   "source": [
    "urban_rural_counts = accident['Urban_or_Rural_Area'].value_counts()\n",
    "urban_rural_counts"
   ]
  },
  {
   "cell_type": "markdown",
   "id": "219fefcb-a2ac-4ca9-ab04-7b35d704d8f7",
   "metadata": {},
   "source": [
    "<h2>Insight #7: </h2>"
   ]
  },
  {
   "cell_type": "markdown",
   "id": "4391dbd3-52d3-43a9-a88b-a02db51bccae",
   "metadata": {},
   "source": [
    "<h1>Q8. How does the average number of vehicles involved vary by accident severity?</h1>"
   ]
  },
  {
   "cell_type": "code",
   "execution_count": 22,
   "id": "fba09b6a-438e-4919-bc96-d4369c939e23",
   "metadata": {},
   "outputs": [
    {
     "name": "stderr",
     "output_type": "stream",
     "text": [
      "C:\\Users\\User\\AppData\\Local\\Temp\\ipykernel_15028\\4030115042.py:1: FutureWarning: The default of observed=False is deprecated and will be changed to True in a future version of pandas. Pass observed=False to retain current behavior or observed=True to adopt the future default and silence this warning.\n",
      "  avg_vehicles_by_severity = accident.groupby('Accident_Severity')['Number_of_Vehicles'].mean()\n"
     ]
    },
    {
     "data": {
      "text/plain": [
       "Accident_Severity\n",
       "Fatal      1.786976\n",
       "Serious    1.678327\n",
       "Slight     1.855864\n",
       "Name: Number_of_Vehicles, dtype: float64"
      ]
     },
     "execution_count": 22,
     "metadata": {},
     "output_type": "execute_result"
    }
   ],
   "source": [
    "avg_vehicles_by_severity = accident.groupby('Accident_Severity')['Number_of_Vehicles'].mean()\n",
    "avg_vehicles_by_severity"
   ]
  },
  {
   "cell_type": "markdown",
   "id": "45980a7a-b9ca-4865-a738-ae4f53a41a2f",
   "metadata": {},
   "source": [
    "<h2>Insight #8: </h2>"
   ]
  },
  {
   "cell_type": "markdown",
   "id": "62935263-b75a-4ea7-bb8a-97acd50d8588",
   "metadata": {},
   "source": [
    "<h1>Q9. Is there a correlation between the number of vehicles involved and the number of casualties? </h1>"
   ]
  },
  {
   "cell_type": "code",
   "execution_count": 23,
   "id": "48d138d4-0124-423f-a64a-0c2e72724acf",
   "metadata": {},
   "outputs": [
    {
     "data": {
      "text/plain": [
       "np.float64(0.22888886126926722)"
      ]
     },
     "execution_count": 23,
     "metadata": {},
     "output_type": "execute_result"
    }
   ],
   "source": [
    "corr2 = accident[['Number_of_Vehicles', 'Number_of_Casualties']].corr().iloc[0,1]\n",
    "corr2"
   ]
  },
  {
   "cell_type": "markdown",
   "id": "063cb1aa-d6b9-43c2-abea-d62b721565bd",
   "metadata": {},
   "source": [
    "<h2>Insight #9: </h2>"
   ]
  },
  {
   "cell_type": "markdown",
   "id": "d1b60a55-8461-4287-9a21-20c4a155c4e9",
   "metadata": {},
   "source": [
    "<h1>Q10. Does weather condition significantly influence accident severity?</h1>"
   ]
  },
  {
   "cell_type": "code",
   "execution_count": 24,
   "id": "16f8b13d-4713-4d9b-ab07-b3edd05eff16",
   "metadata": {},
   "outputs": [
    {
     "name": "stdout",
     "output_type": "stream",
     "text": [
      "ANOVA F-statistic: 113.486, p-value: 0.000\n"
     ]
    }
   ],
   "source": [
    "groups = [accident[accident['Weather_Conditions'] == condition]['Severity_Score'].dropna() \n",
    "          for condition in accident['Weather_Conditions'].unique()]\n",
    "\n",
    "f_stat, p_val = f_oneway(*groups)\n",
    "print(f\"ANOVA F-statistic: {f_stat:.3f}, p-value: {p_val:.3f}\")\n"
   ]
  },
  {
   "cell_type": "markdown",
   "id": "02e8d91b-5470-4566-a6d9-e8c2597d651c",
   "metadata": {},
   "source": [
    "<h2>Insight #10:</h2>"
   ]
  },
  {
   "cell_type": "markdown",
   "id": "c129d38b-9544-446e-a134-12e38e369f88",
   "metadata": {},
   "source": [
    "<h1>Q11. Which districts experience the highest volume of accidents?</h1>"
   ]
  },
  {
   "cell_type": "code",
   "execution_count": 25,
   "id": "609bbab5-d217-4bbb-b871-eda5b4f6cbea",
   "metadata": {},
   "outputs": [
    {
     "name": "stdout",
     "output_type": "stream",
     "text": [
      "District_Area\n",
      "Birmingham          13491\n",
      "Leeds                8898\n",
      "Manchester           6720\n",
      "Bradford             6212\n",
      "Sheffield            5710\n",
      "Westminster          5706\n",
      "Liverpool            5587\n",
      "Glasgow City         4942\n",
      "Bristol, City of     4819\n",
      "Kirklees             4690\n",
      "Name: count, dtype: int64\n"
     ]
    }
   ],
   "source": [
    "top_districts = accident['District_Area'].value_counts().head(10)\n",
    "print(top_districts)"
   ]
  },
  {
   "cell_type": "markdown",
   "id": "aeba7148-e34e-4812-a0a2-7ecdcaa4507a",
   "metadata": {},
   "source": [
    "<h2>Insight #11: The highest accident volumes occur in major urban districts like Birmingham and Leeds, likely due to higher traffic density.</h2>"
   ]
  },
  {
   "cell_type": "markdown",
   "id": "cf4d56c2-87db-44b7-b4bb-6949412955fe",
   "metadata": {},
   "source": [
    "<h1> Q12. Which districts have the highest number of fatal accidents?</h1>"
   ]
  },
  {
   "cell_type": "code",
   "execution_count": 26,
   "id": "23315937-7626-421e-ab32-d9055d4d9a71",
   "metadata": {},
   "outputs": [
    {
     "name": "stdout",
     "output_type": "stream",
     "text": [
      "District_Area\n",
      "Birmingham                  105\n",
      "Leeds                        93\n",
      "Highland                     88\n",
      "East Riding of Yorkshire     85\n",
      "Bradford                     71\n",
      "Aberdeenshire                66\n",
      "Powys                        59\n",
      "Wakefield                    56\n",
      "Doncaster                    56\n",
      "Herefordshire, County of     51\n",
      "Name: count, dtype: int64\n"
     ]
    }
   ],
   "source": [
    "fatal_districts = accident[accident['Accident_Severity'] == 'Fatal']['District_Area'].value_counts().head(10)\n",
    "print(fatal_districts)\n"
   ]
  },
  {
   "cell_type": "markdown",
   "id": "fa3ed537-0d28-4c67-9166-71a870d3bc65",
   "metadata": {},
   "source": [
    "<h2>Insight 12: Fatal accidents are highest in both major cities like Birmingham and Leeds, and rural areas such as Highland and Aberdeenshire, indicating risks exist across diverse environments.</h2>"
   ]
  },
  {
   "cell_type": "markdown",
   "id": "89065d52-e721-4b9a-bab1-bdf1100b9605",
   "metadata": {},
   "source": [
    "<h1>Q13. What is the fatality rate by weather condition?</h1>"
   ]
  },
  {
   "cell_type": "code",
   "execution_count": 27,
   "id": "2768e6b3-c9ab-4dc5-ac4e-c2a63dcb4098",
   "metadata": {},
   "outputs": [
    {
     "name": "stdout",
     "output_type": "stream",
     "text": [
      "Weather_Conditions\n",
      "Fog or mist              0.023243\n",
      "Fine + high winds        0.020458\n",
      "Raining + high winds     0.015081\n",
      "Fine no high winds       0.013631\n",
      "Raining no high winds    0.010640\n",
      "Other                    0.009621\n",
      "unaccounted              0.007574\n",
      "Snowing no high winds    0.005771\n",
      "Snowing + high winds     0.003390\n",
      "Name: count, dtype: float64\n"
     ]
    }
   ],
   "source": [
    "fatal_counts = accident[accident['Accident_Severity'] == 'Fatal']['Weather_Conditions'].value_counts()\n",
    "total_counts = accident['Weather_Conditions'].value_counts()\n",
    "fatality_rate = (fatal_counts / total_counts).sort_values(ascending=False)\n",
    "print(fatality_rate)"
   ]
  },
  {
   "cell_type": "markdown",
   "id": "c328e376-3be9-41af-99bd-ec6673e33476",
   "metadata": {},
   "source": [
    "<h2>Insight 13: The fatality rate is highest during fog or mist conditions, suggesting reduced visibility significantly increases the risk of fatal accidents. Additionally, adverse weather combined with high winds also leads to higher fatality rates compared to calm weather conditions.</h2>"
   ]
  },
  {
   "cell_type": "markdown",
   "id": "663eb7ae-adf3-46b9-a8aa-0f192b07c0ff",
   "metadata": {},
   "source": [
    "<h1>Q14. How does accident frequency vary across days of the week?\n",
    "</h1>"
   ]
  },
  {
   "cell_type": "code",
   "execution_count": 28,
   "id": "81b9c38a-4ea4-4ec0-9d40-bffca24902ee",
   "metadata": {},
   "outputs": [
    {
     "name": "stdout",
     "output_type": "stream",
     "text": [
      "Day_of_Week\n",
      "Monday        72680\n",
      "Tuesday       94550\n",
      "Wednesday     99558\n",
      "Thursday      99511\n",
      "Friday        97900\n",
      "Saturday     107178\n",
      "Sunday        89302\n",
      "Name: count, dtype: int64\n"
     ]
    }
   ],
   "source": [
    "accident['Day_of_Week'] = pd.to_datetime(accident['Accident_Date']).dt.day_name()\n",
    "day_counts = accident['Day_of_Week'].value_counts().reindex(\n",
    "    ['Monday', 'Tuesday', 'Wednesday', 'Thursday', 'Friday', 'Saturday', 'Sunday']\n",
    ")\n",
    "print(day_counts)\n"
   ]
  },
  {
   "cell_type": "markdown",
   "id": "58424cc7-39b9-4dc0-95b4-126d35c24185",
   "metadata": {},
   "source": [
    "<h2> Insight 14: Accident frequency peaks on Saturdays and is lowest on Mondays, indicating higher risk during weekends, possibly due to increased leisure travel and social activities.</h2>"
   ]
  },
  {
   "cell_type": "markdown",
   "id": "3cf9ddcf-5783-4b16-a442-0d0c17641ff7",
   "metadata": {},
   "source": [
    "<h1>Q15. Does accident severity vary by the hour of the day?</h1>"
   ]
  },
  {
   "cell_type": "code",
   "execution_count": 29,
   "id": "68067e07-b918-49fe-8aaa-9c20e74a9d46",
   "metadata": {},
   "outputs": [
    {
     "name": "stdout",
     "output_type": "stream",
     "text": [
      "Accident_Severity  Fatal  Serious  Slight\n",
      "Hour                                     \n",
      "0                   8661    88217  563801\n"
     ]
    }
   ],
   "source": [
    "accident['Hour'] = pd.to_datetime(accident['Accident_Date']).dt.hour\n",
    "severity_hour = accident.groupby('Hour')['Accident_Severity'].value_counts().unstack().fillna(0)\n",
    "print(severity_hour)\n"
   ]
  },
  {
   "cell_type": "markdown",
   "id": "7dab871e-0a6a-4ec1-9493-46d38964073f",
   "metadata": {},
   "source": [
    "<h2>Insight 15: Accident severity varies by hour, with a higher number of slight and serious accidents occurring during late-night and early morning hours, while fatal accidents, though fewer in number, remain consistently present throughout the day.</h2>"
   ]
  },
  {
   "cell_type": "markdown",
   "id": "9b803c0f-a365-4d0b-886f-1c15480c2a0b",
   "metadata": {},
   "source": [
    "<h1>Q16. What are the most common road surface conditions in fatal accidents?</h1>"
   ]
  },
  {
   "cell_type": "code",
   "execution_count": 30,
   "id": "7561e671-5704-4a38-801f-9abb662d7870",
   "metadata": {},
   "outputs": [
    {
     "name": "stdout",
     "output_type": "stream",
     "text": [
      "Road_Surface_Conditions\n",
      "Dry                       5788\n",
      "Wet or damp               2620\n",
      "Frost or ice               193\n",
      "Snow                        35\n",
      "Flood over 3cm. deep        23\n",
      "unknown road condition       2\n",
      "Name: count, dtype: int64\n"
     ]
    }
   ],
   "source": [
    "fatal_conditions = accident[accident['Accident_Severity'] == 'Fatal']['Road_Surface_Conditions'].value_counts()\n",
    "print(fatal_conditions)\n"
   ]
  },
  {
   "cell_type": "markdown",
   "id": "3d33cbd5-d38e-4e33-a91b-ba9b5854c3eb",
   "metadata": {},
   "source": [
    "<h2> Insight 16: The majority of fatal accidents occur on dry road surfaces, followed by wet or damp conditions, indicating that while adverse weather contributes to fatal crashes, most fatalities happen even in seemingly favorable road conditions.</h2>"
   ]
  },
  {
   "cell_type": "markdown",
   "id": "9dfce34b-a5ea-41bd-8533-0c52b82debec",
   "metadata": {},
   "source": [
    "<h1>Q17. Is there a correlation between the number of vehicles and accident severity?</h1>"
   ]
  },
  {
   "cell_type": "code",
   "execution_count": 31,
   "id": "62c45345-e787-495b-8aa5-d364e361f6d8",
   "metadata": {},
   "outputs": [
    {
     "data": {
      "text/html": [
       "<div>\n",
       "<style scoped>\n",
       "    .dataframe tbody tr th:only-of-type {\n",
       "        vertical-align: middle;\n",
       "    }\n",
       "\n",
       "    .dataframe tbody tr th {\n",
       "        vertical-align: top;\n",
       "    }\n",
       "\n",
       "    .dataframe thead th {\n",
       "        text-align: right;\n",
       "    }\n",
       "</style>\n",
       "<table border=\"1\" class=\"dataframe\">\n",
       "  <thead>\n",
       "    <tr style=\"text-align: right;\">\n",
       "      <th></th>\n",
       "      <th>Number_of_Vehicles</th>\n",
       "      <th>Severity_Score</th>\n",
       "    </tr>\n",
       "  </thead>\n",
       "  <tbody>\n",
       "    <tr>\n",
       "      <th>Number_of_Vehicles</th>\n",
       "      <td>1.000000</td>\n",
       "      <td>-0.075324</td>\n",
       "    </tr>\n",
       "    <tr>\n",
       "      <th>Severity_Score</th>\n",
       "      <td>-0.075324</td>\n",
       "      <td>1.000000</td>\n",
       "    </tr>\n",
       "  </tbody>\n",
       "</table>\n",
       "</div>"
      ],
      "text/plain": [
       "                    Number_of_Vehicles  Severity_Score\n",
       "Number_of_Vehicles            1.000000       -0.075324\n",
       "Severity_Score               -0.075324        1.000000"
      ]
     },
     "execution_count": 31,
     "metadata": {},
     "output_type": "execute_result"
    }
   ],
   "source": [
    "accident[['Number_of_Vehicles', 'Severity_Score']].corr()\n"
   ]
  },
  {
   "cell_type": "markdown",
   "id": "a80b5145-6de6-40f3-9909-7334e09cfe51",
   "metadata": {},
   "source": [
    "<h2>Insight: </h2>"
   ]
  },
  {
   "cell_type": "markdown",
   "id": "dace3195-fb0d-47c8-a476-5766e62aa7ec",
   "metadata": {},
   "source": [
    "<h1>Q18. Is there a correlation between the number of vehicles and the number of casualties in rural vs urban areas?</h1>"
   ]
  },
  {
   "cell_type": "code",
   "execution_count": 32,
   "id": "0f837aa9-db9f-4928-ad21-e79114da227c",
   "metadata": {},
   "outputs": [
    {
     "name": "stdout",
     "output_type": "stream",
     "text": [
      "Urban correlation:\n",
      "                       Number_of_Vehicles  Number_of_Casualties\n",
      "Number_of_Vehicles              1.000000              0.217615\n",
      "Number_of_Casualties            0.217615              1.000000\n",
      "Rural correlation:\n",
      "                       Number_of_Vehicles  Number_of_Casualties\n",
      "Number_of_Vehicles              1.000000              0.236078\n",
      "Number_of_Casualties            0.236078              1.000000\n"
     ]
    }
   ],
   "source": [
    "urban_corr = accident[accident['Urban_or_Rural_Area'] == 'Urban'][['Number_of_Vehicles', 'Number_of_Casualties']].corr()\n",
    "rural_corr = accident[accident['Urban_or_Rural_Area'] == 'Rural'][['Number_of_Vehicles', 'Number_of_Casualties']].corr()\n",
    "\n",
    "print(\"Urban correlation:\\n\", urban_corr)\n",
    "print(\"Rural correlation:\\n\", rural_corr)\n"
   ]
  },
  {
   "cell_type": "markdown",
   "id": "8b227dcd-6a65-42be-9fc4-50a860d13fa2",
   "metadata": {},
   "source": [
    "<h2>Inisght 18: Both urban and rural areas show a weak positive correlation between the number of vehicles involved and the number of casualties, with rural areas having a slightly higher correlation. This suggests that as the number of vehicles increases, casualties tend to rise modestly in both settings.</h2>"
   ]
  },
  {
   "cell_type": "markdown",
   "id": "6249f965-7256-4925-8908-5f899f4811b3",
   "metadata": {},
   "source": [
    "<h1>Q19. Does road type significantly affect accident severity?</h1>"
   ]
  },
  {
   "cell_type": "code",
   "execution_count": 33,
   "id": "56956a7e-42cf-4f83-98d6-9a06cbbca82b",
   "metadata": {},
   "outputs": [
    {
     "data": {
      "text/plain": [
       "F_onewayResult(statistic=np.float64(372.51892751473656), pvalue=np.float64(0.0))"
      ]
     },
     "execution_count": 33,
     "metadata": {},
     "output_type": "execute_result"
    }
   ],
   "source": [
    "anova_road = [accident[accident['Road_Type'] == r]['Severity_Score'].dropna() \n",
    "              for r in accident['Road_Type'].unique()]\n",
    "f_oneway(*anova_road)\n"
   ]
  },
  {
   "cell_type": "markdown",
   "id": "31270c0f-44b0-4028-9836-4ccfa3b16fbd",
   "metadata": {},
   "source": [
    "<h2> Insight 19: The ANOVA test shows a highly significant effect of road type on accident severity (p-value = 0.0), indicating that accident severity varies notably across different road types. </h2>"
   ]
  },
  {
   "cell_type": "markdown",
   "id": "019c3c8d-d8b5-483b-a820-7571c336e8fc",
   "metadata": {},
   "source": [
    "<h1>Q20. Is there a relationship between vehicle type and the average number of vehicles involved in an accident?</h1>"
   ]
  },
  {
   "cell_type": "code",
   "execution_count": 34,
   "id": "e326c398-56a4-443e-8ea4-1ab5ccb63213",
   "metadata": {},
   "outputs": [
    {
     "name": "stdout",
     "output_type": "stream",
     "text": [
      "Vehicle_Type\n",
      "Ridden horse                             1.500000\n",
      "Data missing or out of range             1.666667\n",
      "Minibus (8 - 16 passenger seats)         1.804150\n",
      "Agricultural vehicle                     1.805855\n",
      "Motorcycle 125cc and under               1.815247\n",
      "Van / Goods 3.5 tonnes mgw or under      1.824180\n",
      "Motorcycle over 125cc and up to 500cc    1.825888\n",
      "Other vehicle                            1.825971\n",
      "Goods 7.5 tonnes mgw and over            1.830935\n",
      "Bus or coach (17 or more pass seats)     1.831015\n",
      "Car                                      1.832134\n",
      "Goods over 3.5t. and under 7.5t          1.833497\n",
      "Motorcycle over 500cc                    1.834743\n",
      "Taxi/Private hire car                    1.836468\n",
      "Pedal cycle                              1.837563\n",
      "Motorcycle 50cc and under                1.839537\n",
      "Name: Number_of_Vehicles, dtype: float64\n"
     ]
    },
    {
     "name": "stderr",
     "output_type": "stream",
     "text": [
      "C:\\Users\\User\\AppData\\Local\\Temp\\ipykernel_15028\\2094415739.py:1: FutureWarning: The default of observed=False is deprecated and will be changed to True in a future version of pandas. Pass observed=False to retain current behavior or observed=True to adopt the future default and silence this warning.\n",
      "  vehicle_avg = accident.groupby('Vehicle_Type')['Number_of_Vehicles'].mean().sort_values()\n"
     ]
    }
   ],
   "source": [
    "vehicle_avg = accident.groupby('Vehicle_Type')['Number_of_Vehicles'].mean().sort_values()\n",
    "print(vehicle_avg)\n"
   ]
  },
  {
   "cell_type": "markdown",
   "id": "7376e9ef-7d85-4b9d-8eb7-69d32f4a97ee",
   "metadata": {},
   "source": [
    "<h2>Insight #20: The average number of vehicles involved in accidents varies slightly by vehicle type, with ridden horses and agricultural vehicles involved in fewer multi-vehicle accidents, while most motorized vehicle types typically involve around 1.8 vehicles per accident, indicating limited variation across categories.</h2>"
   ]
  },
  {
   "cell_type": "code",
   "execution_count": null,
   "id": "ad92bc32-c51c-4df1-bbbe-e113bc621945",
   "metadata": {},
   "outputs": [],
   "source": []
  }
 ],
 "metadata": {
  "kernelspec": {
   "display_name": "Python 3 (ipykernel)",
   "language": "python",
   "name": "python3"
  },
  "language_info": {
   "codemirror_mode": {
    "name": "ipython",
    "version": 3
   },
   "file_extension": ".py",
   "mimetype": "text/x-python",
   "name": "python",
   "nbconvert_exporter": "python",
   "pygments_lexer": "ipython3",
   "version": "3.13.1"
  }
 },
 "nbformat": 4,
 "nbformat_minor": 5
}
