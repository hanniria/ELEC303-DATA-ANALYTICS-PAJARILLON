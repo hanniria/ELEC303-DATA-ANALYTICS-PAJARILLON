{
 "cells": [
  {
   "cell_type": "markdown",
   "id": "bf1db11b-2715-44c1-bbe1-69f64e840b4d",
   "metadata": {},
   "source": [
    "<h1>UK ROAD ACCIDENTS DATA ANALYSIS</h1>\n",
    "<hr>\n",
    "<h2>Inclusive Year: 2019-2022</h2>\n",
    "<h3>Analyst: Maria Louizza B. Pajarillon</h3>"
   ]
  },
  {
   "cell_type": "code",
   "execution_count": 1,
   "id": "7df26050-e40f-49a8-8162-94772f2b0135",
   "metadata": {},
   "outputs": [
    {
     "name": "stdout",
     "output_type": "stream",
     "text": [
      "Requirement already satisfied: pandas in c:\\users\\ria\\anaconda3\\lib\\site-packages (2.2.3)\n",
      "Requirement already satisfied: numpy in c:\\users\\ria\\anaconda3\\lib\\site-packages (2.1.3)\n",
      "Requirement already satisfied: scipy in c:\\users\\ria\\anaconda3\\lib\\site-packages (1.15.3)\n",
      "Requirement already satisfied: matplotlib in c:\\users\\ria\\anaconda3\\lib\\site-packages (3.10.0)\n",
      "Requirement already satisfied: seaborn in c:\\users\\ria\\anaconda3\\lib\\site-packages (0.13.2)\n",
      "Requirement already satisfied: plotly in c:\\users\\ria\\anaconda3\\lib\\site-packages (5.24.1)\n",
      "Requirement already satisfied: python-dateutil>=2.8.2 in c:\\users\\ria\\anaconda3\\lib\\site-packages (from pandas) (2.9.0.post0)\n",
      "Requirement already satisfied: pytz>=2020.1 in c:\\users\\ria\\anaconda3\\lib\\site-packages (from pandas) (2024.1)\n",
      "Requirement already satisfied: tzdata>=2022.7 in c:\\users\\ria\\anaconda3\\lib\\site-packages (from pandas) (2025.2)\n",
      "Requirement already satisfied: contourpy>=1.0.1 in c:\\users\\ria\\anaconda3\\lib\\site-packages (from matplotlib) (1.3.1)\n",
      "Requirement already satisfied: cycler>=0.10 in c:\\users\\ria\\anaconda3\\lib\\site-packages (from matplotlib) (0.11.0)\n",
      "Requirement already satisfied: fonttools>=4.22.0 in c:\\users\\ria\\anaconda3\\lib\\site-packages (from matplotlib) (4.55.3)\n",
      "Requirement already satisfied: kiwisolver>=1.3.1 in c:\\users\\ria\\anaconda3\\lib\\site-packages (from matplotlib) (1.4.8)\n",
      "Requirement already satisfied: packaging>=20.0 in c:\\users\\ria\\anaconda3\\lib\\site-packages (from matplotlib) (24.2)\n",
      "Requirement already satisfied: pillow>=8 in c:\\users\\ria\\anaconda3\\lib\\site-packages (from matplotlib) (11.1.0)\n",
      "Requirement already satisfied: pyparsing>=2.3.1 in c:\\users\\ria\\anaconda3\\lib\\site-packages (from matplotlib) (3.2.0)\n",
      "Requirement already satisfied: tenacity>=6.2.0 in c:\\users\\ria\\anaconda3\\lib\\site-packages (from plotly) (9.0.0)\n",
      "Requirement already satisfied: six>=1.5 in c:\\users\\ria\\anaconda3\\lib\\site-packages (from python-dateutil>=2.8.2->pandas) (1.17.0)\n"
     ]
    }
   ],
   "source": [
    "!pip install pandas numpy scipy matplotlib seaborn plotly"
   ]
  },
  {
   "cell_type": "code",
   "execution_count": 2,
   "id": "844abaed-8754-4d37-ad0c-853005eca18e",
   "metadata": {},
   "outputs": [],
   "source": [
    "import numpy as np\n",
    "import pandas as pd\n",
    "from scipy.stats import f_oneway\n",
    "from scipy import stats\n",
    "\n",
    "#for visualization\n",
    "import seaborn as sns\n",
    "import pandas as pd\n",
    "import matplotlib.pyplot as plt"
   ]
  },
  {
   "cell_type": "markdown",
   "id": "ca7d6292-3ecc-4955-a3e7-570a6328c065",
   "metadata": {},
   "source": [
    "<h1>Converting CSV file into a Pandas DataFrame</h1>"
   ]
  },
  {
   "cell_type": "code",
   "execution_count": 3,
   "id": "6b929f1a-c74a-403f-b96c-6ea196c3fd31",
   "metadata": {},
   "outputs": [
    {
     "data": {
      "text/html": [
       "<div>\n",
       "<style scoped>\n",
       "    .dataframe tbody tr th:only-of-type {\n",
       "        vertical-align: middle;\n",
       "    }\n",
       "\n",
       "    .dataframe tbody tr th {\n",
       "        vertical-align: top;\n",
       "    }\n",
       "\n",
       "    .dataframe thead th {\n",
       "        text-align: right;\n",
       "    }\n",
       "</style>\n",
       "<table border=\"1\" class=\"dataframe\">\n",
       "  <thead>\n",
       "    <tr style=\"text-align: right;\">\n",
       "      <th></th>\n",
       "      <th>Index</th>\n",
       "      <th>Accident_Severity</th>\n",
       "      <th>Accident_Date</th>\n",
       "      <th>Latitude</th>\n",
       "      <th>Light_Conditions</th>\n",
       "      <th>District_Area</th>\n",
       "      <th>Longitude</th>\n",
       "      <th>Number_of_Casualties</th>\n",
       "      <th>Number_of_Vehicles</th>\n",
       "      <th>Road_Surface_Conditions</th>\n",
       "      <th>Road_Type</th>\n",
       "      <th>Urban_or_Rural_Area</th>\n",
       "      <th>Weather_Conditions</th>\n",
       "      <th>Vehicle_Type</th>\n",
       "    </tr>\n",
       "  </thead>\n",
       "  <tbody>\n",
       "    <tr>\n",
       "      <th>0</th>\n",
       "      <td>200701BS64157</td>\n",
       "      <td>Serious</td>\n",
       "      <td>5/6/2019</td>\n",
       "      <td>51.506187</td>\n",
       "      <td>Darkness - lights lit</td>\n",
       "      <td>Kensington and Chelsea</td>\n",
       "      <td>-0.209082</td>\n",
       "      <td>1</td>\n",
       "      <td>2</td>\n",
       "      <td>Dry</td>\n",
       "      <td>Single carriageway</td>\n",
       "      <td>Urban</td>\n",
       "      <td>Fine no high winds</td>\n",
       "      <td>Car</td>\n",
       "    </tr>\n",
       "    <tr>\n",
       "      <th>1</th>\n",
       "      <td>200701BS65737</td>\n",
       "      <td>Serious</td>\n",
       "      <td>2/7/2019</td>\n",
       "      <td>51.495029</td>\n",
       "      <td>Daylight</td>\n",
       "      <td>Kensington and Chelsea</td>\n",
       "      <td>-0.173647</td>\n",
       "      <td>1</td>\n",
       "      <td>2</td>\n",
       "      <td>Wet or damp</td>\n",
       "      <td>Single carriageway</td>\n",
       "      <td>Urban</td>\n",
       "      <td>Raining no high winds</td>\n",
       "      <td>Car</td>\n",
       "    </tr>\n",
       "    <tr>\n",
       "      <th>2</th>\n",
       "      <td>200701BS66127</td>\n",
       "      <td>Serious</td>\n",
       "      <td>26-08-2019</td>\n",
       "      <td>51.517715</td>\n",
       "      <td>Darkness - lighting unknown</td>\n",
       "      <td>Kensington and Chelsea</td>\n",
       "      <td>-0.210215</td>\n",
       "      <td>1</td>\n",
       "      <td>3</td>\n",
       "      <td>Dry</td>\n",
       "      <td>NaN</td>\n",
       "      <td>Urban</td>\n",
       "      <td>NaN</td>\n",
       "      <td>Taxi/Private hire car</td>\n",
       "    </tr>\n",
       "    <tr>\n",
       "      <th>3</th>\n",
       "      <td>200701BS66128</td>\n",
       "      <td>Serious</td>\n",
       "      <td>16-08-2019</td>\n",
       "      <td>51.495478</td>\n",
       "      <td>Daylight</td>\n",
       "      <td>Kensington and Chelsea</td>\n",
       "      <td>-0.202731</td>\n",
       "      <td>1</td>\n",
       "      <td>4</td>\n",
       "      <td>Dry</td>\n",
       "      <td>Single carriageway</td>\n",
       "      <td>Urban</td>\n",
       "      <td>Fine no high winds</td>\n",
       "      <td>Bus or coach (17 or more pass seats)</td>\n",
       "    </tr>\n",
       "    <tr>\n",
       "      <th>4</th>\n",
       "      <td>200701BS66837</td>\n",
       "      <td>Slight</td>\n",
       "      <td>3/9/2019</td>\n",
       "      <td>51.488576</td>\n",
       "      <td>Darkness - lights lit</td>\n",
       "      <td>Kensington and Chelsea</td>\n",
       "      <td>-0.192487</td>\n",
       "      <td>1</td>\n",
       "      <td>2</td>\n",
       "      <td>Dry</td>\n",
       "      <td>NaN</td>\n",
       "      <td>Urban</td>\n",
       "      <td>NaN</td>\n",
       "      <td>Other vehicle</td>\n",
       "    </tr>\n",
       "    <tr>\n",
       "      <th>...</th>\n",
       "      <td>...</td>\n",
       "      <td>...</td>\n",
       "      <td>...</td>\n",
       "      <td>...</td>\n",
       "      <td>...</td>\n",
       "      <td>...</td>\n",
       "      <td>...</td>\n",
       "      <td>...</td>\n",
       "      <td>...</td>\n",
       "      <td>...</td>\n",
       "      <td>...</td>\n",
       "      <td>...</td>\n",
       "      <td>...</td>\n",
       "      <td>...</td>\n",
       "    </tr>\n",
       "    <tr>\n",
       "      <th>660674</th>\n",
       "      <td>201091NM01760</td>\n",
       "      <td>Slight</td>\n",
       "      <td>18-02-2022</td>\n",
       "      <td>57.374005</td>\n",
       "      <td>Daylight</td>\n",
       "      <td>Highland</td>\n",
       "      <td>-3.467828</td>\n",
       "      <td>2</td>\n",
       "      <td>1</td>\n",
       "      <td>Dry</td>\n",
       "      <td>Single carriageway</td>\n",
       "      <td>Rural</td>\n",
       "      <td>Fine no high winds</td>\n",
       "      <td>Car</td>\n",
       "    </tr>\n",
       "    <tr>\n",
       "      <th>660675</th>\n",
       "      <td>201091NM01881</td>\n",
       "      <td>Slight</td>\n",
       "      <td>21-02-2022</td>\n",
       "      <td>57.232273</td>\n",
       "      <td>Darkness - no lighting</td>\n",
       "      <td>Highland</td>\n",
       "      <td>-3.809281</td>\n",
       "      <td>1</td>\n",
       "      <td>1</td>\n",
       "      <td>Frost or ice</td>\n",
       "      <td>Single carriageway</td>\n",
       "      <td>Rural</td>\n",
       "      <td>Fine no high winds</td>\n",
       "      <td>Car</td>\n",
       "    </tr>\n",
       "    <tr>\n",
       "      <th>660676</th>\n",
       "      <td>201091NM01935</td>\n",
       "      <td>Slight</td>\n",
       "      <td>23-02-2022</td>\n",
       "      <td>57.585044</td>\n",
       "      <td>Daylight</td>\n",
       "      <td>Highland</td>\n",
       "      <td>-3.862727</td>\n",
       "      <td>1</td>\n",
       "      <td>3</td>\n",
       "      <td>Frost or ice</td>\n",
       "      <td>Single carriageway</td>\n",
       "      <td>Rural</td>\n",
       "      <td>Fine no high winds</td>\n",
       "      <td>Car</td>\n",
       "    </tr>\n",
       "    <tr>\n",
       "      <th>660677</th>\n",
       "      <td>201091NM01964</td>\n",
       "      <td>Serious</td>\n",
       "      <td>23-02-2022</td>\n",
       "      <td>57.214898</td>\n",
       "      <td>Darkness - no lighting</td>\n",
       "      <td>Highland</td>\n",
       "      <td>-3.823997</td>\n",
       "      <td>1</td>\n",
       "      <td>2</td>\n",
       "      <td>Wet or damp</td>\n",
       "      <td>Single carriageway</td>\n",
       "      <td>Rural</td>\n",
       "      <td>Fine no high winds</td>\n",
       "      <td>Motorcycle over 500cc</td>\n",
       "    </tr>\n",
       "    <tr>\n",
       "      <th>660678</th>\n",
       "      <td>201091NM02142</td>\n",
       "      <td>Serious</td>\n",
       "      <td>28-02-2022</td>\n",
       "      <td>57.575210</td>\n",
       "      <td>Daylight</td>\n",
       "      <td>Highland</td>\n",
       "      <td>-3.895673</td>\n",
       "      <td>1</td>\n",
       "      <td>1</td>\n",
       "      <td>Wet or damp</td>\n",
       "      <td>Dual carriageway</td>\n",
       "      <td>Rural</td>\n",
       "      <td>Snowing no high winds</td>\n",
       "      <td>Car</td>\n",
       "    </tr>\n",
       "  </tbody>\n",
       "</table>\n",
       "<p>660679 rows × 14 columns</p>\n",
       "</div>"
      ],
      "text/plain": [
       "                Index Accident_Severity Accident_Date   Latitude  \\\n",
       "0       200701BS64157           Serious      5/6/2019  51.506187   \n",
       "1       200701BS65737           Serious      2/7/2019  51.495029   \n",
       "2       200701BS66127           Serious    26-08-2019  51.517715   \n",
       "3       200701BS66128           Serious    16-08-2019  51.495478   \n",
       "4       200701BS66837            Slight      3/9/2019  51.488576   \n",
       "...               ...               ...           ...        ...   \n",
       "660674  201091NM01760            Slight    18-02-2022  57.374005   \n",
       "660675  201091NM01881            Slight    21-02-2022  57.232273   \n",
       "660676  201091NM01935            Slight    23-02-2022  57.585044   \n",
       "660677  201091NM01964           Serious    23-02-2022  57.214898   \n",
       "660678  201091NM02142           Serious    28-02-2022  57.575210   \n",
       "\n",
       "                   Light_Conditions           District_Area  Longitude  \\\n",
       "0             Darkness - lights lit  Kensington and Chelsea  -0.209082   \n",
       "1                          Daylight  Kensington and Chelsea  -0.173647   \n",
       "2       Darkness - lighting unknown  Kensington and Chelsea  -0.210215   \n",
       "3                          Daylight  Kensington and Chelsea  -0.202731   \n",
       "4             Darkness - lights lit  Kensington and Chelsea  -0.192487   \n",
       "...                             ...                     ...        ...   \n",
       "660674                     Daylight                Highland  -3.467828   \n",
       "660675       Darkness - no lighting                Highland  -3.809281   \n",
       "660676                     Daylight                Highland  -3.862727   \n",
       "660677       Darkness - no lighting                Highland  -3.823997   \n",
       "660678                     Daylight                Highland  -3.895673   \n",
       "\n",
       "        Number_of_Casualties  Number_of_Vehicles Road_Surface_Conditions  \\\n",
       "0                          1                   2                     Dry   \n",
       "1                          1                   2             Wet or damp   \n",
       "2                          1                   3                     Dry   \n",
       "3                          1                   4                     Dry   \n",
       "4                          1                   2                     Dry   \n",
       "...                      ...                 ...                     ...   \n",
       "660674                     2                   1                     Dry   \n",
       "660675                     1                   1            Frost or ice   \n",
       "660676                     1                   3            Frost or ice   \n",
       "660677                     1                   2             Wet or damp   \n",
       "660678                     1                   1             Wet or damp   \n",
       "\n",
       "                 Road_Type Urban_or_Rural_Area     Weather_Conditions  \\\n",
       "0       Single carriageway               Urban     Fine no high winds   \n",
       "1       Single carriageway               Urban  Raining no high winds   \n",
       "2                      NaN               Urban                    NaN   \n",
       "3       Single carriageway               Urban     Fine no high winds   \n",
       "4                      NaN               Urban                    NaN   \n",
       "...                    ...                 ...                    ...   \n",
       "660674  Single carriageway               Rural     Fine no high winds   \n",
       "660675  Single carriageway               Rural     Fine no high winds   \n",
       "660676  Single carriageway               Rural     Fine no high winds   \n",
       "660677  Single carriageway               Rural     Fine no high winds   \n",
       "660678    Dual carriageway               Rural  Snowing no high winds   \n",
       "\n",
       "                                Vehicle_Type  \n",
       "0                                        Car  \n",
       "1                                        Car  \n",
       "2                      Taxi/Private hire car  \n",
       "3       Bus or coach (17 or more pass seats)  \n",
       "4                              Other vehicle  \n",
       "...                                      ...  \n",
       "660674                                   Car  \n",
       "660675                                   Car  \n",
       "660676                                   Car  \n",
       "660677                 Motorcycle over 500cc  \n",
       "660678                                   Car  \n",
       "\n",
       "[660679 rows x 14 columns]"
      ]
     },
     "execution_count": 3,
     "metadata": {},
     "output_type": "execute_result"
    }
   ],
   "source": [
    "accident = pd.read_csv('datasets\\\\uk_road_accident.csv')\n",
    "accident"
   ]
  },
  {
   "cell_type": "markdown",
   "id": "d27939a3-970b-40ac-a0be-042a608395e6",
   "metadata": {},
   "source": [
    "<h1>Checking and Filling the Missing Values</h1>"
   ]
  },
  {
   "cell_type": "code",
   "execution_count": 4,
   "id": "01b03651-befe-4e4c-a9f6-d164fc68ac71",
   "metadata": {},
   "outputs": [
    {
     "data": {
      "text/plain": [
       "Index                          0\n",
       "Accident_Severity              0\n",
       "Accident_Date                  0\n",
       "Latitude                      25\n",
       "Light_Conditions               0\n",
       "District_Area                  0\n",
       "Longitude                     26\n",
       "Number_of_Casualties           0\n",
       "Number_of_Vehicles             0\n",
       "Road_Surface_Conditions      726\n",
       "Road_Type                   4520\n",
       "Urban_or_Rural_Area           15\n",
       "Weather_Conditions         14128\n",
       "Vehicle_Type                   0\n",
       "dtype: int64"
      ]
     },
     "execution_count": 4,
     "metadata": {},
     "output_type": "execute_result"
    }
   ],
   "source": [
    "accident.isnull().sum()"
   ]
  },
  {
   "cell_type": "code",
   "execution_count": 5,
   "id": "7463334f-ccb9-411b-9419-38d33b14b8d1",
   "metadata": {},
   "outputs": [],
   "source": [
    "#For Categorical Datas [.mode()]\n",
    "accident['Latitude'] = accident['Latitude'].fillna(accident['Latitude'].mode()[0])\n",
    "accident['Longitude'] = accident['Longitude'].fillna(accident['Longitude'].mode()[0])\n",
    "\n",
    "#For large number of missing values\n",
    "accident['Road_Surface_Conditions'] = accident['Road_Surface_Conditions'].fillna('unknown road condition')\n",
    "accident['Road_Type'] = accident['Road_Type'].fillna('unaccounted')\n",
    "accident['Weather_Conditions'] = accident['Weather_Conditions'].fillna('unaccounted')\n",
    "\n",
    "accident['Urban_or_Rural_Area'] = accident['Urban_or_Rural_Area'].fillna(accident['Urban_or_Rural_Area'].mode()[0])"
   ]
  },
  {
   "cell_type": "code",
   "execution_count": 6,
   "id": "d1982dde-e446-4075-819d-790e8043c3cd",
   "metadata": {},
   "outputs": [
    {
     "data": {
      "text/plain": [
       "Index                      0\n",
       "Accident_Severity          0\n",
       "Accident_Date              0\n",
       "Latitude                   0\n",
       "Light_Conditions           0\n",
       "District_Area              0\n",
       "Longitude                  0\n",
       "Number_of_Casualties       0\n",
       "Number_of_Vehicles         0\n",
       "Road_Surface_Conditions    0\n",
       "Road_Type                  0\n",
       "Urban_or_Rural_Area        0\n",
       "Weather_Conditions         0\n",
       "Vehicle_Type               0\n",
       "dtype: int64"
      ]
     },
     "execution_count": 6,
     "metadata": {},
     "output_type": "execute_result"
    }
   ],
   "source": [
    "accident.isnull().sum()"
   ]
  },
  {
   "cell_type": "markdown",
   "id": "053e9be2-d2a7-4ebc-9cce-6baf98eada3b",
   "metadata": {},
   "source": [
    "<h1>Extracting Date Information (using pandas date time)</h1>"
   ]
  },
  {
   "cell_type": "code",
   "execution_count": 7,
   "id": "b0178ac7-c77f-4554-96b0-1041a8b4dd3c",
   "metadata": {},
   "outputs": [],
   "source": [
    "accident['Accident_Date'] = accident['Accident_Date'].astype('str')\n",
    "accident['Accident_Date'] = accident['Accident_Date'].str.strip()\n",
    "accident['Accident_Date'] = accident['Accident_Date'].str.replace('/', '-')"
   ]
  },
  {
   "cell_type": "code",
   "execution_count": 8,
   "id": "4deca61a-db19-4480-b07e-f4e63e3748c6",
   "metadata": {},
   "outputs": [
    {
     "data": {
      "text/plain": [
       "Accident_Date\n",
       "2019-11-30    704\n",
       "2019-01-31    697\n",
       "2019-07-13    692\n",
       "2021-11-13    692\n",
       "2019-08-14    688\n",
       "             ... \n",
       "2022-12-30    171\n",
       "2019-12-25    157\n",
       "2022-12-25    145\n",
       "2022-01-10    123\n",
       "2020-12-25    118\n",
       "Name: count, Length: 1461, dtype: int64"
      ]
     },
     "execution_count": 8,
     "metadata": {},
     "output_type": "execute_result"
    }
   ],
   "source": [
    "accident['Accident_Date'] = pd.to_datetime(accident['Accident_Date'], dayfirst = True, errors = 'coerce') \n",
    "accident['Year'] = accident['Accident_Date'].dt.year\n",
    "accident['Month'] = accident['Accident_Date'].dt.month\n",
    "accident['Day'] = accident['Accident_Date'].dt.day\n",
    "accident['DayofWeek'] = accident['Accident_Date'].dt.dayofweek\n",
    "accident['Accident_Date'].value_counts()"
   ]
  },
  {
   "cell_type": "markdown",
   "id": "25934a48-7159-4628-8745-c87cf564c8e2",
   "metadata": {},
   "source": [
    "<h1>Changing Data Types</h1>"
   ]
  },
  {
   "cell_type": "code",
   "execution_count": 9,
   "id": "4f0c0528-a419-4406-a130-64603cea1a30",
   "metadata": {},
   "outputs": [
    {
     "data": {
      "text/plain": [
       "Index                              object\n",
       "Accident_Severity                  object\n",
       "Accident_Date              datetime64[ns]\n",
       "Latitude                          float64\n",
       "Light_Conditions                   object\n",
       "District_Area                      object\n",
       "Longitude                         float64\n",
       "Number_of_Casualties                int64\n",
       "Number_of_Vehicles                  int64\n",
       "Road_Surface_Conditions            object\n",
       "Road_Type                          object\n",
       "Urban_or_Rural_Area                object\n",
       "Weather_Conditions                 object\n",
       "Vehicle_Type                       object\n",
       "Year                                int32\n",
       "Month                               int32\n",
       "Day                                 int32\n",
       "DayofWeek                           int32\n",
       "dtype: object"
      ]
     },
     "execution_count": 9,
     "metadata": {},
     "output_type": "execute_result"
    }
   ],
   "source": [
    "accident.dtypes"
   ]
  },
  {
   "cell_type": "code",
   "execution_count": 10,
   "id": "23941cee-e411-473c-b83d-765efb2ceace",
   "metadata": {},
   "outputs": [
    {
     "name": "stdout",
     "output_type": "stream",
     "text": [
      "<class 'pandas.core.frame.DataFrame'>\n",
      "RangeIndex: 660679 entries, 0 to 660678\n",
      "Data columns (total 18 columns):\n",
      " #   Column                   Non-Null Count   Dtype         \n",
      "---  ------                   --------------   -----         \n",
      " 0   Index                    660679 non-null  category      \n",
      " 1   Accident_Severity        660679 non-null  category      \n",
      " 2   Accident_Date            660679 non-null  datetime64[ns]\n",
      " 3   Latitude                 660679 non-null  category      \n",
      " 4   Light_Conditions         660679 non-null  category      \n",
      " 5   District_Area            660679 non-null  category      \n",
      " 6   Longitude                660679 non-null  category      \n",
      " 7   Number_of_Casualties     660679 non-null  int64         \n",
      " 8   Number_of_Vehicles       660679 non-null  int64         \n",
      " 9   Road_Surface_Conditions  660679 non-null  category      \n",
      " 10  Road_Type                660679 non-null  category      \n",
      " 11  Urban_or_Rural_Area      660679 non-null  category      \n",
      " 12  Weather_Conditions       660679 non-null  category      \n",
      " 13  Vehicle_Type             660679 non-null  category      \n",
      " 14  Year                     660679 non-null  int32         \n",
      " 15  Month                    660679 non-null  int32         \n",
      " 16  Day                      660679 non-null  int32         \n",
      " 17  DayofWeek                660679 non-null  int32         \n",
      "dtypes: category(11), datetime64[ns](1), int32(4), int64(2)\n",
      "memory usage: 98.0 MB\n"
     ]
    }
   ],
   "source": [
    "accident['Index'] = accident['Index'].astype('category')\n",
    "accident['Accident_Severity'] = accident['Accident_Severity'].astype('category')\n",
    "accident['Latitude'] = accident['Latitude'].astype('category')\n",
    "accident['Light_Conditions'] = accident['Light_Conditions'].astype('category')\n",
    "accident['District_Area'] = accident['District_Area'].astype('category')\n",
    "accident['Longitude'] = accident['Longitude'].astype('category')\n",
    "accident['Road_Surface_Conditions'] = accident['Road_Surface_Conditions'].astype('category')\n",
    "accident['Road_Type'] = accident['Road_Type'].astype('category')\n",
    "accident['Urban_or_Rural_Area'] = accident['Urban_or_Rural_Area'].astype('category')\n",
    "accident['Weather_Conditions'] = accident['Weather_Conditions'].astype('category')\n",
    "accident['Vehicle_Type'] = accident['Vehicle_Type'].astype('category')\n",
    "\n",
    "accident.info()"
   ]
  },
  {
   "cell_type": "code",
   "execution_count": 11,
   "id": "e8bedb8a-b642-4327-8c42-13486de997ff",
   "metadata": {},
   "outputs": [
    {
     "data": {
      "text/html": [
       "<div>\n",
       "<style scoped>\n",
       "    .dataframe tbody tr th:only-of-type {\n",
       "        vertical-align: middle;\n",
       "    }\n",
       "\n",
       "    .dataframe tbody tr th {\n",
       "        vertical-align: top;\n",
       "    }\n",
       "\n",
       "    .dataframe thead th {\n",
       "        text-align: right;\n",
       "    }\n",
       "</style>\n",
       "<table border=\"1\" class=\"dataframe\">\n",
       "  <thead>\n",
       "    <tr style=\"text-align: right;\">\n",
       "      <th></th>\n",
       "      <th>Index</th>\n",
       "      <th>Accident_Severity</th>\n",
       "      <th>Accident_Date</th>\n",
       "      <th>Latitude</th>\n",
       "      <th>Light_Conditions</th>\n",
       "      <th>District_Area</th>\n",
       "      <th>Longitude</th>\n",
       "      <th>Number_of_Casualties</th>\n",
       "      <th>Number_of_Vehicles</th>\n",
       "      <th>Road_Surface_Conditions</th>\n",
       "      <th>Road_Type</th>\n",
       "      <th>Urban_or_Rural_Area</th>\n",
       "      <th>Weather_Conditions</th>\n",
       "      <th>Vehicle_Type</th>\n",
       "      <th>Year</th>\n",
       "      <th>Month</th>\n",
       "      <th>Day</th>\n",
       "      <th>DayofWeek</th>\n",
       "    </tr>\n",
       "  </thead>\n",
       "  <tbody>\n",
       "    <tr>\n",
       "      <th>count</th>\n",
       "      <td>660679</td>\n",
       "      <td>660679</td>\n",
       "      <td>660679</td>\n",
       "      <td>660679.000000</td>\n",
       "      <td>660679</td>\n",
       "      <td>660679</td>\n",
       "      <td>660679.000000</td>\n",
       "      <td>660679.000000</td>\n",
       "      <td>660679.000000</td>\n",
       "      <td>660679</td>\n",
       "      <td>660679</td>\n",
       "      <td>660679</td>\n",
       "      <td>660679</td>\n",
       "      <td>660679</td>\n",
       "      <td>660679.000000</td>\n",
       "      <td>660679.000000</td>\n",
       "      <td>660679.000000</td>\n",
       "      <td>660679.000000</td>\n",
       "    </tr>\n",
       "    <tr>\n",
       "      <th>unique</th>\n",
       "      <td>421020</td>\n",
       "      <td>3</td>\n",
       "      <td>NaN</td>\n",
       "      <td>511618.000000</td>\n",
       "      <td>5</td>\n",
       "      <td>422</td>\n",
       "      <td>529766.000000</td>\n",
       "      <td>NaN</td>\n",
       "      <td>NaN</td>\n",
       "      <td>6</td>\n",
       "      <td>6</td>\n",
       "      <td>3</td>\n",
       "      <td>9</td>\n",
       "      <td>16</td>\n",
       "      <td>NaN</td>\n",
       "      <td>NaN</td>\n",
       "      <td>NaN</td>\n",
       "      <td>NaN</td>\n",
       "    </tr>\n",
       "    <tr>\n",
       "      <th>top</th>\n",
       "      <td>2.01E+12</td>\n",
       "      <td>Slight</td>\n",
       "      <td>NaN</td>\n",
       "      <td>52.458798</td>\n",
       "      <td>Daylight</td>\n",
       "      <td>Birmingham</td>\n",
       "      <td>-0.977611</td>\n",
       "      <td>NaN</td>\n",
       "      <td>NaN</td>\n",
       "      <td>Dry</td>\n",
       "      <td>Single carriageway</td>\n",
       "      <td>Urban</td>\n",
       "      <td>Fine no high winds</td>\n",
       "      <td>Car</td>\n",
       "      <td>NaN</td>\n",
       "      <td>NaN</td>\n",
       "      <td>NaN</td>\n",
       "      <td>NaN</td>\n",
       "    </tr>\n",
       "    <tr>\n",
       "      <th>freq</th>\n",
       "      <td>239478</td>\n",
       "      <td>563801</td>\n",
       "      <td>NaN</td>\n",
       "      <td>75.000000</td>\n",
       "      <td>484880</td>\n",
       "      <td>13491</td>\n",
       "      <td>71.000000</td>\n",
       "      <td>NaN</td>\n",
       "      <td>NaN</td>\n",
       "      <td>447821</td>\n",
       "      <td>492143</td>\n",
       "      <td>421678</td>\n",
       "      <td>520885</td>\n",
       "      <td>497992</td>\n",
       "      <td>NaN</td>\n",
       "      <td>NaN</td>\n",
       "      <td>NaN</td>\n",
       "      <td>NaN</td>\n",
       "    </tr>\n",
       "    <tr>\n",
       "      <th>mean</th>\n",
       "      <td>NaN</td>\n",
       "      <td>NaN</td>\n",
       "      <td>2020-11-30 08:30:32.761749760</td>\n",
       "      <td>NaN</td>\n",
       "      <td>NaN</td>\n",
       "      <td>NaN</td>\n",
       "      <td>NaN</td>\n",
       "      <td>1.357040</td>\n",
       "      <td>1.831255</td>\n",
       "      <td>NaN</td>\n",
       "      <td>NaN</td>\n",
       "      <td>NaN</td>\n",
       "      <td>NaN</td>\n",
       "      <td>NaN</td>\n",
       "      <td>2020.409090</td>\n",
       "      <td>6.607965</td>\n",
       "      <td>15.581350</td>\n",
       "      <td>3.111195</td>\n",
       "    </tr>\n",
       "    <tr>\n",
       "      <th>min</th>\n",
       "      <td>NaN</td>\n",
       "      <td>NaN</td>\n",
       "      <td>2019-01-01 00:00:00</td>\n",
       "      <td>NaN</td>\n",
       "      <td>NaN</td>\n",
       "      <td>NaN</td>\n",
       "      <td>NaN</td>\n",
       "      <td>1.000000</td>\n",
       "      <td>1.000000</td>\n",
       "      <td>NaN</td>\n",
       "      <td>NaN</td>\n",
       "      <td>NaN</td>\n",
       "      <td>NaN</td>\n",
       "      <td>NaN</td>\n",
       "      <td>2019.000000</td>\n",
       "      <td>1.000000</td>\n",
       "      <td>1.000000</td>\n",
       "      <td>0.000000</td>\n",
       "    </tr>\n",
       "    <tr>\n",
       "      <th>25%</th>\n",
       "      <td>NaN</td>\n",
       "      <td>NaN</td>\n",
       "      <td>2019-11-27 00:00:00</td>\n",
       "      <td>NaN</td>\n",
       "      <td>NaN</td>\n",
       "      <td>NaN</td>\n",
       "      <td>NaN</td>\n",
       "      <td>1.000000</td>\n",
       "      <td>1.000000</td>\n",
       "      <td>NaN</td>\n",
       "      <td>NaN</td>\n",
       "      <td>NaN</td>\n",
       "      <td>NaN</td>\n",
       "      <td>NaN</td>\n",
       "      <td>2019.000000</td>\n",
       "      <td>4.000000</td>\n",
       "      <td>8.000000</td>\n",
       "      <td>1.000000</td>\n",
       "    </tr>\n",
       "    <tr>\n",
       "      <th>50%</th>\n",
       "      <td>NaN</td>\n",
       "      <td>NaN</td>\n",
       "      <td>2020-11-13 00:00:00</td>\n",
       "      <td>NaN</td>\n",
       "      <td>NaN</td>\n",
       "      <td>NaN</td>\n",
       "      <td>NaN</td>\n",
       "      <td>1.000000</td>\n",
       "      <td>2.000000</td>\n",
       "      <td>NaN</td>\n",
       "      <td>NaN</td>\n",
       "      <td>NaN</td>\n",
       "      <td>NaN</td>\n",
       "      <td>NaN</td>\n",
       "      <td>2020.000000</td>\n",
       "      <td>7.000000</td>\n",
       "      <td>16.000000</td>\n",
       "      <td>3.000000</td>\n",
       "    </tr>\n",
       "    <tr>\n",
       "      <th>75%</th>\n",
       "      <td>NaN</td>\n",
       "      <td>NaN</td>\n",
       "      <td>2021-11-17 00:00:00</td>\n",
       "      <td>NaN</td>\n",
       "      <td>NaN</td>\n",
       "      <td>NaN</td>\n",
       "      <td>NaN</td>\n",
       "      <td>1.000000</td>\n",
       "      <td>2.000000</td>\n",
       "      <td>NaN</td>\n",
       "      <td>NaN</td>\n",
       "      <td>NaN</td>\n",
       "      <td>NaN</td>\n",
       "      <td>NaN</td>\n",
       "      <td>2021.000000</td>\n",
       "      <td>10.000000</td>\n",
       "      <td>23.000000</td>\n",
       "      <td>5.000000</td>\n",
       "    </tr>\n",
       "    <tr>\n",
       "      <th>max</th>\n",
       "      <td>NaN</td>\n",
       "      <td>NaN</td>\n",
       "      <td>2022-12-31 00:00:00</td>\n",
       "      <td>NaN</td>\n",
       "      <td>NaN</td>\n",
       "      <td>NaN</td>\n",
       "      <td>NaN</td>\n",
       "      <td>68.000000</td>\n",
       "      <td>32.000000</td>\n",
       "      <td>NaN</td>\n",
       "      <td>NaN</td>\n",
       "      <td>NaN</td>\n",
       "      <td>NaN</td>\n",
       "      <td>NaN</td>\n",
       "      <td>2022.000000</td>\n",
       "      <td>12.000000</td>\n",
       "      <td>31.000000</td>\n",
       "      <td>6.000000</td>\n",
       "    </tr>\n",
       "    <tr>\n",
       "      <th>std</th>\n",
       "      <td>NaN</td>\n",
       "      <td>NaN</td>\n",
       "      <td>NaN</td>\n",
       "      <td>NaN</td>\n",
       "      <td>NaN</td>\n",
       "      <td>NaN</td>\n",
       "      <td>NaN</td>\n",
       "      <td>0.824847</td>\n",
       "      <td>0.715269</td>\n",
       "      <td>NaN</td>\n",
       "      <td>NaN</td>\n",
       "      <td>NaN</td>\n",
       "      <td>NaN</td>\n",
       "      <td>NaN</td>\n",
       "      <td>1.109152</td>\n",
       "      <td>3.420701</td>\n",
       "      <td>8.764863</td>\n",
       "      <td>1.927284</td>\n",
       "    </tr>\n",
       "  </tbody>\n",
       "</table>\n",
       "</div>"
      ],
      "text/plain": [
       "           Index Accident_Severity                  Accident_Date  \\\n",
       "count     660679            660679                         660679   \n",
       "unique    421020                 3                            NaN   \n",
       "top     2.01E+12            Slight                            NaN   \n",
       "freq      239478            563801                            NaN   \n",
       "mean         NaN               NaN  2020-11-30 08:30:32.761749760   \n",
       "min          NaN               NaN            2019-01-01 00:00:00   \n",
       "25%          NaN               NaN            2019-11-27 00:00:00   \n",
       "50%          NaN               NaN            2020-11-13 00:00:00   \n",
       "75%          NaN               NaN            2021-11-17 00:00:00   \n",
       "max          NaN               NaN            2022-12-31 00:00:00   \n",
       "std          NaN               NaN                            NaN   \n",
       "\n",
       "             Latitude Light_Conditions District_Area      Longitude  \\\n",
       "count   660679.000000           660679        660679  660679.000000   \n",
       "unique  511618.000000                5           422  529766.000000   \n",
       "top         52.458798         Daylight    Birmingham      -0.977611   \n",
       "freq        75.000000           484880         13491      71.000000   \n",
       "mean              NaN              NaN           NaN            NaN   \n",
       "min               NaN              NaN           NaN            NaN   \n",
       "25%               NaN              NaN           NaN            NaN   \n",
       "50%               NaN              NaN           NaN            NaN   \n",
       "75%               NaN              NaN           NaN            NaN   \n",
       "max               NaN              NaN           NaN            NaN   \n",
       "std               NaN              NaN           NaN            NaN   \n",
       "\n",
       "        Number_of_Casualties  Number_of_Vehicles Road_Surface_Conditions  \\\n",
       "count          660679.000000       660679.000000                  660679   \n",
       "unique                   NaN                 NaN                       6   \n",
       "top                      NaN                 NaN                     Dry   \n",
       "freq                     NaN                 NaN                  447821   \n",
       "mean                1.357040            1.831255                     NaN   \n",
       "min                 1.000000            1.000000                     NaN   \n",
       "25%                 1.000000            1.000000                     NaN   \n",
       "50%                 1.000000            2.000000                     NaN   \n",
       "75%                 1.000000            2.000000                     NaN   \n",
       "max                68.000000           32.000000                     NaN   \n",
       "std                 0.824847            0.715269                     NaN   \n",
       "\n",
       "                 Road_Type Urban_or_Rural_Area  Weather_Conditions  \\\n",
       "count               660679              660679              660679   \n",
       "unique                   6                   3                   9   \n",
       "top     Single carriageway               Urban  Fine no high winds   \n",
       "freq                492143              421678              520885   \n",
       "mean                   NaN                 NaN                 NaN   \n",
       "min                    NaN                 NaN                 NaN   \n",
       "25%                    NaN                 NaN                 NaN   \n",
       "50%                    NaN                 NaN                 NaN   \n",
       "75%                    NaN                 NaN                 NaN   \n",
       "max                    NaN                 NaN                 NaN   \n",
       "std                    NaN                 NaN                 NaN   \n",
       "\n",
       "       Vehicle_Type           Year          Month            Day  \\\n",
       "count        660679  660679.000000  660679.000000  660679.000000   \n",
       "unique           16            NaN            NaN            NaN   \n",
       "top             Car            NaN            NaN            NaN   \n",
       "freq         497992            NaN            NaN            NaN   \n",
       "mean            NaN    2020.409090       6.607965      15.581350   \n",
       "min             NaN    2019.000000       1.000000       1.000000   \n",
       "25%             NaN    2019.000000       4.000000       8.000000   \n",
       "50%             NaN    2020.000000       7.000000      16.000000   \n",
       "75%             NaN    2021.000000      10.000000      23.000000   \n",
       "max             NaN    2022.000000      12.000000      31.000000   \n",
       "std             NaN       1.109152       3.420701       8.764863   \n",
       "\n",
       "            DayofWeek  \n",
       "count   660679.000000  \n",
       "unique            NaN  \n",
       "top               NaN  \n",
       "freq              NaN  \n",
       "mean         3.111195  \n",
       "min          0.000000  \n",
       "25%          1.000000  \n",
       "50%          3.000000  \n",
       "75%          5.000000  \n",
       "max          6.000000  \n",
       "std          1.927284  "
      ]
     },
     "execution_count": 11,
     "metadata": {},
     "output_type": "execute_result"
    }
   ],
   "source": [
    "accident.describe(include='all')"
   ]
  },
  {
   "cell_type": "code",
   "execution_count": 12,
   "id": "8bf06035-fabe-42d6-b21d-c139863a14f3",
   "metadata": {},
   "outputs": [
    {
     "data": {
      "text/html": [
       "<div>\n",
       "<style scoped>\n",
       "    .dataframe tbody tr th:only-of-type {\n",
       "        vertical-align: middle;\n",
       "    }\n",
       "\n",
       "    .dataframe tbody tr th {\n",
       "        vertical-align: top;\n",
       "    }\n",
       "\n",
       "    .dataframe thead th {\n",
       "        text-align: right;\n",
       "    }\n",
       "</style>\n",
       "<table border=\"1\" class=\"dataframe\">\n",
       "  <thead>\n",
       "    <tr style=\"text-align: right;\">\n",
       "      <th></th>\n",
       "      <th>Index</th>\n",
       "      <th>Accident_Severity</th>\n",
       "      <th>Accident_Date</th>\n",
       "      <th>Latitude</th>\n",
       "      <th>Light_Conditions</th>\n",
       "      <th>District_Area</th>\n",
       "      <th>Longitude</th>\n",
       "      <th>Number_of_Casualties</th>\n",
       "      <th>Number_of_Vehicles</th>\n",
       "      <th>Road_Surface_Conditions</th>\n",
       "      <th>Road_Type</th>\n",
       "      <th>Urban_or_Rural_Area</th>\n",
       "      <th>Weather_Conditions</th>\n",
       "      <th>Vehicle_Type</th>\n",
       "      <th>Year</th>\n",
       "      <th>Month</th>\n",
       "      <th>Day</th>\n",
       "      <th>DayofWeek</th>\n",
       "    </tr>\n",
       "  </thead>\n",
       "  <tbody>\n",
       "    <tr>\n",
       "      <th>0</th>\n",
       "      <td>200701BS64157</td>\n",
       "      <td>Serious</td>\n",
       "      <td>2019-06-05</td>\n",
       "      <td>51.506187</td>\n",
       "      <td>Darkness - lights lit</td>\n",
       "      <td>Kensington and Chelsea</td>\n",
       "      <td>-0.209082</td>\n",
       "      <td>1</td>\n",
       "      <td>2</td>\n",
       "      <td>Dry</td>\n",
       "      <td>Single carriageway</td>\n",
       "      <td>Urban</td>\n",
       "      <td>Fine no high winds</td>\n",
       "      <td>Car</td>\n",
       "      <td>2019</td>\n",
       "      <td>6</td>\n",
       "      <td>5</td>\n",
       "      <td>2</td>\n",
       "    </tr>\n",
       "    <tr>\n",
       "      <th>1</th>\n",
       "      <td>200701BS65737</td>\n",
       "      <td>Serious</td>\n",
       "      <td>2019-07-02</td>\n",
       "      <td>51.495029</td>\n",
       "      <td>Daylight</td>\n",
       "      <td>Kensington and Chelsea</td>\n",
       "      <td>-0.173647</td>\n",
       "      <td>1</td>\n",
       "      <td>2</td>\n",
       "      <td>Wet or damp</td>\n",
       "      <td>Single carriageway</td>\n",
       "      <td>Urban</td>\n",
       "      <td>Raining no high winds</td>\n",
       "      <td>Car</td>\n",
       "      <td>2019</td>\n",
       "      <td>7</td>\n",
       "      <td>2</td>\n",
       "      <td>1</td>\n",
       "    </tr>\n",
       "    <tr>\n",
       "      <th>2</th>\n",
       "      <td>200701BS66127</td>\n",
       "      <td>Serious</td>\n",
       "      <td>2019-08-26</td>\n",
       "      <td>51.517715</td>\n",
       "      <td>Darkness - lighting unknown</td>\n",
       "      <td>Kensington and Chelsea</td>\n",
       "      <td>-0.210215</td>\n",
       "      <td>1</td>\n",
       "      <td>3</td>\n",
       "      <td>Dry</td>\n",
       "      <td>unaccounted</td>\n",
       "      <td>Urban</td>\n",
       "      <td>unaccounted</td>\n",
       "      <td>Taxi/Private hire car</td>\n",
       "      <td>2019</td>\n",
       "      <td>8</td>\n",
       "      <td>26</td>\n",
       "      <td>0</td>\n",
       "    </tr>\n",
       "    <tr>\n",
       "      <th>3</th>\n",
       "      <td>200701BS66128</td>\n",
       "      <td>Serious</td>\n",
       "      <td>2019-08-16</td>\n",
       "      <td>51.495478</td>\n",
       "      <td>Daylight</td>\n",
       "      <td>Kensington and Chelsea</td>\n",
       "      <td>-0.202731</td>\n",
       "      <td>1</td>\n",
       "      <td>4</td>\n",
       "      <td>Dry</td>\n",
       "      <td>Single carriageway</td>\n",
       "      <td>Urban</td>\n",
       "      <td>Fine no high winds</td>\n",
       "      <td>Bus or coach (17 or more pass seats)</td>\n",
       "      <td>2019</td>\n",
       "      <td>8</td>\n",
       "      <td>16</td>\n",
       "      <td>4</td>\n",
       "    </tr>\n",
       "    <tr>\n",
       "      <th>4</th>\n",
       "      <td>200701BS66837</td>\n",
       "      <td>Slight</td>\n",
       "      <td>2019-09-03</td>\n",
       "      <td>51.488576</td>\n",
       "      <td>Darkness - lights lit</td>\n",
       "      <td>Kensington and Chelsea</td>\n",
       "      <td>-0.192487</td>\n",
       "      <td>1</td>\n",
       "      <td>2</td>\n",
       "      <td>Dry</td>\n",
       "      <td>unaccounted</td>\n",
       "      <td>Urban</td>\n",
       "      <td>unaccounted</td>\n",
       "      <td>Other vehicle</td>\n",
       "      <td>2019</td>\n",
       "      <td>9</td>\n",
       "      <td>3</td>\n",
       "      <td>1</td>\n",
       "    </tr>\n",
       "    <tr>\n",
       "      <th>...</th>\n",
       "      <td>...</td>\n",
       "      <td>...</td>\n",
       "      <td>...</td>\n",
       "      <td>...</td>\n",
       "      <td>...</td>\n",
       "      <td>...</td>\n",
       "      <td>...</td>\n",
       "      <td>...</td>\n",
       "      <td>...</td>\n",
       "      <td>...</td>\n",
       "      <td>...</td>\n",
       "      <td>...</td>\n",
       "      <td>...</td>\n",
       "      <td>...</td>\n",
       "      <td>...</td>\n",
       "      <td>...</td>\n",
       "      <td>...</td>\n",
       "      <td>...</td>\n",
       "    </tr>\n",
       "    <tr>\n",
       "      <th>660674</th>\n",
       "      <td>201091NM01760</td>\n",
       "      <td>Slight</td>\n",
       "      <td>2022-02-18</td>\n",
       "      <td>57.374005</td>\n",
       "      <td>Daylight</td>\n",
       "      <td>Highland</td>\n",
       "      <td>-3.467828</td>\n",
       "      <td>2</td>\n",
       "      <td>1</td>\n",
       "      <td>Dry</td>\n",
       "      <td>Single carriageway</td>\n",
       "      <td>Rural</td>\n",
       "      <td>Fine no high winds</td>\n",
       "      <td>Car</td>\n",
       "      <td>2022</td>\n",
       "      <td>2</td>\n",
       "      <td>18</td>\n",
       "      <td>4</td>\n",
       "    </tr>\n",
       "    <tr>\n",
       "      <th>660675</th>\n",
       "      <td>201091NM01881</td>\n",
       "      <td>Slight</td>\n",
       "      <td>2022-02-21</td>\n",
       "      <td>57.232273</td>\n",
       "      <td>Darkness - no lighting</td>\n",
       "      <td>Highland</td>\n",
       "      <td>-3.809281</td>\n",
       "      <td>1</td>\n",
       "      <td>1</td>\n",
       "      <td>Frost or ice</td>\n",
       "      <td>Single carriageway</td>\n",
       "      <td>Rural</td>\n",
       "      <td>Fine no high winds</td>\n",
       "      <td>Car</td>\n",
       "      <td>2022</td>\n",
       "      <td>2</td>\n",
       "      <td>21</td>\n",
       "      <td>0</td>\n",
       "    </tr>\n",
       "    <tr>\n",
       "      <th>660676</th>\n",
       "      <td>201091NM01935</td>\n",
       "      <td>Slight</td>\n",
       "      <td>2022-02-23</td>\n",
       "      <td>57.585044</td>\n",
       "      <td>Daylight</td>\n",
       "      <td>Highland</td>\n",
       "      <td>-3.862727</td>\n",
       "      <td>1</td>\n",
       "      <td>3</td>\n",
       "      <td>Frost or ice</td>\n",
       "      <td>Single carriageway</td>\n",
       "      <td>Rural</td>\n",
       "      <td>Fine no high winds</td>\n",
       "      <td>Car</td>\n",
       "      <td>2022</td>\n",
       "      <td>2</td>\n",
       "      <td>23</td>\n",
       "      <td>2</td>\n",
       "    </tr>\n",
       "    <tr>\n",
       "      <th>660677</th>\n",
       "      <td>201091NM01964</td>\n",
       "      <td>Serious</td>\n",
       "      <td>2022-02-23</td>\n",
       "      <td>57.214898</td>\n",
       "      <td>Darkness - no lighting</td>\n",
       "      <td>Highland</td>\n",
       "      <td>-3.823997</td>\n",
       "      <td>1</td>\n",
       "      <td>2</td>\n",
       "      <td>Wet or damp</td>\n",
       "      <td>Single carriageway</td>\n",
       "      <td>Rural</td>\n",
       "      <td>Fine no high winds</td>\n",
       "      <td>Motorcycle over 500cc</td>\n",
       "      <td>2022</td>\n",
       "      <td>2</td>\n",
       "      <td>23</td>\n",
       "      <td>2</td>\n",
       "    </tr>\n",
       "    <tr>\n",
       "      <th>660678</th>\n",
       "      <td>201091NM02142</td>\n",
       "      <td>Serious</td>\n",
       "      <td>2022-02-28</td>\n",
       "      <td>57.575210</td>\n",
       "      <td>Daylight</td>\n",
       "      <td>Highland</td>\n",
       "      <td>-3.895673</td>\n",
       "      <td>1</td>\n",
       "      <td>1</td>\n",
       "      <td>Wet or damp</td>\n",
       "      <td>Dual carriageway</td>\n",
       "      <td>Rural</td>\n",
       "      <td>Snowing no high winds</td>\n",
       "      <td>Car</td>\n",
       "      <td>2022</td>\n",
       "      <td>2</td>\n",
       "      <td>28</td>\n",
       "      <td>0</td>\n",
       "    </tr>\n",
       "  </tbody>\n",
       "</table>\n",
       "<p>660679 rows × 18 columns</p>\n",
       "</div>"
      ],
      "text/plain": [
       "                Index Accident_Severity Accident_Date   Latitude  \\\n",
       "0       200701BS64157           Serious    2019-06-05  51.506187   \n",
       "1       200701BS65737           Serious    2019-07-02  51.495029   \n",
       "2       200701BS66127           Serious    2019-08-26  51.517715   \n",
       "3       200701BS66128           Serious    2019-08-16  51.495478   \n",
       "4       200701BS66837            Slight    2019-09-03  51.488576   \n",
       "...               ...               ...           ...        ...   \n",
       "660674  201091NM01760            Slight    2022-02-18  57.374005   \n",
       "660675  201091NM01881            Slight    2022-02-21  57.232273   \n",
       "660676  201091NM01935            Slight    2022-02-23  57.585044   \n",
       "660677  201091NM01964           Serious    2022-02-23  57.214898   \n",
       "660678  201091NM02142           Serious    2022-02-28  57.575210   \n",
       "\n",
       "                   Light_Conditions           District_Area Longitude  \\\n",
       "0             Darkness - lights lit  Kensington and Chelsea -0.209082   \n",
       "1                          Daylight  Kensington and Chelsea -0.173647   \n",
       "2       Darkness - lighting unknown  Kensington and Chelsea -0.210215   \n",
       "3                          Daylight  Kensington and Chelsea -0.202731   \n",
       "4             Darkness - lights lit  Kensington and Chelsea -0.192487   \n",
       "...                             ...                     ...       ...   \n",
       "660674                     Daylight                Highland -3.467828   \n",
       "660675       Darkness - no lighting                Highland -3.809281   \n",
       "660676                     Daylight                Highland -3.862727   \n",
       "660677       Darkness - no lighting                Highland -3.823997   \n",
       "660678                     Daylight                Highland -3.895673   \n",
       "\n",
       "        Number_of_Casualties  Number_of_Vehicles Road_Surface_Conditions  \\\n",
       "0                          1                   2                     Dry   \n",
       "1                          1                   2             Wet or damp   \n",
       "2                          1                   3                     Dry   \n",
       "3                          1                   4                     Dry   \n",
       "4                          1                   2                     Dry   \n",
       "...                      ...                 ...                     ...   \n",
       "660674                     2                   1                     Dry   \n",
       "660675                     1                   1            Frost or ice   \n",
       "660676                     1                   3            Frost or ice   \n",
       "660677                     1                   2             Wet or damp   \n",
       "660678                     1                   1             Wet or damp   \n",
       "\n",
       "                 Road_Type Urban_or_Rural_Area     Weather_Conditions  \\\n",
       "0       Single carriageway               Urban     Fine no high winds   \n",
       "1       Single carriageway               Urban  Raining no high winds   \n",
       "2              unaccounted               Urban            unaccounted   \n",
       "3       Single carriageway               Urban     Fine no high winds   \n",
       "4              unaccounted               Urban            unaccounted   \n",
       "...                    ...                 ...                    ...   \n",
       "660674  Single carriageway               Rural     Fine no high winds   \n",
       "660675  Single carriageway               Rural     Fine no high winds   \n",
       "660676  Single carriageway               Rural     Fine no high winds   \n",
       "660677  Single carriageway               Rural     Fine no high winds   \n",
       "660678    Dual carriageway               Rural  Snowing no high winds   \n",
       "\n",
       "                                Vehicle_Type  Year  Month  Day  DayofWeek  \n",
       "0                                        Car  2019      6    5          2  \n",
       "1                                        Car  2019      7    2          1  \n",
       "2                      Taxi/Private hire car  2019      8   26          0  \n",
       "3       Bus or coach (17 or more pass seats)  2019      8   16          4  \n",
       "4                              Other vehicle  2019      9    3          1  \n",
       "...                                      ...   ...    ...  ...        ...  \n",
       "660674                                   Car  2022      2   18          4  \n",
       "660675                                   Car  2022      2   21          0  \n",
       "660676                                   Car  2022      2   23          2  \n",
       "660677                 Motorcycle over 500cc  2022      2   23          2  \n",
       "660678                                   Car  2022      2   28          0  \n",
       "\n",
       "[660679 rows x 18 columns]"
      ]
     },
     "execution_count": 12,
     "metadata": {},
     "output_type": "execute_result"
    }
   ],
   "source": [
    "accident"
   ]
  },
  {
   "cell_type": "code",
   "execution_count": 13,
   "id": "2f8e4d07-1571-4852-8ff5-a57e81909711",
   "metadata": {},
   "outputs": [
    {
     "data": {
      "text/plain": [
       "(660679, 18)"
      ]
     },
     "execution_count": 13,
     "metadata": {},
     "output_type": "execute_result"
    }
   ],
   "source": [
    "accident.shape"
   ]
  },
  {
   "cell_type": "markdown",
   "id": "5f527e6e-feec-4457-b8f4-69b4bdcabfce",
   "metadata": {},
   "source": [
    "<h1>Questions & Insights</h1>\n",
    "<hr>"
   ]
  },
  {
   "cell_type": "markdown",
   "id": "ff0825db-935d-4610-bc71-c723ca37fd9a",
   "metadata": {},
   "source": [
    "<h1>1. Which year between 2019 to 2022 recorded the highest number of accidents? </h1>"
   ]
  },
  {
   "cell_type": "code",
   "execution_count": 107,
   "id": "61274e26-7d6a-4d2b-ad51-2bafaab25336",
   "metadata": {},
   "outputs": [
    {
     "data": {
      "text/plain": [
       "Year\n",
       "2019    182115\n",
       "2020    170591\n",
       "2021    163554\n",
       "2022    144419\n",
       "Name: count, dtype: int64"
      ]
     },
     "execution_count": 107,
     "metadata": {},
     "output_type": "execute_result"
    }
   ],
   "source": [
    "overall_acc = accident['Year'].value_counts()\n",
    "overall_acc"
   ]
  },
  {
   "cell_type": "code",
   "execution_count": 108,
   "id": "cce3ff56-66cc-460a-b6b2-c1ae9d86559b",
   "metadata": {},
   "outputs": [
    {
     "data": {
      "text/plain": [
       "<Axes: title={'center': 'Number of Accidents per Year (2019–2022)'}, xlabel='Year', ylabel='Number of Accidents'>"
      ]
     },
     "execution_count": 108,
     "metadata": {},
     "output_type": "execute_result"
    },
    {
     "data": {
      "image/png": "[encoded data removed]",
      "text/plain": [
       "<Figure size 640x480 with 1 Axes>"
      ]
     },
     "metadata": {},
     "output_type": "display_data"
    }
   ],
   "source": [
    "overall_acc.plot(kind='bar', title='Number of Accidents per Year (2019–2022)', xlabel='Year', ylabel='Number of Accidents')"
   ]
  },
  {
   "cell_type": "markdown",
   "id": "426625da-8004-4c42-9832-65b74eda6889",
   "metadata": {},
   "source": [
    "<h2>Insight 1: The highest number of recorded accidents occurred in 2019, followed by a continuous decline in subsequent years.</h2>"
   ]
  },
  {
   "cell_type": "markdown",
   "id": "058a4921-1ef5-4b6b-bfd6-a659436e5d06",
   "metadata": {},
   "source": [
    "<h2>Insight 2: The most significant decline occurred between 2021 and 2022, with over 19,000 fewer accidents recorded.</h2>"
   ]
  },
  {
   "cell_type": "markdown",
   "id": "494d8ed0-7ad4-4c7f-9145-5035c356914f",
   "metadata": {},
   "source": [
    "<h1>2. Which months have the highest number of accidents?</h1>"
   ]
  },
  {
   "cell_type": "code",
   "execution_count": 109,
   "id": "0c400c57-ab7a-473a-ad45-387f0cce7108",
   "metadata": {},
   "outputs": [
    {
     "data": {
      "text/plain": [
       "Month\n",
       "1     52872\n",
       "2     49491\n",
       "3     54086\n",
       "4     51744\n",
       "5     56352\n",
       "6     56481\n",
       "7     57445\n",
       "8     53913\n",
       "9     56455\n",
       "10    59580\n",
       "11    60424\n",
       "12    51836\n",
       "dtype: int64"
      ]
     },
     "execution_count": 109,
     "metadata": {},
     "output_type": "execute_result"
    }
   ],
   "source": [
    "accident['Month'] = accident['Accident_Date'].dt.month \n",
    "monthly_counts = accident.groupby('Month').size()\n",
    "monthly_counts"
   ]
  },
  {
   "cell_type": "code",
   "execution_count": 110,
   "id": "1050182a-f6aa-44bb-a308-df4dcbe80803",
   "metadata": {},
   "outputs": [
    {
     "data": {
      "image/png": "[encoded data removed]",
      "text/plain": [
       "<Figure size 640x480 with 1 Axes>"
      ]
     },
     "metadata": {},
     "output_type": "display_data"
    }
   ],
   "source": [
    "monthly_counts.plot(kind='line', marker='o', linestyle='-', color='orange')\n",
    "plt.title('Number of Accidents by Month')\n",
    "plt.xlabel('Months')\n",
    "plt.ylabel('Number of Accidents')\n",
    "plt.grid(True)\n",
    "plt.xticks(range(1,13))\n",
    "plt.show()"
   ]
  },
  {
   "cell_type": "markdown",
   "id": "9d3e5da7-89f8-4c36-8613-2b4e61a25220",
   "metadata": {},
   "source": [
    "<h2>Insight 3: November recorded the highest number of accidents, followed closely by October.</h2>"
   ]
  },
  {
   "cell_type": "markdown",
   "id": "6e3b095d-7366-4b57-ac29-2157ec977596",
   "metadata": {},
   "source": [
    "<h2>Insight 4: February had the lowest number of accidents, which may be influenced by the shorter number of days and reduced road activity during winter</h2>"
   ]
  },
  {
   "cell_type": "markdown",
   "id": "6ffb6972-750c-4e3c-b0ca-81a5d2933852",
   "metadata": {},
   "source": [
    "<h1>3. Which district has the highest and lowest accident severity? </h1>"
   ]
  },
  {
   "cell_type": "code",
   "execution_count": 111,
   "id": "49a82b0a-8e1c-4369-a437-afd1d289da93",
   "metadata": {},
   "outputs": [
    {
     "name": "stderr",
     "output_type": "stream",
     "text": [
      "C:\\Users\\Ria\\AppData\\Local\\Temp\\ipykernel_10708\\973436500.py:1: FutureWarning: The default of observed=False is deprecated and will be changed to True in a future version of pandas. Pass observed=False to retain current behavior or observed=True to adopt the future default and silence this warning.\n",
      "  severity_counts = accident.groupby(['District_Area', 'Accident_Severity']).size().unstack()\n"
     ]
    },
    {
     "data": {
      "text/html": [
       "<div>\n",
       "<style scoped>\n",
       "    .dataframe tbody tr th:only-of-type {\n",
       "        vertical-align: middle;\n",
       "    }\n",
       "\n",
       "    .dataframe tbody tr th {\n",
       "        vertical-align: top;\n",
       "    }\n",
       "\n",
       "    .dataframe thead th {\n",
       "        text-align: right;\n",
       "    }\n",
       "</style>\n",
       "<table border=\"1\" class=\"dataframe\">\n",
       "  <thead>\n",
       "    <tr style=\"text-align: right;\">\n",
       "      <th>Accident_Severity</th>\n",
       "      <th>Fatal</th>\n",
       "      <th>Serious</th>\n",
       "      <th>Slight</th>\n",
       "    </tr>\n",
       "    <tr>\n",
       "      <th>District_Area</th>\n",
       "      <th></th>\n",
       "      <th></th>\n",
       "      <th></th>\n",
       "    </tr>\n",
       "  </thead>\n",
       "  <tbody>\n",
       "    <tr>\n",
       "      <th>Aberdeen City</th>\n",
       "      <td>12</td>\n",
       "      <td>239</td>\n",
       "      <td>1072</td>\n",
       "    </tr>\n",
       "    <tr>\n",
       "      <th>Aberdeenshire</th>\n",
       "      <td>66</td>\n",
       "      <td>463</td>\n",
       "      <td>1401</td>\n",
       "    </tr>\n",
       "    <tr>\n",
       "      <th>Adur</th>\n",
       "      <td>8</td>\n",
       "      <td>101</td>\n",
       "      <td>510</td>\n",
       "    </tr>\n",
       "    <tr>\n",
       "      <th>Allerdale</th>\n",
       "      <td>24</td>\n",
       "      <td>143</td>\n",
       "      <td>961</td>\n",
       "    </tr>\n",
       "    <tr>\n",
       "      <th>Alnwick</th>\n",
       "      <td>6</td>\n",
       "      <td>33</td>\n",
       "      <td>193</td>\n",
       "    </tr>\n",
       "    <tr>\n",
       "      <th>...</th>\n",
       "      <td>...</td>\n",
       "      <td>...</td>\n",
       "      <td>...</td>\n",
       "    </tr>\n",
       "    <tr>\n",
       "      <th>Wychavon</th>\n",
       "      <td>30</td>\n",
       "      <td>193</td>\n",
       "      <td>1138</td>\n",
       "    </tr>\n",
       "    <tr>\n",
       "      <th>Wycombe</th>\n",
       "      <td>20</td>\n",
       "      <td>216</td>\n",
       "      <td>1493</td>\n",
       "    </tr>\n",
       "    <tr>\n",
       "      <th>Wyre</th>\n",
       "      <td>15</td>\n",
       "      <td>186</td>\n",
       "      <td>1037</td>\n",
       "    </tr>\n",
       "    <tr>\n",
       "      <th>Wyre Forest</th>\n",
       "      <td>22</td>\n",
       "      <td>132</td>\n",
       "      <td>815</td>\n",
       "    </tr>\n",
       "    <tr>\n",
       "      <th>York</th>\n",
       "      <td>21</td>\n",
       "      <td>255</td>\n",
       "      <td>1621</td>\n",
       "    </tr>\n",
       "  </tbody>\n",
       "</table>\n",
       "<p>422 rows × 3 columns</p>\n",
       "</div>"
      ],
      "text/plain": [
       "Accident_Severity  Fatal  Serious  Slight\n",
       "District_Area                            \n",
       "Aberdeen City         12      239    1072\n",
       "Aberdeenshire         66      463    1401\n",
       "Adur                   8      101     510\n",
       "Allerdale             24      143     961\n",
       "Alnwick                6       33     193\n",
       "...                  ...      ...     ...\n",
       "Wychavon              30      193    1138\n",
       "Wycombe               20      216    1493\n",
       "Wyre                  15      186    1037\n",
       "Wyre Forest           22      132     815\n",
       "York                  21      255    1621\n",
       "\n",
       "[422 rows x 3 columns]"
      ]
     },
     "execution_count": 111,
     "metadata": {},
     "output_type": "execute_result"
    }
   ],
   "source": [
    "severity_counts = accident.groupby(['District_Area', 'Accident_Severity']).size().unstack()\n",
    "severity_counts"
   ]
  },
  {
   "cell_type": "code",
   "execution_count": 113,
   "id": "9a69011f-667e-488a-a100-0bb595925c68",
   "metadata": {},
   "outputs": [
    {
     "data": {
      "text/html": [
       "<div>\n",
       "<style scoped>\n",
       "    .dataframe tbody tr th:only-of-type {\n",
       "        vertical-align: middle;\n",
       "    }\n",
       "\n",
       "    .dataframe tbody tr th {\n",
       "        vertical-align: top;\n",
       "    }\n",
       "\n",
       "    .dataframe thead th {\n",
       "        text-align: right;\n",
       "    }\n",
       "</style>\n",
       "<table border=\"1\" class=\"dataframe\">\n",
       "  <thead>\n",
       "    <tr style=\"text-align: right;\">\n",
       "      <th>Accident_Severity</th>\n",
       "      <th>Fatal</th>\n",
       "      <th>Serious</th>\n",
       "      <th>Slight</th>\n",
       "      <th>Total</th>\n",
       "    </tr>\n",
       "    <tr>\n",
       "      <th>District_Area</th>\n",
       "      <th></th>\n",
       "      <th></th>\n",
       "      <th></th>\n",
       "      <th></th>\n",
       "    </tr>\n",
       "  </thead>\n",
       "  <tbody>\n",
       "    <tr>\n",
       "      <th>Birmingham</th>\n",
       "      <td>105</td>\n",
       "      <td>1474</td>\n",
       "      <td>11912</td>\n",
       "      <td>13491.0</td>\n",
       "    </tr>\n",
       "    <tr>\n",
       "      <th>Leeds</th>\n",
       "      <td>93</td>\n",
       "      <td>1147</td>\n",
       "      <td>7658</td>\n",
       "      <td>8898.0</td>\n",
       "    </tr>\n",
       "    <tr>\n",
       "      <th>Manchester</th>\n",
       "      <td>49</td>\n",
       "      <td>666</td>\n",
       "      <td>6005</td>\n",
       "      <td>6720.0</td>\n",
       "    </tr>\n",
       "    <tr>\n",
       "      <th>Bradford</th>\n",
       "      <td>71</td>\n",
       "      <td>802</td>\n",
       "      <td>5339</td>\n",
       "      <td>6212.0</td>\n",
       "    </tr>\n",
       "    <tr>\n",
       "      <th>Sheffield</th>\n",
       "      <td>38</td>\n",
       "      <td>749</td>\n",
       "      <td>4923</td>\n",
       "      <td>5710.0</td>\n",
       "    </tr>\n",
       "    <tr>\n",
       "      <th>...</th>\n",
       "      <td>...</td>\n",
       "      <td>...</td>\n",
       "      <td>...</td>\n",
       "      <td>...</td>\n",
       "    </tr>\n",
       "    <tr>\n",
       "      <th>Berwick-upon-Tweed</th>\n",
       "      <td>3</td>\n",
       "      <td>29</td>\n",
       "      <td>121</td>\n",
       "      <td>153.0</td>\n",
       "    </tr>\n",
       "    <tr>\n",
       "      <th>Teesdale</th>\n",
       "      <td>3</td>\n",
       "      <td>29</td>\n",
       "      <td>110</td>\n",
       "      <td>142.0</td>\n",
       "    </tr>\n",
       "    <tr>\n",
       "      <th>Shetland Islands</th>\n",
       "      <td>5</td>\n",
       "      <td>15</td>\n",
       "      <td>113</td>\n",
       "      <td>133.0</td>\n",
       "    </tr>\n",
       "    <tr>\n",
       "      <th>Orkney Islands</th>\n",
       "      <td>2</td>\n",
       "      <td>19</td>\n",
       "      <td>96</td>\n",
       "      <td>117.0</td>\n",
       "    </tr>\n",
       "    <tr>\n",
       "      <th>Clackmannanshire</th>\n",
       "      <td>1</td>\n",
       "      <td>18</td>\n",
       "      <td>72</td>\n",
       "      <td>91.0</td>\n",
       "    </tr>\n",
       "  </tbody>\n",
       "</table>\n",
       "<p>422 rows × 4 columns</p>\n",
       "</div>"
      ],
      "text/plain": [
       "Accident_Severity   Fatal  Serious  Slight    Total\n",
       "District_Area                                      \n",
       "Birmingham            105     1474   11912  13491.0\n",
       "Leeds                  93     1147    7658   8898.0\n",
       "Manchester             49      666    6005   6720.0\n",
       "Bradford               71      802    5339   6212.0\n",
       "Sheffield              38      749    4923   5710.0\n",
       "...                   ...      ...     ...      ...\n",
       "Berwick-upon-Tweed      3       29     121    153.0\n",
       "Teesdale                3       29     110    142.0\n",
       "Shetland Islands        5       15     113    133.0\n",
       "Orkney Islands          2       19      96    117.0\n",
       "Clackmannanshire        1       18      72     91.0\n",
       "\n",
       "[422 rows x 4 columns]"
      ]
     },
     "execution_count": 113,
     "metadata": {},
     "output_type": "execute_result"
    }
   ],
   "source": [
    "#for highest\n",
    "\n",
    "severity_counts['Total'] = severity_counts.sum(axis=1)\n",
    "top_severity = severity_counts.sort_values(by='Total', ascending=False)\n",
    "\n",
    "top_severity\n"
   ]
  },
  {
   "cell_type": "markdown",
   "id": "16db02d0-7489-4821-bbb8-7dd1240dd030",
   "metadata": {},
   "source": [
    "<h2>Insight 5: Among the top 5 districts with the highest accident counts, Birmingham leads with the most accidents across all severity levels, while Sheffield ranks fifth.</h2>"
   ]
  },
  {
   "cell_type": "code",
   "execution_count": 71,
   "id": "cdc4a974-b077-41db-a95f-5fec2abe3024",
   "metadata": {},
   "outputs": [
    {
     "data": {
      "text/html": [
       "<div>\n",
       "<style scoped>\n",
       "    .dataframe tbody tr th:only-of-type {\n",
       "        vertical-align: middle;\n",
       "    }\n",
       "\n",
       "    .dataframe tbody tr th {\n",
       "        vertical-align: top;\n",
       "    }\n",
       "\n",
       "    .dataframe thead th {\n",
       "        text-align: right;\n",
       "    }\n",
       "</style>\n",
       "<table border=\"1\" class=\"dataframe\">\n",
       "  <thead>\n",
       "    <tr style=\"text-align: right;\">\n",
       "      <th>Accident_Severity</th>\n",
       "      <th>Fatal</th>\n",
       "      <th>Serious</th>\n",
       "      <th>Slight</th>\n",
       "      <th>Total</th>\n",
       "    </tr>\n",
       "    <tr>\n",
       "      <th>District_Area</th>\n",
       "      <th></th>\n",
       "      <th></th>\n",
       "      <th></th>\n",
       "      <th></th>\n",
       "    </tr>\n",
       "  </thead>\n",
       "  <tbody>\n",
       "    <tr>\n",
       "      <th>Clackmannanshire</th>\n",
       "      <td>1</td>\n",
       "      <td>18</td>\n",
       "      <td>72</td>\n",
       "      <td>819</td>\n",
       "    </tr>\n",
       "    <tr>\n",
       "      <th>Orkney Islands</th>\n",
       "      <td>2</td>\n",
       "      <td>19</td>\n",
       "      <td>96</td>\n",
       "      <td>1053</td>\n",
       "    </tr>\n",
       "    <tr>\n",
       "      <th>Shetland Islands</th>\n",
       "      <td>5</td>\n",
       "      <td>15</td>\n",
       "      <td>113</td>\n",
       "      <td>1197</td>\n",
       "    </tr>\n",
       "    <tr>\n",
       "      <th>Teesdale</th>\n",
       "      <td>3</td>\n",
       "      <td>29</td>\n",
       "      <td>110</td>\n",
       "      <td>1278</td>\n",
       "    </tr>\n",
       "    <tr>\n",
       "      <th>Berwick-upon-Tweed</th>\n",
       "      <td>3</td>\n",
       "      <td>29</td>\n",
       "      <td>121</td>\n",
       "      <td>1377</td>\n",
       "    </tr>\n",
       "    <tr>\n",
       "      <th>...</th>\n",
       "      <td>...</td>\n",
       "      <td>...</td>\n",
       "      <td>...</td>\n",
       "      <td>...</td>\n",
       "    </tr>\n",
       "    <tr>\n",
       "      <th>Sheffield</th>\n",
       "      <td>38</td>\n",
       "      <td>749</td>\n",
       "      <td>4923</td>\n",
       "      <td>51390</td>\n",
       "    </tr>\n",
       "    <tr>\n",
       "      <th>Bradford</th>\n",
       "      <td>71</td>\n",
       "      <td>802</td>\n",
       "      <td>5339</td>\n",
       "      <td>55908</td>\n",
       "    </tr>\n",
       "    <tr>\n",
       "      <th>Manchester</th>\n",
       "      <td>49</td>\n",
       "      <td>666</td>\n",
       "      <td>6005</td>\n",
       "      <td>60480</td>\n",
       "    </tr>\n",
       "    <tr>\n",
       "      <th>Leeds</th>\n",
       "      <td>93</td>\n",
       "      <td>1147</td>\n",
       "      <td>7658</td>\n",
       "      <td>80082</td>\n",
       "    </tr>\n",
       "    <tr>\n",
       "      <th>Birmingham</th>\n",
       "      <td>105</td>\n",
       "      <td>1474</td>\n",
       "      <td>11912</td>\n",
       "      <td>121419</td>\n",
       "    </tr>\n",
       "  </tbody>\n",
       "</table>\n",
       "<p>422 rows × 4 columns</p>\n",
       "</div>"
      ],
      "text/plain": [
       "Accident_Severity   Fatal  Serious  Slight   Total\n",
       "District_Area                                     \n",
       "Clackmannanshire        1       18      72     819\n",
       "Orkney Islands          2       19      96    1053\n",
       "Shetland Islands        5       15     113    1197\n",
       "Teesdale                3       29     110    1278\n",
       "Berwick-upon-Tweed      3       29     121    1377\n",
       "...                   ...      ...     ...     ...\n",
       "Sheffield              38      749    4923   51390\n",
       "Bradford               71      802    5339   55908\n",
       "Manchester             49      666    6005   60480\n",
       "Leeds                  93     1147    7658   80082\n",
       "Birmingham            105     1474   11912  121419\n",
       "\n",
       "[422 rows x 4 columns]"
      ]
     },
     "execution_count": 71,
     "metadata": {},
     "output_type": "execute_result"
    }
   ],
   "source": [
    "#for lowest nseverity counts\n",
    "severity_counts['Total'] = severity_counts.sum(axis=1)\n",
    "lowest_total = severity_counts.sort_values(by='Total', ascending=True)\n",
    "\n",
    "lowest_total"
   ]
  },
  {
   "cell_type": "markdown",
   "id": "1cc79d11-dda6-412e-931b-09ccaf8cdd28",
   "metadata": {},
   "source": [
    "<h2>Insight 6: The districts with the lowest accident counts are mostly rural areas, with Clackmannanshire having the fewest total accidents and Berwick-upon-Tweed the highest among the bottom five.</h2>"
   ]
  },
  {
   "cell_type": "markdown",
   "id": "66ad8335-9da9-4373-9302-e555d081f79f",
   "metadata": {},
   "source": [
    "<h1>4. How does accident frequency vary across days of the week?</h1>"
   ]
  },
  {
   "cell_type": "code",
   "execution_count": 114,
   "id": "ef991bb5-63b8-4e5a-80ab-f5065ae1ccb0",
   "metadata": {},
   "outputs": [
    {
     "data": {
      "text/plain": [
       "DayofWeek\n",
       "0     72680\n",
       "1     94550\n",
       "2     99558\n",
       "3     99511\n",
       "4     97900\n",
       "5    107178\n",
       "6     89302\n",
       "dtype: int64"
      ]
     },
     "execution_count": 114,
     "metadata": {},
     "output_type": "execute_result"
    }
   ],
   "source": [
    "days = accident.groupby(\"DayofWeek\").size()\n",
    "days"
   ]
  },
  {
   "cell_type": "code",
   "execution_count": 22,
   "id": "9ac658c2-bc5f-48d0-b890-1da088d5d761",
   "metadata": {},
   "outputs": [
    {
     "data": {
      "text/plain": [
       "Days of the Week\n",
       "Monday        72680\n",
       "Tuesday       94550\n",
       "Wednesday     99558\n",
       "Thursday      99511\n",
       "Friday        97900\n",
       "Saturday     107178\n",
       "Sunday        89302\n",
       "Name: count, dtype: int64"
      ]
     },
     "execution_count": 22,
     "metadata": {},
     "output_type": "execute_result"
    }
   ],
   "source": [
    "#extract daysofweek to day name instead of 0-6\n",
    "accident['Days of the Week'] = accident['Accident_Date'].dt.day_name()\n",
    "day_counts = accident['Days of the Week'].value_counts()\n",
    "\n",
    "days_order = ['Monday', 'Tuesday', 'Wednesday', 'Thursday', 'Friday', 'Saturday', 'Sunday']\n",
    "day_counts = day_counts.reindex(days_order)\n",
    "\n",
    "day_counts"
   ]
  },
  {
   "cell_type": "code",
   "execution_count": 54,
   "id": "29e27a2c-1ec6-443c-a4d8-e15a619424b8",
   "metadata": {},
   "outputs": [
    {
     "data": {
      "image/png": "[encoded data removed]",
      "text/plain": [
       "<Figure size 800x500 with 1 Axes>"
      ]
     },
     "metadata": {},
     "output_type": "display_data"
    }
   ],
   "source": [
    "#visualoization\n",
    "plt.figure(figsize=(8,5))\n",
    "day_counts.plot(kind='bar', color='skyblue')\n",
    "plt.title('Number of Accidents by Day of the Week')\n",
    "plt.xlabel('Day of the Week')\n",
    "plt.ylabel('Number of Accidents')\n",
    "plt.xticks(rotation=45)\n",
    "plt.show()\n"
   ]
  },
  {
   "cell_type": "markdown",
   "id": "cfc51e2f-c37f-4de4-8457-097028650b90",
   "metadata": {},
   "source": [
    "<h2>Insight 7: Saturday has the highest number of accidents, indicating increased risk during weekends.</h2>"
   ]
  },
  {
   "cell_type": "markdown",
   "id": "2e72240d-34f2-4c0e-93f2-cf0b4b7a53fc",
   "metadata": {},
   "source": [
    "<h2>Insight 8: Monday has the lowest accident count, suggesting fewer incidents at the start of the week.</h2>"
   ]
  },
  {
   "cell_type": "markdown",
   "id": "56997313-ced9-4ecd-8012-7e6f29dd5266",
   "metadata": {},
   "source": [
    "<h1>5. What are the most common road surface conditions based on the severity accidents?</h1>"
   ]
  },
  {
   "cell_type": "code",
   "execution_count": 24,
   "id": "17ffd54f-e128-4d02-afb6-fb56e4a48bff",
   "metadata": {},
   "outputs": [
    {
     "data": {
      "text/plain": [
       "Road_Surface_Conditions\n",
       "Dry                       5788\n",
       "Wet or damp               2620\n",
       "Frost or ice               193\n",
       "Snow                        35\n",
       "Flood over 3cm. deep        23\n",
       "unknown road condition       2\n",
       "Name: count, dtype: int64"
      ]
     },
     "execution_count": 24,
     "metadata": {},
     "output_type": "execute_result"
    }
   ],
   "source": [
    "fatal_conditions = accident[accident['Accident_Severity'] == 'Fatal']['Road_Surface_Conditions'].value_counts()\n",
    "fatal_conditions"
   ]
  },
  {
   "cell_type": "code",
   "execution_count": 25,
   "id": "329d6810-85d7-4585-8b3f-d52088087688",
   "metadata": {},
   "outputs": [
    {
     "data": {
      "image/png": "[encoded data removed]",
      "text/plain": [
       "<Figure size 600x600 with 1 Axes>"
      ]
     },
     "metadata": {},
     "output_type": "display_data"
    }
   ],
   "source": [
    "plt.figure(figsize=(6,6))\n",
    "fatal_conditions.plot(kind='pie', autopct='%1.1f%%')\n",
    "\n",
    "plt.title(\"Fatal Accidents by Road Surface Conditions\")\n",
    "plt.show()"
   ]
  },
  {
   "cell_type": "markdown",
   "id": "ecec69b6-27d2-45eb-a559-e09547a1ff60",
   "metadata": {},
   "source": [
    "<h2>Insight 9: The majority of fatal accidents occurred on dry road surfaces, accounting for approximately 66.8% of cases.</h2>"
   ]
  },
  {
   "cell_type": "code",
   "execution_count": 26,
   "id": "8fd7071c-6b8c-4034-a274-d882783e7a7d",
   "metadata": {},
   "outputs": [
    {
     "data": {
      "text/plain": [
       "Road_Surface_Conditions\n",
       "Dry                       5788\n",
       "Wet or damp               2620\n",
       "Frost or ice               193\n",
       "Snow                        35\n",
       "Flood over 3cm. deep        23\n",
       "unknown road condition       2\n",
       "Name: count, dtype: int64"
      ]
     },
     "execution_count": 26,
     "metadata": {},
     "output_type": "execute_result"
    }
   ],
   "source": [
    "serious_conditions = accident[accident['Accident_Severity'] == 'Serious']['Road_Surface_Conditions'].value_counts()\n",
    "fatal_conditions"
   ]
  },
  {
   "cell_type": "code",
   "execution_count": 27,
   "id": "26c0466c-0999-47d7-b4f7-15d8aeec61d2",
   "metadata": {},
   "outputs": [
    {
     "data": {
      "image/png": "[encoded data removed]",
      "text/plain": [
       "<Figure size 600x600 with 1 Axes>"
      ]
     },
     "metadata": {},
     "output_type": "display_data"
    }
   ],
   "source": [
    "plt.figure(figsize=(6,6))\n",
    "serious_conditions.plot(kind='pie', autopct='%1.1f%%')\n",
    "\n",
    "plt.title(\"Serious Accidents by Road Surface Conditions\")\n",
    "plt.show()"
   ]
  },
  {
   "cell_type": "markdown",
   "id": "7f380c23-4695-4994-9e28-fd29df318ce6",
   "metadata": {},
   "source": [
    "<h2>Insight 10: The majority of serioud accidents occurred on dry road surfaces, accounting for approximately 69.9% of cases.</h2>"
   ]
  },
  {
   "cell_type": "code",
   "execution_count": 28,
   "id": "4e305327-3d97-439a-b7f8-8898852a3ebb",
   "metadata": {},
   "outputs": [
    {
     "data": {
      "text/plain": [
       "Road_Surface_Conditions\n",
       "Dry                       380395\n",
       "Wet or damp               160303\n",
       "Frost or ice               16317\n",
       "Snow                        5290\n",
       "Flood over 3cm. deep         842\n",
       "unknown road condition       654\n",
       "Name: count, dtype: int64"
      ]
     },
     "execution_count": 28,
     "metadata": {},
     "output_type": "execute_result"
    }
   ],
   "source": [
    "slight_conditions = accident[accident['Accident_Severity'] == 'Slight']['Road_Surface_Conditions'].value_counts()\n",
    "slight_conditions"
   ]
  },
  {
   "cell_type": "code",
   "execution_count": 29,
   "id": "7ad1ca35-f9aa-496b-b576-2910501677a4",
   "metadata": {},
   "outputs": [
    {
     "data": {
      "image/png": "[encoded data removed]",
      "text/plain": [
       "<Figure size 600x600 with 1 Axes>"
      ]
     },
     "metadata": {},
     "output_type": "display_data"
    }
   ],
   "source": [
    "plt.figure(figsize=(6,6))\n",
    "slight_conditions.plot(kind='pie', autopct='%1.1f%%')\n",
    "\n",
    "plt.title(\"Slight Accidents by Road Surface Conditions\")\n",
    "plt.show()"
   ]
  },
  {
   "cell_type": "markdown",
   "id": "520f486f-c3a5-47f8-8550-37f661fdae86",
   "metadata": {},
   "source": [
    "<h2>Insight 11: The majority of fatal accidents occurred on dry road surfaces, accounting for approximately 67.5% of cases.</h2>"
   ]
  },
  {
   "cell_type": "markdown",
   "id": "5e752511-062f-4615-a320-6abd218ab8c6",
   "metadata": {},
   "source": [
    "<h1>6. Which vehicle type is most often involved in accidents in both rural and urban areas?</h1>"
   ]
  },
  {
   "cell_type": "code",
   "execution_count": 30,
   "id": "a8a9abd0-5901-469c-a13d-bf6996585cf4",
   "metadata": {},
   "outputs": [
    {
     "name": "stderr",
     "output_type": "stream",
     "text": [
      "C:\\Users\\Ria\\AppData\\Local\\Temp\\ipykernel_10708\\2899712982.py:1: FutureWarning: The default of observed=False is deprecated and will be changed to True in a future version of pandas. Pass observed=False to retain current behavior or observed=True to adopt the future default and silence this warning.\n",
      "  vehicle_area_counts = accident.groupby([\"Vehicle_Type\", \"Urban_or_Rural_Area\"]).size()\n"
     ]
    },
    {
     "data": {
      "text/plain": [
       "Vehicle_Type                           Urban_or_Rural_Area\n",
       "Agricultural vehicle                   Rural                     675\n",
       "                                       Unallocated                 0\n",
       "                                       Urban                    1272\n",
       "Bus or coach (17 or more pass seats)   Rural                    9025\n",
       "                                       Unallocated                 2\n",
       "                                       Urban                   16851\n",
       "Car                                    Rural                  181922\n",
       "                                       Unallocated                 8\n",
       "                                       Urban                  316062\n",
       "Data missing or out of range           Rural                       0\n",
       "                                       Unallocated                 0\n",
       "                                       Urban                       6\n",
       "Goods 7.5 tonnes mgw and over          Rural                    6156\n",
       "                                       Unallocated                 0\n",
       "                                       Urban                   11151\n",
       "Goods over 3.5t. and under 7.5t        Rural                    2232\n",
       "                                       Unallocated                 0\n",
       "                                       Urban                    3864\n",
       "Minibus (8 - 16 passenger seats)       Rural                     718\n",
       "                                       Unallocated                 0\n",
       "                                       Urban                    1258\n",
       "Motorcycle 125cc and under             Rural                    5023\n",
       "                                       Unallocated                 0\n",
       "                                       Urban                   10246\n",
       "Motorcycle 50cc and under              Rural                    2710\n",
       "                                       Unallocated                 0\n",
       "                                       Urban                    4893\n",
       "Motorcycle over 125cc and up to 500cc  Rural                    2674\n",
       "                                       Unallocated                 0\n",
       "                                       Urban                    4982\n",
       "Motorcycle over 500cc                  Rural                    8957\n",
       "                                       Unallocated                 0\n",
       "                                       Urban                   16700\n",
       "Other vehicle                          Rural                    1994\n",
       "                                       Unallocated                 0\n",
       "                                       Urban                    3643\n",
       "Pedal cycle                            Rural                      70\n",
       "                                       Unallocated                 0\n",
       "                                       Urban                     127\n",
       "Ridden horse                           Rural                       1\n",
       "                                       Unallocated                 0\n",
       "                                       Urban                       3\n",
       "Taxi/Private hire car                  Rural                    4677\n",
       "                                       Unallocated                 0\n",
       "                                       Urban                    8617\n",
       "Van / Goods 3.5 tonnes mgw or under    Rural                   12156\n",
       "                                       Unallocated                 1\n",
       "                                       Urban                   22003\n",
       "dtype: int64"
      ]
     },
     "execution_count": 30,
     "metadata": {},
     "output_type": "execute_result"
    }
   ],
   "source": [
    "vehicle_area_counts = accident.groupby([\"Vehicle_Type\", \"Urban_or_Rural_Area\"]).size()\n",
    "vehicle_area_counts\n"
   ]
  },
  {
   "cell_type": "code",
   "execution_count": 117,
   "id": "e716a364-14bb-4fd4-83f7-54957b835c47",
   "metadata": {
    "scrolled": true
   },
   "outputs": [
    {
     "name": "stderr",
     "output_type": "stream",
     "text": [
      "C:\\Users\\Ria\\AppData\\Local\\Temp\\ipykernel_10708\\4110913880.py:1: FutureWarning: The default of observed=False is deprecated and will be changed to True in a future version of pandas. Pass observed=False to retain current behavior or observed=True to adopt the future default and silence this warning.\n",
      "  vehicle_area_counts = accident.groupby([\"Vehicle_Type\", \"Urban_or_Rural_Area\"]).size().unstack()\n"
     ]
    },
    {
     "data": {
      "text/html": [
       "<div>\n",
       "<style scoped>\n",
       "    .dataframe tbody tr th:only-of-type {\n",
       "        vertical-align: middle;\n",
       "    }\n",
       "\n",
       "    .dataframe tbody tr th {\n",
       "        vertical-align: top;\n",
       "    }\n",
       "\n",
       "    .dataframe thead th {\n",
       "        text-align: right;\n",
       "    }\n",
       "</style>\n",
       "<table border=\"1\" class=\"dataframe\">\n",
       "  <thead>\n",
       "    <tr style=\"text-align: right;\">\n",
       "      <th>Urban_or_Rural_Area</th>\n",
       "      <th>Rural</th>\n",
       "      <th>Unallocated</th>\n",
       "      <th>Urban</th>\n",
       "    </tr>\n",
       "    <tr>\n",
       "      <th>Vehicle_Type</th>\n",
       "      <th></th>\n",
       "      <th></th>\n",
       "      <th></th>\n",
       "    </tr>\n",
       "  </thead>\n",
       "  <tbody>\n",
       "    <tr>\n",
       "      <th>Agricultural vehicle</th>\n",
       "      <td>675</td>\n",
       "      <td>0</td>\n",
       "      <td>1272</td>\n",
       "    </tr>\n",
       "    <tr>\n",
       "      <th>Bus or coach (17 or more pass seats)</th>\n",
       "      <td>9025</td>\n",
       "      <td>2</td>\n",
       "      <td>16851</td>\n",
       "    </tr>\n",
       "    <tr>\n",
       "      <th>Car</th>\n",
       "      <td>181922</td>\n",
       "      <td>8</td>\n",
       "      <td>316062</td>\n",
       "    </tr>\n",
       "    <tr>\n",
       "      <th>Data missing or out of range</th>\n",
       "      <td>0</td>\n",
       "      <td>0</td>\n",
       "      <td>6</td>\n",
       "    </tr>\n",
       "    <tr>\n",
       "      <th>Goods 7.5 tonnes mgw and over</th>\n",
       "      <td>6156</td>\n",
       "      <td>0</td>\n",
       "      <td>11151</td>\n",
       "    </tr>\n",
       "    <tr>\n",
       "      <th>Goods over 3.5t. and under 7.5t</th>\n",
       "      <td>2232</td>\n",
       "      <td>0</td>\n",
       "      <td>3864</td>\n",
       "    </tr>\n",
       "    <tr>\n",
       "      <th>Minibus (8 - 16 passenger seats)</th>\n",
       "      <td>718</td>\n",
       "      <td>0</td>\n",
       "      <td>1258</td>\n",
       "    </tr>\n",
       "    <tr>\n",
       "      <th>Motorcycle 125cc and under</th>\n",
       "      <td>5023</td>\n",
       "      <td>0</td>\n",
       "      <td>10246</td>\n",
       "    </tr>\n",
       "    <tr>\n",
       "      <th>Motorcycle 50cc and under</th>\n",
       "      <td>2710</td>\n",
       "      <td>0</td>\n",
       "      <td>4893</td>\n",
       "    </tr>\n",
       "    <tr>\n",
       "      <th>Motorcycle over 125cc and up to 500cc</th>\n",
       "      <td>2674</td>\n",
       "      <td>0</td>\n",
       "      <td>4982</td>\n",
       "    </tr>\n",
       "    <tr>\n",
       "      <th>Motorcycle over 500cc</th>\n",
       "      <td>8957</td>\n",
       "      <td>0</td>\n",
       "      <td>16700</td>\n",
       "    </tr>\n",
       "    <tr>\n",
       "      <th>Other vehicle</th>\n",
       "      <td>1994</td>\n",
       "      <td>0</td>\n",
       "      <td>3643</td>\n",
       "    </tr>\n",
       "    <tr>\n",
       "      <th>Pedal cycle</th>\n",
       "      <td>70</td>\n",
       "      <td>0</td>\n",
       "      <td>127</td>\n",
       "    </tr>\n",
       "    <tr>\n",
       "      <th>Ridden horse</th>\n",
       "      <td>1</td>\n",
       "      <td>0</td>\n",
       "      <td>3</td>\n",
       "    </tr>\n",
       "    <tr>\n",
       "      <th>Taxi/Private hire car</th>\n",
       "      <td>4677</td>\n",
       "      <td>0</td>\n",
       "      <td>8617</td>\n",
       "    </tr>\n",
       "    <tr>\n",
       "      <th>Van / Goods 3.5 tonnes mgw or under</th>\n",
       "      <td>12156</td>\n",
       "      <td>1</td>\n",
       "      <td>22003</td>\n",
       "    </tr>\n",
       "  </tbody>\n",
       "</table>\n",
       "</div>"
      ],
      "text/plain": [
       "Urban_or_Rural_Area                     Rural  Unallocated   Urban\n",
       "Vehicle_Type                                                      \n",
       "Agricultural vehicle                      675            0    1272\n",
       "Bus or coach (17 or more pass seats)     9025            2   16851\n",
       "Car                                    181922            8  316062\n",
       "Data missing or out of range                0            0       6\n",
       "Goods 7.5 tonnes mgw and over            6156            0   11151\n",
       "Goods over 3.5t. and under 7.5t          2232            0    3864\n",
       "Minibus (8 - 16 passenger seats)          718            0    1258\n",
       "Motorcycle 125cc and under               5023            0   10246\n",
       "Motorcycle 50cc and under                2710            0    4893\n",
       "Motorcycle over 125cc and up to 500cc    2674            0    4982\n",
       "Motorcycle over 500cc                    8957            0   16700\n",
       "Other vehicle                            1994            0    3643\n",
       "Pedal cycle                                70            0     127\n",
       "Ridden horse                                1            0       3\n",
       "Taxi/Private hire car                    4677            0    8617\n",
       "Van / Goods 3.5 tonnes mgw or under     12156            1   22003"
      ]
     },
     "execution_count": 117,
     "metadata": {},
     "output_type": "execute_result"
    }
   ],
   "source": [
    "vehicle_area_counts = accident.groupby([\"Vehicle_Type\", \"Urban_or_Rural_Area\"]).size().unstack()\n",
    "vehicle_area_counts"
   ]
  },
  {
   "cell_type": "code",
   "execution_count": 122,
   "id": "32db78d7-5fc6-4349-88ac-45d626aeae7d",
   "metadata": {},
   "outputs": [
    {
     "data": {
      "text/plain": [
       "Vehicle_Type\n",
       "Car                                      316062\n",
       "Van / Goods 3.5 tonnes mgw or under       22003\n",
       "Bus or coach (17 or more pass seats)      16851\n",
       "Motorcycle over 500cc                     16700\n",
       "Goods 7.5 tonnes mgw and over             11151\n",
       "Motorcycle 125cc and under                10246\n",
       "Taxi/Private hire car                      8617\n",
       "Motorcycle over 125cc and up to 500cc      4982\n",
       "Motorcycle 50cc and under                  4893\n",
       "Goods over 3.5t. and under 7.5t            3864\n",
       "Other vehicle                              3643\n",
       "Agricultural vehicle                       1272\n",
       "Minibus (8 - 16 passenger seats)           1258\n",
       "Pedal cycle                                 127\n",
       "Data missing or out of range                  6\n",
       "Ridden horse                                  3\n",
       "Name: Urban, dtype: int64"
      ]
     },
     "execution_count": 122,
     "metadata": {},
     "output_type": "execute_result"
    }
   ],
   "source": [
    "top_urban = vehicle_area_counts[\"Urban\"].sort_values(ascending=False)\n",
    "top_urban\n"
   ]
  },
  {
   "cell_type": "markdown",
   "id": "b65f1108-376d-4890-82f9-91840d7bb5b3",
   "metadata": {},
   "source": [
    "<h2>Insight 12: Most urban accidents involve cars (316,062 cases), far surpassing all other vehicle types</h2>"
   ]
  },
  {
   "cell_type": "code",
   "execution_count": 124,
   "id": "8e2b2a21-010f-403d-9699-4f5f968b8aaa",
   "metadata": {},
   "outputs": [
    {
     "data": {
      "text/plain": [
       "Vehicle_Type\n",
       "Car                                      181922\n",
       "Van / Goods 3.5 tonnes mgw or under       12156\n",
       "Bus or coach (17 or more pass seats)       9025\n",
       "Motorcycle over 500cc                      8957\n",
       "Goods 7.5 tonnes mgw and over              6156\n",
       "Motorcycle 125cc and under                 5023\n",
       "Taxi/Private hire car                      4677\n",
       "Motorcycle 50cc and under                  2710\n",
       "Motorcycle over 125cc and up to 500cc      2674\n",
       "Goods over 3.5t. and under 7.5t            2232\n",
       "Other vehicle                              1994\n",
       "Minibus (8 - 16 passenger seats)            718\n",
       "Agricultural vehicle                        675\n",
       "Pedal cycle                                  70\n",
       "Ridden horse                                  1\n",
       "Data missing or out of range                  0\n",
       "Name: Rural, dtype: int64"
      ]
     },
     "execution_count": 124,
     "metadata": {},
     "output_type": "execute_result"
    }
   ],
   "source": [
    "top_rural = vehicle_area_counts[\"Rural\"].sort_values(ascending=False)\n",
    "top_rural"
   ]
  },
  {
   "cell_type": "markdown",
   "id": "f3790464-59af-4a23-93a4-14b71ca1b7ac",
   "metadata": {},
   "source": [
    "<h2>Insight 13: Most rural accidents involve cars (181,922 cases), making them by far the leading vehicle type in rural road incidents compared to all others.</h2>"
   ]
  },
  {
   "cell_type": "markdown",
   "id": "8bc5b2a2-15bb-4562-a001-4c44a472a0ad",
   "metadata": {},
   "source": [
    "<h1>7. Which combinations of light conditions, weather conditions, and district area have the highest number of accidents?</h1>"
   ]
  },
  {
   "cell_type": "code",
   "execution_count": 34,
   "id": "485c790a-728f-48f8-a15c-8d48accbcf35",
   "metadata": {},
   "outputs": [
    {
     "name": "stderr",
     "output_type": "stream",
     "text": [
      "C:\\Users\\Ria\\AppData\\Local\\Temp\\ipykernel_10708\\4123501178.py:1: FutureWarning: The default of observed=False is deprecated and will be changed to True in a future version of pandas. Pass observed=False to retain current behavior or observed=True to adopt the future default and silence this warning.\n",
      "  combo_counts = (accident.groupby([\"Light_Conditions\", \"Weather_Conditions\", \"District_Area\"]).size().reset_index(name=\"Accident_Count\"))\n"
     ]
    },
    {
     "data": {
      "text/html": [
       "<div>\n",
       "<style scoped>\n",
       "    .dataframe tbody tr th:only-of-type {\n",
       "        vertical-align: middle;\n",
       "    }\n",
       "\n",
       "    .dataframe tbody tr th {\n",
       "        vertical-align: top;\n",
       "    }\n",
       "\n",
       "    .dataframe thead th {\n",
       "        text-align: right;\n",
       "    }\n",
       "</style>\n",
       "<table border=\"1\" class=\"dataframe\">\n",
       "  <thead>\n",
       "    <tr style=\"text-align: right;\">\n",
       "      <th></th>\n",
       "      <th>Light_Conditions</th>\n",
       "      <th>Weather_Conditions</th>\n",
       "      <th>District_Area</th>\n",
       "      <th>Accident_Count</th>\n",
       "    </tr>\n",
       "  </thead>\n",
       "  <tbody>\n",
       "    <tr>\n",
       "      <th>15638</th>\n",
       "      <td>Daylight</td>\n",
       "      <td>Fine no high winds</td>\n",
       "      <td>Birmingham</td>\n",
       "      <td>7662</td>\n",
       "    </tr>\n",
       "    <tr>\n",
       "      <th>15809</th>\n",
       "      <td>Daylight</td>\n",
       "      <td>Fine no high winds</td>\n",
       "      <td>Leeds</td>\n",
       "      <td>5643</td>\n",
       "    </tr>\n",
       "    <tr>\n",
       "      <th>15650</th>\n",
       "      <td>Daylight</td>\n",
       "      <td>Fine no high winds</td>\n",
       "      <td>Bradford</td>\n",
       "      <td>3808</td>\n",
       "    </tr>\n",
       "    <tr>\n",
       "      <th>15822</th>\n",
       "      <td>Daylight</td>\n",
       "      <td>Fine no high winds</td>\n",
       "      <td>Manchester</td>\n",
       "      <td>3593</td>\n",
       "    </tr>\n",
       "    <tr>\n",
       "      <th>16018</th>\n",
       "      <td>Daylight</td>\n",
       "      <td>Fine no high winds</td>\n",
       "      <td>Westminster</td>\n",
       "      <td>3435</td>\n",
       "    </tr>\n",
       "  </tbody>\n",
       "</table>\n",
       "</div>"
      ],
      "text/plain": [
       "      Light_Conditions  Weather_Conditions District_Area  Accident_Count\n",
       "15638         Daylight  Fine no high winds    Birmingham            7662\n",
       "15809         Daylight  Fine no high winds         Leeds            5643\n",
       "15650         Daylight  Fine no high winds      Bradford            3808\n",
       "15822         Daylight  Fine no high winds    Manchester            3593\n",
       "16018         Daylight  Fine no high winds   Westminster            3435"
      ]
     },
     "execution_count": 34,
     "metadata": {},
     "output_type": "execute_result"
    }
   ],
   "source": [
    "combo_counts = (accident.groupby([\"Light_Conditions\", \"Weather_Conditions\", \"District_Area\"]).size().reset_index(name=\"Accident_Count\"))\n",
    "top_combo = combo_counts.sort_values(by=\"Accident_Count\", ascending=False).head(5)\n",
    "top_combo\n"
   ]
  },
  {
   "cell_type": "markdown",
   "id": "ef5da762-46dc-4bcf-8525-9acdbf30a8c1",
   "metadata": {},
   "source": [
    "<h2>Insight 14: Under daylight and fine weather conditions, Birmingham recorded the highest number of accidents (7,662), followed by Leeds, Bradford, Manchester, and Westminster, indicating that most incidents occur in favorable driving environments within major urban districts.</h2>"
   ]
  },
  {
   "cell_type": "markdown",
   "id": "7c7c5632-87e7-49ab-a1dc-b503ad87d0ff",
   "metadata": {},
   "source": [
    "<h1>8. What is the highest number of vehicles involved in an accident occurring on a dry road surface condition?</h1>"
   ]
  },
  {
   "cell_type": "code",
   "execution_count": 35,
   "id": "97c03a61-cba8-4f58-8aac-bcbd8c3f3afa",
   "metadata": {},
   "outputs": [
    {
     "data": {
      "text/plain": [
       "15"
      ]
     },
     "execution_count": 35,
     "metadata": {},
     "output_type": "execute_result"
    }
   ],
   "source": [
    "dry_accidents = accident[accident[\"Road_Surface_Conditions\"] == \"Dry\"]\n",
    "max_vehicles_dry = dry_accidents[\"Number_of_Vehicles\"].max()\n",
    "max_vehicles_dry"
   ]
  },
  {
   "cell_type": "markdown",
   "id": "bb6f3650-79da-4ec7-942d-f0e7be48c1f4",
   "metadata": {},
   "source": [
    "<h2>Insight 15: The highest number of vehicles involved in a single accident on a dry road surface was 15.</h2>"
   ]
  },
  {
   "cell_type": "markdown",
   "id": "d767115f-9dff-44c6-bcb0-415389c4a1ce",
   "metadata": {},
   "source": [
    "<h1>9. What is the fatality rate by weather condition?</h1>"
   ]
  },
  {
   "cell_type": "code",
   "execution_count": 36,
   "id": "0ae49397-0905-4ecf-9dc4-b965f58f29f1",
   "metadata": {},
   "outputs": [
    {
     "data": {
      "text/plain": [
       "Weather_Conditions\n",
       "Fog or mist              0.023243\n",
       "Fine + high winds        0.020458\n",
       "Raining + high winds     0.015081\n",
       "Fine no high winds       0.013631\n",
       "Raining no high winds    0.010640\n",
       "Other                    0.009621\n",
       "unaccounted              0.007574\n",
       "Snowing no high winds    0.005771\n",
       "Snowing + high winds     0.003390\n",
       "Name: count, dtype: float64"
      ]
     },
     "execution_count": 36,
     "metadata": {},
     "output_type": "execute_result"
    }
   ],
   "source": [
    "fatal_counts = accident[accident['Accident_Severity'] == 'Fatal']['Weather_Conditions'].value_counts()\n",
    "total_counts = accident['Weather_Conditions'].value_counts()\n",
    "fatality_rate = (fatal_counts / total_counts).sort_values(ascending=False)\n",
    "fatality_rate"
   ]
  },
  {
   "cell_type": "markdown",
   "id": "282c5ac7-e4a5-49b3-9e23-3bc782eaa32d",
   "metadata": {},
   "source": [
    "<h2>Insight 16: The fatality rate is highest during fog or mist conditions, suggesting reduced visibility significantly increases the risk of fatal accidents. Additionally, adverse weather combined with high winds also leads to higher fatality rates compared to calm weather conditions.</h2>"
   ]
  },
  {
   "cell_type": "markdown",
   "id": "16c0a8d5-c7ee-45e2-bdf8-9ad1329f479b",
   "metadata": {},
   "source": [
    "<h1>10. Is there a relationship between latitude and the number of casualties in accidents?</h1>"
   ]
  },
  {
   "cell_type": "code",
   "execution_count": 37,
   "id": "95fa47db-b2f1-444e-995f-82aa4cebaf25",
   "metadata": {},
   "outputs": [
    {
     "data": {
      "text/plain": [
       "np.float64(0.032201294649955)"
      ]
     },
     "execution_count": 37,
     "metadata": {},
     "output_type": "execute_result"
    }
   ],
   "source": [
    "corr_lat = accident[\"Latitude\"].corr(accident[\"Number_of_Casualties\"])\n",
    "corr_lat"
   ]
  },
  {
   "cell_type": "markdown",
   "id": "57602a66-05ac-47fd-8558-786cfb687228",
   "metadata": {},
   "source": [
    "<h2> Insight 17: Since the correlation between latitude and number of casualties is 0.032, the relationship is extremely weak and close to zero, meaning that latitude has almost no influence on the number of casualties in accident.\n",
    "</h2>"
   ]
  },
  {
   "cell_type": "markdown",
   "id": "20f4d7f9-768c-4a25-b786-1662b0ab96d5",
   "metadata": {},
   "source": [
    "<h1>11. Which road type has the highest number of fatal, serious, and slight accidents?</h1>"
   ]
  },
  {
   "cell_type": "code",
   "execution_count": 100,
   "id": "9953ff6f-9b74-4dbb-a5b9-d8d464b31163",
   "metadata": {},
   "outputs": [
    {
     "name": "stderr",
     "output_type": "stream",
     "text": [
      "C:\\Users\\Ria\\AppData\\Local\\Temp\\ipykernel_10708\\2617027337.py:1: FutureWarning: The default of observed=False is deprecated and will be changed to True in a future version of pandas. Pass observed=False to retain current behavior or observed=True to adopt the future default and silence this warning.\n",
      "  road_severity = ( accident.groupby([\"Road_Type\", \"Accident_Severity\"]).size().unstack())\n"
     ]
    },
    {
     "data": {
      "text/html": [
       "<div>\n",
       "<style scoped>\n",
       "    .dataframe tbody tr th:only-of-type {\n",
       "        vertical-align: middle;\n",
       "    }\n",
       "\n",
       "    .dataframe tbody tr th {\n",
       "        vertical-align: top;\n",
       "    }\n",
       "\n",
       "    .dataframe thead th {\n",
       "        text-align: right;\n",
       "    }\n",
       "</style>\n",
       "<table border=\"1\" class=\"dataframe\">\n",
       "  <thead>\n",
       "    <tr style=\"text-align: right;\">\n",
       "      <th>Accident_Severity</th>\n",
       "      <th>Fatal</th>\n",
       "      <th>Serious</th>\n",
       "      <th>Slight</th>\n",
       "    </tr>\n",
       "    <tr>\n",
       "      <th>Road_Type</th>\n",
       "      <th></th>\n",
       "      <th></th>\n",
       "      <th></th>\n",
       "    </tr>\n",
       "  </thead>\n",
       "  <tbody>\n",
       "    <tr>\n",
       "      <th>Dual carriageway</th>\n",
       "      <td>1815</td>\n",
       "      <td>11746</td>\n",
       "      <td>85863</td>\n",
       "    </tr>\n",
       "    <tr>\n",
       "      <th>One way street</th>\n",
       "      <td>95</td>\n",
       "      <td>1655</td>\n",
       "      <td>11809</td>\n",
       "    </tr>\n",
       "    <tr>\n",
       "      <th>Roundabout</th>\n",
       "      <td>142</td>\n",
       "      <td>3665</td>\n",
       "      <td>40185</td>\n",
       "    </tr>\n",
       "    <tr>\n",
       "      <th>Single carriageway</th>\n",
       "      <td>6527</td>\n",
       "      <td>70059</td>\n",
       "      <td>415557</td>\n",
       "    </tr>\n",
       "    <tr>\n",
       "      <th>Slip road</th>\n",
       "      <td>49</td>\n",
       "      <td>611</td>\n",
       "      <td>6381</td>\n",
       "    </tr>\n",
       "    <tr>\n",
       "      <th>unaccounted</th>\n",
       "      <td>33</td>\n",
       "      <td>481</td>\n",
       "      <td>4006</td>\n",
       "    </tr>\n",
       "  </tbody>\n",
       "</table>\n",
       "</div>"
      ],
      "text/plain": [
       "Accident_Severity   Fatal  Serious  Slight\n",
       "Road_Type                                 \n",
       "Dual carriageway     1815    11746   85863\n",
       "One way street         95     1655   11809\n",
       "Roundabout            142     3665   40185\n",
       "Single carriageway   6527    70059  415557\n",
       "Slip road              49      611    6381\n",
       "unaccounted            33      481    4006"
      ]
     },
     "execution_count": 100,
     "metadata": {},
     "output_type": "execute_result"
    }
   ],
   "source": [
    "road_severity = ( accident.groupby([\"Road_Type\", \"Accident_Severity\"]).size().unstack())\n",
    "road_severity"
   ]
  },
  {
   "cell_type": "code",
   "execution_count": 102,
   "id": "aad37753-959b-4c18-86d9-39f6602fc5fd",
   "metadata": {},
   "outputs": [
    {
     "data": {
      "image/png": "[encoded data removed]",
      "text/plain": [
       "<Figure size 1200x600 with 1 Axes>"
      ]
     },
     "metadata": {},
     "output_type": "display_data"
    }
   ],
   "source": [
    "road_severity.plot(kind=\"bar\", figsize=(12,6))\n",
    "plt.title(\"Accident Counts by Road Type and Severity\")\n",
    "plt.xlabel(\"Road Type\")\n",
    "plt.ylabel(\"Number of Accidents\")\n",
    "plt.xticks(rotation=45)\n",
    "plt.show()\n"
   ]
  },
  {
   "cell_type": "markdown",
   "id": "daec399b-8f3b-453f-aa1f-f8550a239528",
   "metadata": {},
   "source": [
    "<h2>Insight 18: Single carriageways account for the highest number of accidents overall, with slight accidents (415,557) dominating, followed by serious (70,059) and fatal (6,527).</h2>"
   ]
  },
  {
   "cell_type": "markdown",
   "id": "1b5849dd-a9b8-4b17-849a-31c7eee8c318",
   "metadata": {},
   "source": [
    "<h2>Insight 19: In contrast, road types like slip roads and one-way streets show significantly fewer accidents.</h2>"
   ]
  },
  {
   "cell_type": "code",
   "execution_count": 60,
   "id": "1a6058f3-6056-4cb5-a07b-a74c7ba53fe0",
   "metadata": {},
   "outputs": [
    {
     "data": {
      "text/plain": [
       "['Kensington and Chelsea', 'Westminster', 'Richmond upon Thames', 'Hammersmith and Fulham', 'Hounslow', ..., 'County Durham', 'Shropshire', 'Central Bedfordshire', 'Cornwall', 'Wiltshire']\n",
       "Length: 422\n",
       "Categories (422, object): ['Aberdeen City', 'Aberdeenshire', 'Adur', 'Allerdale', ..., 'Wycombe', 'Wyre', 'Wyre Forest', 'York']"
      ]
     },
     "execution_count": 60,
     "metadata": {},
     "output_type": "execute_result"
    }
   ],
   "source": [
    "accident['District_Area'].unique()"
   ]
  },
  {
   "cell_type": "markdown",
   "id": "54d6dcb1-7379-4484-b3d9-c2edc2094afe",
   "metadata": {},
   "source": [
    "<h1>12. In 2021, how many fatal accidents happened in Shropshire? </h1>"
   ]
  },
  {
   "cell_type": "code",
   "execution_count": 65,
   "id": "c184cb2b-be75-445e-bcfd-0e818477f0f8",
   "metadata": {},
   "outputs": [],
   "source": [
    "shro = accident['District_Area'] ==  'Shropshire'\n",
    "fatal_acc = accident['Accident_Severity'] == 'Fatal'\n",
    "year_2021 = accident['Year'] == 2021"
   ]
  },
  {
   "cell_type": "code",
   "execution_count": 66,
   "id": "7258c69f-4eea-47e2-b00b-4ec438e96c5d",
   "metadata": {},
   "outputs": [
    {
     "data": {
      "text/plain": [
       "np.int64(20)"
      ]
     },
     "execution_count": 66,
     "metadata": {},
     "output_type": "execute_result"
    }
   ],
   "source": [
    "shro_21 = (year_2021 & fatal_acc & shro).sum()\n",
    "shro_21"
   ]
  },
  {
   "cell_type": "markdown",
   "id": "6ed23798-9995-4e69-83d3-41cf99ec344a",
   "metadata": {},
   "source": [
    "<h2>Insight 20: In 2021, there were 20 fatal accidents recorded in the District of Shropshire,</h2>"
   ]
  },
  {
   "cell_type": "markdown",
   "id": "264ad235-5679-4216-a51a-c19fb5d68026",
   "metadata": {},
   "source": [
    "<h1>13. Comparing the Total accidents in rural and urban areas by year (2019–2022)</h1>"
   ]
  },
  {
   "cell_type": "code",
   "execution_count": 90,
   "id": "3b184bd0-c0bb-4d83-9bfb-0d53d9a6b2bf",
   "metadata": {},
   "outputs": [
    {
     "data": {
      "text/plain": [
       "Urban_or_Rural_Area\n",
       "Urban          114552\n",
       "Rural           67558\n",
       "Unallocated         5\n",
       "Name: count, dtype: int64"
      ]
     },
     "execution_count": 90,
     "metadata": {},
     "output_type": "execute_result"
    }
   ],
   "source": [
    "acc_2019=accident[accident['Year'] == 2019]['Urban_or_Rural_Area'].value_counts()\n",
    "acc_2019"
   ]
  },
  {
   "cell_type": "code",
   "execution_count": 91,
   "id": "48f6c1ae-cb50-4d20-b3d0-01ab08130dcb",
   "metadata": {},
   "outputs": [
    {
     "data": {
      "text/plain": [
       "Urban_or_Rural_Area\n",
       "Urban          108594\n",
       "Rural           61991\n",
       "Unallocated         6\n",
       "Name: count, dtype: int64"
      ]
     },
     "execution_count": 91,
     "metadata": {},
     "output_type": "execute_result"
    }
   ],
   "source": [
    "acc_2020=accident[accident['Year'] == 2020]['Urban_or_Rural_Area'].value_counts()\n",
    "acc_2020"
   ]
  },
  {
   "cell_type": "code",
   "execution_count": 92,
   "id": "8e42b51c-6ec3-4e3b-94df-9489714fb89d",
   "metadata": {},
   "outputs": [
    {
     "data": {
      "text/plain": [
       "Urban_or_Rural_Area\n",
       "Urban          104538\n",
       "Rural           59016\n",
       "Unallocated         0\n",
       "Name: count, dtype: int64"
      ]
     },
     "execution_count": 92,
     "metadata": {},
     "output_type": "execute_result"
    }
   ],
   "source": [
    "acc_2021=accident[accident['Year'] == 2021]['Urban_or_Rural_Area'].value_counts()\n",
    "acc_2021"
   ]
  },
  {
   "cell_type": "code",
   "execution_count": 93,
   "id": "5559b657-5ba6-4b9d-ad21-0abec31d44ce",
   "metadata": {},
   "outputs": [
    {
     "data": {
      "text/plain": [
       "Urban_or_Rural_Area\n",
       "Urban          93994\n",
       "Rural          50425\n",
       "Unallocated        0\n",
       "Name: count, dtype: int64"
      ]
     },
     "execution_count": 93,
     "metadata": {},
     "output_type": "execute_result"
    }
   ],
   "source": [
    "acc_2022=accident[accident['Year'] == 2022]['Urban_or_Rural_Area'].value_counts()\n",
    "acc_2022"
   ]
  },
  {
   "cell_type": "markdown",
   "id": "9e2f6923-71f6-4fa9-8280-9d0567e8bb01",
   "metadata": {},
   "source": [
    "<h2>Insight 21: The year 2019 recorded the highest number of accidents in both rural and urban areas, and the year 2022 holds the lowest recorded accidents</h2>"
   ]
  },
  {
   "cell_type": "markdown",
   "id": "098aafe0-a8d4-4f66-806f-04b0d7b9751d",
   "metadata": {},
   "source": [
    "<h1>14. Did the number of accidents in rural and urban areas decrease from 2019 to 2022?</h1>"
   ]
  },
  {
   "cell_type": "code",
   "execution_count": 104,
   "id": "5375edf0-20a5-4daa-9f96-782e4bfec7de",
   "metadata": {},
   "outputs": [
    {
     "name": "stderr",
     "output_type": "stream",
     "text": [
      "C:\\Users\\Ria\\AppData\\Local\\Temp\\ipykernel_10708\\4204906694.py:1: FutureWarning: The default of observed=False is deprecated and will be changed to True in a future version of pandas. Pass observed=False to retain current behavior or observed=True to adopt the future default and silence this warning.\n",
      "  accident_summary = accident.groupby([\"Year\", \"Urban_or_Rural_Area\"]).size().unstack()\n"
     ]
    },
    {
     "data": {
      "text/html": [
       "<div>\n",
       "<style scoped>\n",
       "    .dataframe tbody tr th:only-of-type {\n",
       "        vertical-align: middle;\n",
       "    }\n",
       "\n",
       "    .dataframe tbody tr th {\n",
       "        vertical-align: top;\n",
       "    }\n",
       "\n",
       "    .dataframe thead th {\n",
       "        text-align: right;\n",
       "    }\n",
       "</style>\n",
       "<table border=\"1\" class=\"dataframe\">\n",
       "  <thead>\n",
       "    <tr style=\"text-align: right;\">\n",
       "      <th>Urban_or_Rural_Area</th>\n",
       "      <th>Rural</th>\n",
       "      <th>Unallocated</th>\n",
       "      <th>Urban</th>\n",
       "    </tr>\n",
       "    <tr>\n",
       "      <th>Year</th>\n",
       "      <th></th>\n",
       "      <th></th>\n",
       "      <th></th>\n",
       "    </tr>\n",
       "  </thead>\n",
       "  <tbody>\n",
       "    <tr>\n",
       "      <th>2019</th>\n",
       "      <td>67558</td>\n",
       "      <td>5</td>\n",
       "      <td>114552</td>\n",
       "    </tr>\n",
       "    <tr>\n",
       "      <th>2020</th>\n",
       "      <td>61991</td>\n",
       "      <td>6</td>\n",
       "      <td>108594</td>\n",
       "    </tr>\n",
       "    <tr>\n",
       "      <th>2021</th>\n",
       "      <td>59016</td>\n",
       "      <td>0</td>\n",
       "      <td>104538</td>\n",
       "    </tr>\n",
       "    <tr>\n",
       "      <th>2022</th>\n",
       "      <td>50425</td>\n",
       "      <td>0</td>\n",
       "      <td>93994</td>\n",
       "    </tr>\n",
       "  </tbody>\n",
       "</table>\n",
       "</div>"
      ],
      "text/plain": [
       "Urban_or_Rural_Area  Rural  Unallocated   Urban\n",
       "Year                                           \n",
       "2019                 67558            5  114552\n",
       "2020                 61991            6  108594\n",
       "2021                 59016            0  104538\n",
       "2022                 50425            0   93994"
      ]
     },
     "execution_count": 104,
     "metadata": {},
     "output_type": "execute_result"
    }
   ],
   "source": [
    "accident_summary = accident.groupby([\"Year\", \"Urban_or_Rural_Area\"]).size().unstack()\n",
    "accident_summary"
   ]
  },
  {
   "cell_type": "code",
   "execution_count": 99,
   "id": "125d647a-35db-48b5-8e0d-9855a8f19bd1",
   "metadata": {},
   "outputs": [
    {
     "data": {
      "image/png": "[encoded data removed]",
      "text/plain": [
       "<Figure size 1000x600 with 1 Axes>"
      ]
     },
     "metadata": {},
     "output_type": "display_data"
    }
   ],
   "source": [
    "accident_summary.plot(kind=\"bar\", figsize=(10,6))\n",
    "plt.title(\"Urban vs Rural Accidents (2019–2022)\")\n",
    "plt.xlabel(\"Year\")\n",
    "plt.ylabel(\"Number of Accidents\")\n",
    "plt.legend(title=\"Area Type\")\n",
    "plt.show()"
   ]
  },
  {
   "cell_type": "markdown",
   "id": "eb3f4a61-3015-4cc7-a083-e70a7c9c4be8",
   "metadata": {},
   "source": [
    "<h1>Insight 22: Accident counts in both rural and urban areas show a consistent decrease from 2019 to 2022.</h1>"
   ]
  },
  {
   "cell_type": "markdown",
   "id": "7cab1dbb-8b84-4b8d-b0d3-135856e23095",
   "metadata": {},
   "source": [
    "<h1>15. Frequent latitude and longitude throughout the years.</h1>"
   ]
  },
  {
   "cell_type": "code",
   "execution_count": 135,
   "id": "eb489de2-8460-41e6-a123-e0ada3fc97cb",
   "metadata": {},
   "outputs": [
    {
     "data": {
      "text/plain": [
       "Latitude\n",
       "52.458798    75\n",
       "52.949719    45\n",
       "53.083165    33\n",
       "52.967634    31\n",
       "52.938860    29\n",
       "             ..\n",
       "60.648412     1\n",
       "60.665748     1\n",
       "60.668921     1\n",
       "60.714772     1\n",
       "50.022208     1\n",
       "Name: count, Length: 511618, dtype: int64"
      ]
     },
     "execution_count": 135,
     "metadata": {},
     "output_type": "execute_result"
    }
   ],
   "source": [
    "#latritude\n",
    "top_latitudes = accident[\"Latitude\"].value_counts()\n",
    "top_latitudes"
   ]
  },
  {
   "cell_type": "code",
   "execution_count": 136,
   "id": "655073d2-79a3-427a-8ee2-7ab029aa2a40",
   "metadata": {},
   "outputs": [
    {
     "data": {
      "text/plain": [
       "np.float64(52.458798)"
      ]
     },
     "execution_count": 136,
     "metadata": {},
     "output_type": "execute_result"
    }
   ],
   "source": [
    "# checking\n",
    "top_lat = accident[\"Latitude\"].mode()[0]\n",
    "top_lat"
   ]
  },
  {
   "cell_type": "markdown",
   "id": "8667858b-8e1e-48ed-a16f-4a7aa5780b34",
   "metadata": {},
   "source": [
    "<h2>Insight 23: The most frequent accident latitude is 52.458798 with 75 occurrences.</h2>"
   ]
  },
  {
   "cell_type": "code",
   "execution_count": 137,
   "id": "31251c05-83ec-4294-bb55-6bbb1ba05667",
   "metadata": {},
   "outputs": [
    {
     "data": {
      "text/plain": [
       "Longitude\n",
       "-0.977611    71\n",
       "-1.871043    36\n",
       "-0.816789    33\n",
       "-1.190861    31\n",
       "-1.216694    29\n",
       "             ..\n",
       " 1.755230     1\n",
       " 1.755279     1\n",
       " 1.755417     1\n",
       " 1.755432     1\n",
       " 1.755455     1\n",
       "Name: count, Length: 529766, dtype: int64"
      ]
     },
     "execution_count": 137,
     "metadata": {},
     "output_type": "execute_result"
    }
   ],
   "source": [
    "#longitude\n",
    "top_longitudes = accident[\"Longitude\"].value_counts()\n",
    "top_longitudes"
   ]
  },
  {
   "cell_type": "code",
   "execution_count": 138,
   "id": "624c7180-9bae-4fb8-8d0c-ee56f6de3d40",
   "metadata": {},
   "outputs": [
    {
     "data": {
      "text/plain": [
       "np.float64(-0.977611)"
      ]
     },
     "execution_count": 138,
     "metadata": {},
     "output_type": "execute_result"
    }
   ],
   "source": [
    "# checking\n",
    "top_lon = accident[\"Longitude\"].mode()[0]\n",
    "top_lon"
   ]
  },
  {
   "cell_type": "markdown",
   "id": "942e0fe0-5f2d-4a46-a099-b6328ebf9d26",
   "metadata": {},
   "source": [
    "<h2>Insight 24: The most frequent accident longitude is -0.977611 with 71 occurrences.</h2>"
   ]
  },
  {
   "cell_type": "markdown",
   "id": "c05fae07-7a4d-442a-ba46-d3b1c38d5ec3",
   "metadata": {},
   "source": [
    "<h1>16. How many accidents involved more than 10 vehicles?</h1>"
   ]
  },
  {
   "cell_type": "code",
   "execution_count": 142,
   "id": "a29154a0-ff11-421a-a1d7-c915e2482daa",
   "metadata": {},
   "outputs": [
    {
     "data": {
      "text/plain": [
       "np.int64(42)"
      ]
     },
     "execution_count": 142,
     "metadata": {},
     "output_type": "execute_result"
    }
   ],
   "source": [
    "ten = (accident[\"Number_of_Vehicles\"] > 10).sum()\n",
    "ten\n"
   ]
  },
  {
   "cell_type": "markdown",
   "id": "21af5565-20b1-4d34-9e6c-e42aee3da764",
   "metadata": {},
   "source": [
    "<h2>Insight 25: A total of 42 accidents involved more than 10 vehicles</h2>"
   ]
  },
  {
   "cell_type": "markdown",
   "id": "8174e2b5-6470-4cca-889c-0e8fae3dd75f",
   "metadata": {},
   "source": [
    "<h1>17. Number of vehicles invloved in accidents</h1>"
   ]
  },
  {
   "cell_type": "code",
   "execution_count": 143,
   "id": "bed1a79f-5117-46be-b314-1001c05f5060",
   "metadata": {},
   "outputs": [
    {
     "data": {
      "text/plain": [
       "Number_of_Vehicles\n",
       "2     391995\n",
       "1     200787\n",
       "3      52806\n",
       "4      11300\n",
       "5       2464\n",
       "6        758\n",
       "7        296\n",
       "8        147\n",
       "9         57\n",
       "10        27\n",
       "11        12\n",
       "14         9\n",
       "12         7\n",
       "13         6\n",
       "16         4\n",
       "28         1\n",
       "15         1\n",
       "32         1\n",
       "19         1\n",
       "Name: count, dtype: int64"
      ]
     },
     "execution_count": 143,
     "metadata": {},
     "output_type": "execute_result"
    }
   ],
   "source": [
    "vehicle_counts = accident[\"Number_of_Vehicles\"].value_counts()\n",
    "vehicle_counts"
   ]
  },
  {
   "cell_type": "code",
   "execution_count": 148,
   "id": "e50ef805-621b-4b03-839f-2602417a9624",
   "metadata": {},
   "outputs": [
    {
     "data": {
      "image/png": "[encoded data removed]",
      "text/plain": [
       "<Figure size 800x800 with 1 Axes>"
      ]
     },
     "metadata": {},
     "output_type": "display_data"
    }
   ],
   "source": [
    "plt.figure(figsize=(8,8))\n",
    "vehicle_counts.plot(kind=\"pie\", autopct=\"%1.1f%%\")\n",
    "plt.title(\"Number of Vehicles Involved in Accidents\")\n",
    "plt.ylabel(\"Number of Accidents\")  \n",
    "plt.show()\n"
   ]
  },
  {
   "cell_type": "markdown",
   "id": "275de178-6d91-465d-8137-db573ba7c396",
   "metadata": {},
   "source": [
    "<h2>Insight 26: Most accidents involve 2 vehicles (59.3%), followed by single-vehicle accidents (30.4%).</h2>"
   ]
  }
 ],
 "metadata": {
  "kernelspec": {
   "display_name": "Python 3 (ipykernel)",
   "language": "python",
   "name": "python3"
  },
  "language_info": {
   "codemirror_mode": {
    "name": "ipython",
    "version": 3
   },
   "file_extension": ".py",
   "mimetype": "text/x-python",
   "name": "python",
   "nbconvert_exporter": "python",
   "pygments_lexer": "ipython3",
   "version": "3.13.5"
  }
 },
 "nbformat": 4,
 "nbformat_minor": 5
}
